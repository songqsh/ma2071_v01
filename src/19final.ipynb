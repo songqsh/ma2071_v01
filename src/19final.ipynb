{
  "nbformat": 4,
  "nbformat_minor": 0,
  "metadata": {
    "kernelspec": {
      "display_name": "Python 3",
      "language": "python",
      "name": "python3"
    },
    "language_info": {
      "codemirror_mode": {
        "name": "ipython",
        "version": 3
      },
      "file_extension": ".py",
      "mimetype": "text/x-python",
      "name": "python",
      "nbconvert_exporter": "python",
      "pygments_lexer": "ipython3",
      "version": "3.7.4"
    },
    "colab": {
      "name": "19final.ipynb",
      "provenance": [],
      "include_colab_link": true
    }
  },
  "cells": [
    {
      "cell_type": "markdown",
      "metadata": {
        "id": "view-in-github",
        "colab_type": "text"
      },
      "source": [
        "<a href=\"https://colab.research.google.com/github/songqsh/ma2071_v01/blob/master/src/19final.ipynb\" target=\"_parent\"><img src=\"https://colab.research.google.com/assets/colab-badge.svg\" alt=\"Open In Colab\"/></a>"
      ]
    },
    {
      "cell_type": "markdown",
      "metadata": {
        "id": "K59OXcqU1G1l"
      },
      "source": [
        "# 19 Final\n",
        "[pdf](../doc/19final_a_v01.pdf)"
      ]
    },
    {
      "cell_type": "code",
      "metadata": {
        "id": "IUS1krow1G1p"
      },
      "source": [
        "import numpy as np\n",
        "import numpy.linalg as la"
      ],
      "execution_count": null,
      "outputs": []
    },
    {
      "cell_type": "markdown",
      "metadata": {
        "id": "R1es3EEh1G1q"
      },
      "source": [
        "- Matrix $A = [a_1, a_2, a_3]$"
      ]
    },
    {
      "cell_type": "code",
      "metadata": {
        "id": "HfqeJ_oj1G1q",
        "outputId": "3b60a2b6-2fb9-43c2-c3fb-4a48964b9fd2"
      },
      "source": [
        "A = np.array([[0, -1, 0], [-1, 0, 0], [-1,-1,1]])\n",
        "a1 = A[:,0]\n",
        "a2 = A[:,1]\n",
        "a3 = A[:,2]\n",
        "print(A)"
      ],
      "execution_count": null,
      "outputs": [
        {
          "output_type": "stream",
          "text": [
            "[[ 0 -1  0]\n",
            " [-1  0  0]\n",
            " [-1 -1  1]]\n"
          ],
          "name": "stdout"
        }
      ]
    },
    {
      "cell_type": "markdown",
      "metadata": {
        "id": "uqHka9h51G1s"
      },
      "source": [
        "- Find $A^2$"
      ]
    },
    {
      "cell_type": "code",
      "metadata": {
        "id": "e_fDZgUH1G1s",
        "outputId": "f99001b9-f302-4abc-97a2-a125dd9d9164"
      },
      "source": [
        "ans = np.matmul(A,A)\n",
        "print(ans)"
      ],
      "execution_count": null,
      "outputs": [
        {
          "output_type": "stream",
          "text": [
            "[[1 0 0]\n",
            " [0 1 0]\n",
            " [0 0 1]]\n"
          ],
          "name": "stdout"
        }
      ]
    },
    {
      "cell_type": "markdown",
      "metadata": {
        "id": "ZwgAZ1261G1t"
      },
      "source": [
        "- Is $a_2 \\perp a_3$?"
      ]
    },
    {
      "cell_type": "code",
      "metadata": {
        "id": "lDb2JFPd1G1t",
        "outputId": "6d9ec490-3633-4139-fbb9-6c22f880dbcf"
      },
      "source": [
        "ans = np.dot(a2, a3)\n",
        "print(ans)\n",
        "if ans == 0:\n",
        "    print('yes')\n",
        "else:\n",
        "    print('no')"
      ],
      "execution_count": null,
      "outputs": [
        {
          "output_type": "stream",
          "text": [
            "-1\n",
            "no\n"
          ],
          "name": "stdout"
        }
      ]
    },
    {
      "cell_type": "markdown",
      "metadata": {
        "id": "2o5GFXsi1G1u"
      },
      "source": [
        "- Find inverse of $A$"
      ]
    },
    {
      "cell_type": "code",
      "metadata": {
        "id": "TvxBogTx1G1v",
        "outputId": "1423172f-f786-4d70-8e66-08d9566dfe7f"
      },
      "source": [
        "ans = la.inv(A)\n",
        "print(ans)"
      ],
      "execution_count": null,
      "outputs": [
        {
          "output_type": "stream",
          "text": [
            "[[-0. -1. -0.]\n",
            " [-1. -0. -0.]\n",
            " [-1. -1.  1.]]\n"
          ],
          "name": "stdout"
        }
      ]
    },
    {
      "cell_type": "markdown",
      "metadata": {
        "id": "Nohd9BTv1G1v"
      },
      "source": [
        "- deteminant of $A$"
      ]
    },
    {
      "cell_type": "code",
      "metadata": {
        "id": "ccA7XaOi1G1w",
        "outputId": "efe6515c-deb0-49d9-f0ef-a10002a6f8d0"
      },
      "source": [
        "ans1 = la.det(A)\n",
        "ans2 = la.matrix_rank(A)\n",
        "print(f'determinant is {ans1}, \\n and rank is {ans2}')"
      ],
      "execution_count": null,
      "outputs": [
        {
          "output_type": "stream",
          "text": [
            "determinant is -1.0, \n",
            " and rank is 3\n"
          ],
          "name": "stdout"
        }
      ]
    },
    {
      "cell_type": "markdown",
      "metadata": {
        "id": "WCuvfD2V1G1w"
      },
      "source": [
        "- compute eigenvalue and eigenspace"
      ]
    },
    {
      "cell_type": "code",
      "metadata": {
        "id": "lgZRdiVn1G1x",
        "outputId": "63e0285b-5e1f-4d4f-a9c3-6f43cfcc5912"
      },
      "source": [
        "ans1, ans2 = la.eig(A)\n",
        "print(f'eigenvalues are {ans1} \\n and eigenspaces are \\n {ans2}')"
      ],
      "execution_count": null,
      "outputs": [
        {
          "output_type": "stream",
          "text": [
            "eigenvalues are [ 1.  1. -1.] \n",
            " and eigenspaces are \n",
            " [[ 0.         -0.70710678  0.57735027]\n",
            " [ 0.          0.70710678  0.57735027]\n",
            " [ 1.          0.          0.57735027]]\n"
          ],
          "name": "stdout"
        }
      ]
    },
    {
      "cell_type": "markdown",
      "metadata": {
        "id": "QHHc0-EG1G1x"
      },
      "source": [
        "- diagonalize $A$, i.e. $A = PDP^{-1}$."
      ]
    },
    {
      "cell_type": "code",
      "metadata": {
        "id": "h4fkixqK1G1x",
        "outputId": "8a37b029-332a-4044-96ee-4b659447d367"
      },
      "source": [
        "D = np.diag(ans1)\n",
        "P = ans2\n",
        "#P@D@la.inv(P) #check\n",
        "print(f' D is \\n {D}, \\n P is \\n {P}')"
      ],
      "execution_count": null,
      "outputs": [
        {
          "output_type": "stream",
          "text": [
            " D is \n",
            " [[ 1.  0.  0.]\n",
            " [ 0.  1.  0.]\n",
            " [ 0.  0. -1.]], \n",
            " P is \n",
            " [[ 0.         -0.70710678  0.57735027]\n",
            " [ 0.          0.70710678  0.57735027]\n",
            " [ 1.          0.          0.57735027]]\n"
          ],
          "name": "stdout"
        }
      ]
    },
    {
      "cell_type": "markdown",
      "metadata": {
        "id": "RROJnrtt1G1y"
      },
      "source": [
        "- Project $a_2$ on $a_3$"
      ]
    },
    {
      "cell_type": "code",
      "metadata": {
        "id": "UKEU3j_n1G1y",
        "outputId": "9d6d52dd-b879-43c5-9588-e9fcd45d9003"
      },
      "source": [
        "a3n = a3/la.norm(a3)\n",
        "ans = np.dot(A[:,1], a3n)*a3n\n",
        "print(ans)"
      ],
      "execution_count": null,
      "outputs": [
        {
          "output_type": "stream",
          "text": [
            "[-0. -0. -1.]\n"
          ],
          "name": "stdout"
        }
      ]
    },
    {
      "cell_type": "markdown",
      "metadata": {
        "id": "j9Ec20H_1G1z"
      },
      "source": [
        "- project $a_1$ to $span(a_2, a_3)$"
      ]
    },
    {
      "cell_type": "code",
      "metadata": {
        "id": "bx3d41mX1G1z",
        "outputId": "e165fbcb-57b8-4605-9761-ff3fb4c6f62f"
      },
      "source": [
        "a2p = a2 - ans\n",
        "a2n = a2p/la.norm(a2p)\n",
        "prj = np.dot(a1, a2n)*a2n+np.dot(a1,a3n)*a3n\n",
        "print(prj)"
      ],
      "execution_count": null,
      "outputs": [
        {
          "output_type": "stream",
          "text": [
            "[-0.  0. -1.]\n"
          ],
          "name": "stdout"
        }
      ]
    },
    {
      "cell_type": "code",
      "metadata": {
        "id": "Z9VZ1QAA1G10",
        "outputId": "d733da6a-e580-430f-f5c9-4441c2a2851a"
      },
      "source": [
        "#alternative method\n",
        "B = A[:, 1:]\n",
        "prj1 = B@la.inv(np.transpose(B)@B)@np.transpose(B)@a1\n",
        "print(prj1)"
      ],
      "execution_count": null,
      "outputs": [
        {
          "output_type": "stream",
          "text": [
            "[ 0.  0. -1.]\n"
          ],
          "name": "stdout"
        }
      ]
    },
    {
      "cell_type": "markdown",
      "metadata": {
        "id": "Q38lM8O21G10"
      },
      "source": [
        "- find $A^{2019}$"
      ]
    },
    {
      "cell_type": "code",
      "metadata": {
        "id": "_dKnffmG1G10",
        "outputId": "6aa3eaca-a880-477e-c189-cf63145398fa"
      },
      "source": [
        "print(la.matrix_power(A,2019))"
      ],
      "execution_count": null,
      "outputs": [
        {
          "output_type": "stream",
          "text": [
            "[[ 0 -1  0]\n",
            " [-1  0  0]\n",
            " [-1 -1  1]]\n"
          ],
          "name": "stdout"
        }
      ]
    },
    {
      "cell_type": "code",
      "metadata": {
        "id": "CeGYa35e1G11"
      },
      "source": [
        ""
      ],
      "execution_count": null,
      "outputs": []
    }
  ]
}