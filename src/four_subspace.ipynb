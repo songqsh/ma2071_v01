{
  "nbformat": 4,
  "nbformat_minor": 0,
  "metadata": {
    "colab": {
      "name": "four_subspace.ipynb",
      "version": "0.3.2",
      "provenance": [],
      "include_colab_link": true
    },
    "kernelspec": {
      "name": "python3",
      "display_name": "Python 3"
    }
  },
  "cells": [
    {
      "cell_type": "markdown",
      "metadata": {
        "id": "view-in-github",
        "colab_type": "text"
      },
      "source": [
        "<a href=\"https://colab.research.google.com/github/songqsh/ma2071_v01/blob/master/src/four_subspace.ipynb\" target=\"_parent\"><img src=\"https://colab.research.google.com/assets/colab-badge.svg\" alt=\"Open In Colab\"/></a>"
      ]
    },
    {
      "metadata": {
        "id": "BVauuVc5FNMT",
        "colab_type": "code",
        "colab": {}
      },
      "cell_type": "code",
      "source": [
        "'''================\n",
        "Environmental python setup adapted for linear algebra on colab\n",
        "==================='''\n",
        "\n",
        "from sympy import init_printing, Matrix, symbols, eye, printing\n",
        "def custom_latex_printer(exp,**options):\n",
        "    from google.colab.output._publish import javascript\n",
        "    url = \"https://cdnjs.cloudflare.com/ajax/libs/mathjax/2.7.3/latest.js?config=default\"\n",
        "    javascript(url=url)\n",
        "    return printing.latex(exp,**options)\n",
        "init_printing(use_latex=\"mathjax\",latex_printer=custom_latex_printer)\n",
        "lamda = symbols('lamda') # Note that lambda is a reserved word in python, so we use lamda (without the b)"
      ],
      "execution_count": 0,
      "outputs": []
    },
    {
      "metadata": {
        "id": "NX4dkkTNE48q",
        "colab_type": "text"
      },
      "cell_type": "markdown",
      "source": [
        "# The four fundamental subspaces\n",
        "# Introducing the matrix space\n",
        "\n",
        "## The four fundamental subspaces\n",
        "\n",
        "* Columnspace, C(A)\n",
        "* Nullspace, N(A)\n",
        "* Rowspaces\n",
        "    * All linear combinations of rows\n",
        "    * All the linear combinations of the colums of A<sup>T</sup>, C(A<sup>T</sup>)\n",
        "* Nullspace of A<sup>T</sup>, N(A<sup>T</sup>) (the left nullspace of A)\n",
        "\n"
      ]
    },
    {
      "metadata": {
        "id": "3rqLW_j579qL",
        "colab_type": "text"
      },
      "cell_type": "markdown",
      "source": [
        "## Where are these spaces for a matrix A<sub>m&#215;n</sub>?\n",
        "\n",
        "* C(A) is in &#8477;<sup>m</sup>\n",
        "* N(A) is in &#8477;<sup>n</sup>\n",
        "* C(A<sup>T</sup>) is in &#8477;<sup>n</sup>\n",
        "* N(A<sup>T</sup>) is in &#8477;<sup>m</sup>\n",
        "\n",
        "## Calculating basis and dimension\n",
        "\n",
        "### For C(A)\n",
        "\n",
        "* The bases are the columns of $A$ corresponding to its  __pivot columns__  of the echlon form.\n",
        "* The dimension is the rank *r*\n",
        "\n",
        "### For N(A)\n",
        "\n",
        "* The bases are the special solutions (one for every free variable, *n* - *r*)\n",
        "* The dimension is *n* - *r*\n",
        "\n",
        "### For C(A<sup>T</sup>)\n",
        "\n",
        "* If A undergoes row reduction to row echelon form (R), then \n",
        "  - __Caution:__ C(R) &#8800; C(A), \n",
        "  - but rowspace(R) = rowspace(A) (or C(R<sup>T</sup>) = C(A<sup>T</sup>))\n",
        "* A basis for the rowspace of A (or R) is the first *r* rows of R\n",
        "    * So we row reduce A and take the pivot rows and transpose them\n",
        "* The dimension is also equal to the rank *r*\n",
        "\n",
        "### For N(A<sup>T</sup>)\n",
        "\n",
        "* It is also called the left null space, because it ends up on the left (as seen below)\n",
        "* Here we have A<sup>T</sup>**y** = **0**\n",
        "    * **y**<sup>T</sup>(A<sup>T</sup>)<sup>T</sup> = **0**<sup>T</sup>\n",
        "    * **y**<sup>T</sup>A = **0**<sup>T</sup>\n",
        "    * This is (again) the pivot columns of A<sup>T</sup> (after row reduction)\n",
        "* The dimension is *m* - *r*"
      ]
    },
    {
      "metadata": {
        "id": "XGjonM8BH-49",
        "colab_type": "text"
      },
      "cell_type": "markdown",
      "source": [
        "## Example problems\n",
        "\n",
        "### Consider this example matrix and calculate the bases and dimension for all four fundamental spaces"
      ]
    },
    {
      "metadata": {
        "id": "-zuq4DRVH-IR",
        "colab_type": "code",
        "outputId": "9b066f81-e32d-425a-f946-b482e6c48eb9",
        "colab": {
          "base_uri": "https://localhost:8080/",
          "height": 113
        }
      },
      "cell_type": "code",
      "source": [
        "'''========\n",
        "We note that rows 1 and three are identical and that\n",
        "columns 3 is the addtion of columns 1 and 2 and column 1 equals column 4\n",
        "==========''' \n",
        "A = Matrix([[1, 2, 3, 1], [1, 1, 2, 1], [1, 2, 3, 1]]) \n",
        "A"
      ],
      "execution_count": 2,
      "outputs": [
        {
          "output_type": "display_data",
          "data": {
            "text/html": [
              "<script src='https://cdnjs.cloudflare.com/ajax/libs/mathjax/2.7.3/latest.js?config=default'></script>"
            ],
            "text/plain": [
              "<IPython.core.display.HTML object>"
            ]
          },
          "metadata": {
            "tags": []
          }
        },
        {
          "output_type": "execute_result",
          "data": {
            "text/latex": "$$\\left[\\begin{matrix}1 & 2 & 3 & 1\\\\1 & 1 & 2 & 1\\\\1 & 2 & 3 & 1\\end{matrix}\\right]$$",
            "text/plain": [
              "⎡1  2  3  1⎤\n",
              "⎢          ⎥\n",
              "⎢1  1  2  1⎥\n",
              "⎢          ⎥\n",
              "⎣1  2  3  1⎦"
            ]
          },
          "metadata": {
            "tags": []
          },
          "execution_count": 2
        }
      ]
    },
    {
      "metadata": {
        "id": "Uv0PICr3If6F",
        "colab_type": "text"
      },
      "cell_type": "markdown",
      "source": [
        "#### Columnspace"
      ]
    },
    {
      "metadata": {
        "id": "Oba90JNGE0Bm",
        "colab_type": "code",
        "outputId": "4b3bff12-5680-442b-92df-84062d668dae",
        "colab": {
          "base_uri": "https://localhost:8080/",
          "height": 113
        }
      },
      "cell_type": "code",
      "source": [
        "'''==============\n",
        "the pivot columns of the echelon form below is 1st and 2nd columsn\n",
        "==============='''\n",
        "A.rref()"
      ],
      "execution_count": 3,
      "outputs": [
        {
          "output_type": "display_data",
          "data": {
            "text/html": [
              "<script src='https://cdnjs.cloudflare.com/ajax/libs/mathjax/2.7.3/latest.js?config=default'></script>"
            ],
            "text/plain": [
              "<IPython.core.display.HTML object>"
            ]
          },
          "metadata": {
            "tags": []
          }
        },
        {
          "output_type": "execute_result",
          "data": {
            "text/latex": "$$\\left ( \\left[\\begin{matrix}1 & 0 & 1 & 1\\\\0 & 1 & 1 & 0\\\\0 & 0 & 0 & 0\\end{matrix}\\right], \\quad \\left ( 0, \\quad 1\\right )\\right )$$",
            "text/plain": [
              "⎛⎡1  0  1  1⎤        ⎞\n",
              "⎜⎢          ⎥        ⎟\n",
              "⎜⎢0  1  1  0⎥, (0, 1)⎟\n",
              "⎜⎢          ⎥        ⎟\n",
              "⎝⎣0  0  0  0⎦        ⎠"
            ]
          },
          "metadata": {
            "tags": []
          },
          "execution_count": 3
        }
      ]
    },
    {
      "metadata": {
        "id": "y6ul_Ijd9oeh",
        "colab_type": "text"
      },
      "cell_type": "markdown",
      "source": [
        "The basis of columnspace consists of the columns of $A$ (not of echelon of $A$) corrsponding to the pivot columns, and in this case \n",
        "* The basis is:\n",
        "$$ \\begin{bmatrix} 1 & 2 \\\\ 1 & 1 \\\\ 1 & 2 \\end{bmatrix} $$\n",
        "* It is indeed in &#8477;<sup>3</sup> (rows of A = *m* = 3, i.e. each column vector is in 3-space or has 3 components)\n",
        "* The rank (no of columns with pivots) are 2, thus dim(A) = 2"
      ]
    },
    {
      "metadata": {
        "id": "72O4SafT_Igs",
        "colab_type": "text"
      },
      "cell_type": "markdown",
      "source": [
        "#### Row space $C(A^T)$\n",
        "\n",
        "So we are looking for the pivot rows of echelon form, that is\n",
        "- 1st and 2nd rows of echlon form\n",
        "  $$ \\begin{bmatrix} 1 & 0 \\\\ 0& 1 \\\\ 1 & 1 \\\\ 1& 0\\end{bmatrix}.$$"
      ]
    },
    {
      "metadata": {
        "id": "UwafwC7h-ozx",
        "colab_type": "text"
      },
      "cell_type": "markdown",
      "source": [
        "#### Null space"
      ]
    },
    {
      "metadata": {
        "id": "6ugI3LjnIcwY",
        "colab_type": "code",
        "outputId": "3590c41d-66c9-4bd7-cb14-8faf9bf666f7",
        "colab": {
          "base_uri": "https://localhost:8080/",
          "height": 138
        }
      },
      "cell_type": "code",
      "source": [
        "A.nullspace() # Calculating the nullspace vectors"
      ],
      "execution_count": 4,
      "outputs": [
        {
          "output_type": "display_data",
          "data": {
            "text/html": [
              "<script src='https://cdnjs.cloudflare.com/ajax/libs/mathjax/2.7.3/latest.js?config=default'></script>"
            ],
            "text/plain": [
              "<IPython.core.display.HTML object>"
            ]
          },
          "metadata": {
            "tags": []
          }
        },
        {
          "output_type": "execute_result",
          "data": {
            "text/latex": "$$\\left [ \\left[\\begin{matrix}-1\\\\-1\\\\1\\\\0\\end{matrix}\\right], \\quad \\left[\\begin{matrix}-1\\\\0\\\\0\\\\1\\end{matrix}\\right]\\right ]$$",
            "text/plain": [
              "⎡⎡-1⎤  ⎡-1⎤⎤\n",
              "⎢⎢  ⎥  ⎢  ⎥⎥\n",
              "⎢⎢-1⎥  ⎢0 ⎥⎥\n",
              "⎢⎢  ⎥, ⎢  ⎥⎥\n",
              "⎢⎢1 ⎥  ⎢0 ⎥⎥\n",
              "⎢⎢  ⎥  ⎢  ⎥⎥\n",
              "⎣⎣0 ⎦  ⎣1 ⎦⎦"
            ]
          },
          "metadata": {
            "tags": []
          },
          "execution_count": 4
        }
      ]
    },
    {
      "metadata": {
        "id": "GttbPeqUABUe",
        "colab_type": "text"
      },
      "cell_type": "markdown",
      "source": [
        "#### Left null space"
      ]
    },
    {
      "metadata": {
        "id": "VEZU_Ubt-q2k",
        "colab_type": "code",
        "outputId": "f81fb458-b014-42e1-d926-3755c09d339e",
        "colab": {
          "base_uri": "https://localhost:8080/",
          "height": 113
        }
      },
      "cell_type": "code",
      "source": [
        "A.transpose().nullspace()"
      ],
      "execution_count": 5,
      "outputs": [
        {
          "output_type": "display_data",
          "data": {
            "text/html": [
              "<script src='https://cdnjs.cloudflare.com/ajax/libs/mathjax/2.7.3/latest.js?config=default'></script>"
            ],
            "text/plain": [
              "<IPython.core.display.HTML object>"
            ]
          },
          "metadata": {
            "tags": []
          }
        },
        {
          "output_type": "execute_result",
          "data": {
            "text/latex": "$$\\left [ \\left[\\begin{matrix}-1\\\\0\\\\1\\end{matrix}\\right]\\right ]$$",
            "text/plain": [
              "⎡⎡-1⎤⎤\n",
              "⎢⎢  ⎥⎥\n",
              "⎢⎢0 ⎥⎥\n",
              "⎢⎢  ⎥⎥\n",
              "⎣⎣1 ⎦⎦"
            ]
          },
          "metadata": {
            "tags": []
          },
          "execution_count": 5
        }
      ]
    },
    {
      "metadata": {
        "id": "UNI4WPhvAXYO",
        "colab_type": "text"
      },
      "cell_type": "markdown",
      "source": [
        "As a conclusion, this example demonstrate the four sbuspace theorem by observing \n",
        "- rank of $C(A)$ = rank of $C(A^T)$ = 2\n",
        "- rank of $N(A)$ is 2\n",
        "- rank of $N(A^T)$ is 1"
      ]
    },
    {
      "metadata": {
        "id": "fMIEGZfJD370",
        "colab_type": "code",
        "colab": {}
      },
      "cell_type": "code",
      "source": [
        ""
      ],
      "execution_count": 0,
      "outputs": []
    }
  ]
}