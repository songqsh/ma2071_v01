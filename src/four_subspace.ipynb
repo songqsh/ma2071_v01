{
  "nbformat": 4,
  "nbformat_minor": 0,
  "metadata": {
    "colab": {
      "name": "four_subspace.ipynb",
      "version": "0.3.2",
      "provenance": [],
      "include_colab_link": true
    },
    "kernelspec": {
      "name": "python3",
      "display_name": "Python 3"
    }
  },
  "cells": [
    {
      "cell_type": "markdown",
      "metadata": {
        "id": "view-in-github",
        "colab_type": "text"
      },
      "source": [
        "<a href=\"https://colab.research.google.com/github/songqsh/ma2071_v01/blob/master/src/four_subspace.ipynb\" target=\"_parent\"><img src=\"https://colab.research.google.com/assets/colab-badge.svg\" alt=\"Open In Colab\"/></a>"
      ]
    },
    {
      "metadata": {
        "id": "BVauuVc5FNMT",
        "colab_type": "code",
        "colab": {}
      },
      "cell_type": "code",
      "source": [
        "'''================\n",
        "Environmental python setup adapted for linear algebra on colab\n",
        "==================='''\n",
        "\n",
        "from sympy import init_printing, Matrix, symbols, eye, printing\n",
        "def custom_latex_printer(exp,**options):\n",
        "    from google.colab.output._publish import javascript\n",
        "    url = \"https://cdnjs.cloudflare.com/ajax/libs/mathjax/2.7.3/latest.js?config=default\"\n",
        "    javascript(url=url)\n",
        "    return printing.latex(exp,**options)\n",
        "init_printing(use_latex=\"mathjax\",latex_printer=custom_latex_printer)\n",
        "lamda = symbols('lamda') # Note that lambda is a reserved word in python, so we use lamda (without the b)"
      ],
      "execution_count": 0,
      "outputs": []
    },
    {
      "metadata": {
        "id": "NX4dkkTNE48q",
        "colab_type": "text"
      },
      "cell_type": "markdown",
      "source": [
        "# The four fundamental subspaces\n",
        "# Introducing the matrix space\n",
        "\n",
        "## The four fundamental subspaces\n",
        "\n",
        "* Columnspace, C(A)\n",
        "* Nullspace, N(A)\n",
        "* Rowspaces\n",
        "    * All linear combinations of rows\n",
        "    * All the linear combinations of the colums of A<sup>T</sup>, C(A<sup>T</sup>)\n",
        "* Nullspace of A<sup>T</sup>, N(A<sup>T</sup>) (the left nullspace of A)\n",
        "\n",
        "## Where are these spaces for a matrix A<sub>m&#215;n</sub>?\n",
        "\n",
        "* C(A) is in &#8477;<sup>m</sup>\n",
        "* N(A) is in &#8477;<sup>n</sup>\n",
        "* C(A<sup>T</sup>) is in &#8477;<sup>n</sup>\n",
        "* N(A<sup>T</sup>) is in &#8477;<sup>m</sup>\n",
        "\n",
        "## Calculating basis and dimension\n",
        "\n",
        "### For C(A)\n",
        "\n",
        "* The bases are the __pivot columns__\n",
        "* The dimension is the rank *r*\n",
        "\n",
        "### For N(A)\n",
        "\n",
        "* The bases are the special solutions (one for every free variable, *n* - *r*)\n",
        "* The dimension is *n* - *r*\n",
        "\n",
        "### For C(A<sup>T</sup>)\n",
        "\n",
        "* If A undergoes row reduction to row echelon form (R), then \n",
        "  - __Caution:__ C(R) &#8800; C(A), \n",
        "  - but rowspace(R) = rowspace(A) (or C(R<sup>T</sup>) = C(A<sup>T</sup>))\n",
        "* A basis for the rowspace of A (or R) is the first *r* rows of R\n",
        "    * So we row reduce A and take the pivot rows and transpose them\n",
        "* The dimension is also equal to the rank *r*\n",
        "\n",
        "### For N(A<sup>T</sup>)\n",
        "\n",
        "* It is also called the left null space, because it ends up on the left (as seen below)\n",
        "* Here we have A<sup>T</sup>**y** = **0**\n",
        "    * **y**<sup>T</sup>(A<sup>T</sup>)<sup>T</sup> = **0**<sup>T</sup>\n",
        "    * **y**<sup>T</sup>A = **0**<sup>T</sup>\n",
        "    * This is (again) the pivot columns of A<sup>T</sup> (after row reduction)\n",
        "* The dimension is *m* - *r*"
      ]
    },
    {
      "metadata": {
        "id": "XGjonM8BH-49",
        "colab_type": "text"
      },
      "cell_type": "markdown",
      "source": [
        "## Example problems\n",
        "\n",
        "### Consider this example matrix and calculate the bases and dimension for all four fundamental spaces"
      ]
    },
    {
      "metadata": {
        "id": "-zuq4DRVH-IR",
        "colab_type": "code",
        "colab": {
          "base_uri": "https://localhost:8080/",
          "height": 113
        },
        "outputId": "708c2e22-8f0b-4e95-8f3a-84fa04280574"
      },
      "cell_type": "code",
      "source": [
        "'''========\n",
        "We note that rows 1 and three are identical and that\n",
        "columns 3 is the addtion of columns 1 and 2 and column 1 equals column 4\n",
        "==========''' \n",
        "A = Matrix([[1, 2, 3, 1], [1, 1, 2, 1], [1, 2, 3, 1]]) \n",
        "A"
      ],
      "execution_count": 2,
      "outputs": [
        {
          "output_type": "display_data",
          "data": {
            "text/html": [
              "<script src='https://cdnjs.cloudflare.com/ajax/libs/mathjax/2.7.3/latest.js?config=default'></script>"
            ],
            "text/plain": [
              "<IPython.core.display.HTML object>"
            ]
          },
          "metadata": {
            "tags": []
          }
        },
        {
          "output_type": "execute_result",
          "data": {
            "text/latex": "$$\\left[\\begin{matrix}1 & 2 & 3 & 1\\\\1 & 1 & 2 & 1\\\\1 & 2 & 3 & 1\\end{matrix}\\right]$$",
            "text/plain": [
              "⎡1  2  3  1⎤\n",
              "⎢          ⎥\n",
              "⎢1  1  2  1⎥\n",
              "⎢          ⎥\n",
              "⎣1  2  3  1⎦"
            ]
          },
          "metadata": {
            "tags": []
          },
          "execution_count": 2
        }
      ]
    },
    {
      "metadata": {
        "id": "Uv0PICr3If6F",
        "colab_type": "text"
      },
      "cell_type": "markdown",
      "source": [
        "#### Columnspace"
      ]
    },
    {
      "metadata": {
        "id": "Oba90JNGE0Bm",
        "colab_type": "code",
        "colab": {
          "base_uri": "https://localhost:8080/",
          "height": 113
        },
        "outputId": "ce358002-2328-4a60-ead9-55def5eebfd5"
      },
      "cell_type": "code",
      "source": [
        "'''==============\n",
        "Remember that the columnspace contains the pivot columns as a basis\n",
        "==============='''\n",
        "A.rref()"
      ],
      "execution_count": 3,
      "outputs": [
        {
          "output_type": "display_data",
          "data": {
            "text/html": [
              "<script src='https://cdnjs.cloudflare.com/ajax/libs/mathjax/2.7.3/latest.js?config=default'></script>"
            ],
            "text/plain": [
              "<IPython.core.display.HTML object>"
            ]
          },
          "metadata": {
            "tags": []
          }
        },
        {
          "output_type": "execute_result",
          "data": {
            "text/latex": "$$\\left ( \\left[\\begin{matrix}1 & 0 & 1 & 1\\\\0 & 1 & 1 & 0\\\\0 & 0 & 0 & 0\\end{matrix}\\right], \\quad \\left ( 0, \\quad 1\\right )\\right )$$",
            "text/plain": [
              "⎛⎡1  0  1  1⎤        ⎞\n",
              "⎜⎢          ⎥        ⎟\n",
              "⎜⎢0  1  1  0⎥, (0, 1)⎟\n",
              "⎜⎢          ⎥        ⎟\n",
              "⎝⎣0  0  0  0⎦        ⎠"
            ]
          },
          "metadata": {
            "tags": []
          },
          "execution_count": 3
        }
      ]
    },
    {
      "metadata": {
        "id": "6ugI3LjnIcwY",
        "colab_type": "code",
        "colab": {}
      },
      "cell_type": "code",
      "source": [
        ""
      ],
      "execution_count": 0,
      "outputs": []
    }
  ]
}