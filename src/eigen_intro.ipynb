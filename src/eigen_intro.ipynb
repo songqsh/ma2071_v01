{
  "nbformat": 4,
  "nbformat_minor": 0,
  "metadata": {
    "colab": {
      "name": "eigen_intro.ipynb",
      "version": "0.3.2",
      "provenance": [],
      "include_colab_link": true
    },
    "kernelspec": {
      "name": "python3",
      "display_name": "Python 3"
    }
  },
  "cells": [
    {
      "cell_type": "markdown",
      "metadata": {
        "id": "view-in-github",
        "colab_type": "text"
      },
      "source": [
        "<a href=\"https://colab.research.google.com/github/songqsh/ma2071_v01/blob/master/src/eigen_intro.ipynb\" target=\"_parent\"><img src=\"https://colab.research.google.com/assets/colab-badge.svg\" alt=\"Open In Colab\"/></a>"
      ]
    },
    {
      "metadata": {
        "id": "Hk77oDv_EjPX",
        "colab_type": "text"
      },
      "cell_type": "markdown",
      "source": [
        "# Eigenvalues and eigenvectors\n",
        "\n",
        "## What are eigenvectors?\n",
        "\n",
        "* A Matrix is a mathematical object that acts on a (column) vector, resulting in a new vector, i.e. A**x**=**b**\n",
        "* An eigenvector is the resulting vector that is parallel to **x** (some multiple of **x**)\n",
        "$$ {A}\\underline{x}=\\lambda \\underline{x} $$\n"
      ]
    },
    {
      "metadata": {
        "id": "mleYVVlRGdlN",
        "colab_type": "text"
      },
      "cell_type": "markdown",
      "source": [
        "### What are the eigenvectors and eigenvalues for a singular matrices?\n",
        "\n",
        "* The eigenvectors with an eigenvalue of zero are the vectors in the nullspace\n",
        "* If A is singular (takes some non-zero vector into 0) then $\\lambda =0$"
      ]
    },
    {
      "metadata": {
        "id": "GMOahwRrG0yO",
        "colab_type": "text"
      },
      "cell_type": "markdown",
      "source": [
        "### What are the eigenvectors and eigenvalues for projection matrices?\n",
        "\n",
        "* A projection matrix P projects some vector (**b**) onto a subspace (in 3-space we are talking about a plane through the origin)\n",
        "* P**b** is not in the same direction as **b**\n",
        "* A vector **x** that is already in the subspace will result in P**x**=**x**, so &#955;=1\n",
        "* Another good **x** would be one perpendicular to the subspace, i.e. P**x**=0**x**, so &#955;=0\n",
        "\n",
        "### What are the eigenvectors and eigenvalues for permutation matrices?\n",
        "\n",
        "* A permutation matrix such as the one below changes the order of the elements in a (column) vector\n",
        "$$ \\begin{bmatrix} 0 & 1 \\\\ 1 & 0 \\end{bmatrix} $$\n",
        "* A good example of a vector that would remain in the same direction after multiplication by the permutation matrix above would the following vector\n",
        "$$ \\begin{bmatrix} 1 \\\\ 1 \\end{bmatrix} $$\n",
        "* The eigenvalue would just be &#955;=1\n",
        "* The next (eigen)vector would also work\n",
        "$$ \\begin{bmatrix} -1 \\\\ 1 \\end{bmatrix}  $$\n",
        "* It would have an eigenvalue of &#955;=-1\n",
        "\n",
        "### The trace and the determinant\n",
        "\n",
        "* The trace is the sum of the values down the main diagonal of a square matrix\n",
        "* Note how this is the same as the sum of the eigenvalues (look at the permutation matrix above and its eigenvalues)\n",
        "* The determinant of A is the product of the eigenvalues"
      ]
    },
    {
      "metadata": {
        "id": "wanxdKwcISoj",
        "colab_type": "text"
      },
      "cell_type": "markdown",
      "source": [
        "## How to solve A**x**=&#955;**x**\n",
        "By solving $A x = \\lambda x$, we shall find all pairs $(\\lambda, x)$ satisfying \n",
        "$$ A\\underline { x } =\\lambda \\underline { x } \n",
        "\\hbox{ or }\n",
        "\\left( A-\\lambda I \\right) \\underline { x } =\\underline { 0 }  $$\n",
        "\n",
        "* The only solution to this equation is for A-&#955;I to be singular and therefor have a determinant of zero\n",
        "$$ \\left|{A}-\\lambda{I}\\right|=0 $$\n",
        "\n",
        "* This is called the __characteristic__ (or eigenvalue) equation\n",
        "* There will be *n* eigenvalues for a *n*&#215;*n* matrix;\n",
        "* Some of which may be of equal value, and we call the number of repetition of an eigenvalue as __algebraic multiplicity__\n",
        "* The eigenvectors are calculated by substituting the $\\lambda$ value into the original equation"
      ]
    },
    {
      "metadata": {
        "id": "zIhL3K-yBOdh",
        "colab_type": "code",
        "colab": {}
      },
      "cell_type": "code",
      "source": [
        "from sympy import init_printing, Matrix, symbols, eye, printing\n",
        "def custom_latex_printer(exp,**options):\n",
        "    from google.colab.output._publish import javascript\n",
        "    url = \"https://cdnjs.cloudflare.com/ajax/libs/mathjax/2.7.3/latest.js?config=default\"\n",
        "    javascript(url=url)\n",
        "    return printing.latex(exp,**options)\n",
        "init_printing(use_latex=\"mathjax\",latex_printer=custom_latex_printer)\n",
        "lamda = symbols('lamda') # Note that lambda is a reserved word in python, so we use lamda (without the b)"
      ],
      "execution_count": 0,
      "outputs": []
    },
    {
      "metadata": {
        "id": "RYSbustxL7xS",
        "colab_type": "text"
      },
      "cell_type": "markdown",
      "source": [
        "## Example"
      ]
    },
    {
      "metadata": {
        "id": "tPVGuhJ6NoGh",
        "colab_type": "text"
      },
      "cell_type": "markdown",
      "source": [
        "## Ex1\n",
        "\n",
        "Consider the matrix $A$ below, \n",
        "- Find its characteristic equation;\n",
        "- Find the eigenvalue and eigenvectors."
      ]
    },
    {
      "metadata": {
        "id": "byrtJJ8YNzyJ",
        "colab_type": "code",
        "colab": {
          "base_uri": "https://localhost:8080/",
          "height": 89
        },
        "outputId": "5d35274b-143f-48bc-a51e-b0090924ebf6"
      },
      "cell_type": "code",
      "source": [
        "A = Matrix([[3, 1], [1, 3]]); A"
      ],
      "execution_count": 14,
      "outputs": [
        {
          "output_type": "display_data",
          "data": {
            "text/html": [
              "<script src='https://cdnjs.cloudflare.com/ajax/libs/mathjax/2.7.3/latest.js?config=default'></script>"
            ],
            "text/plain": [
              "<IPython.core.display.HTML object>"
            ]
          },
          "metadata": {
            "tags": []
          }
        },
        {
          "output_type": "execute_result",
          "data": {
            "text/latex": "$$\\left[\\begin{matrix}3 & 1\\\\1 & 3\\end{matrix}\\right]$$",
            "text/plain": [
              "⎡3  1⎤\n",
              "⎢    ⎥\n",
              "⎣1  3⎦"
            ]
          },
          "metadata": {
            "tags": []
          },
          "execution_count": 14
        }
      ]
    },
    {
      "metadata": {
        "id": "yyuGNobvMDEE",
        "colab_type": "code",
        "colab": {
          "base_uri": "https://localhost:8080/",
          "height": 62
        },
        "outputId": "3df28a6e-6c0f-4f31-ad3d-80b40b185414"
      },
      "cell_type": "code",
      "source": [
        "I = eye(2)\n",
        "((A - lamda * I).det()).factor() #Characteristic function"
      ],
      "execution_count": 15,
      "outputs": [
        {
          "output_type": "display_data",
          "data": {
            "text/html": [
              "<script src='https://cdnjs.cloudflare.com/ajax/libs/mathjax/2.7.3/latest.js?config=default'></script>"
            ],
            "text/plain": [
              "<IPython.core.display.HTML object>"
            ]
          },
          "metadata": {
            "tags": []
          }
        },
        {
          "output_type": "execute_result",
          "data": {
            "text/latex": "$$\\left(\\lambda - 4\\right) \\left(\\lambda - 2\\right)$$",
            "text/plain": [
              "(λ - 4)⋅(λ - 2)"
            ]
          },
          "metadata": {
            "tags": []
          },
          "execution_count": 15
        }
      ]
    },
    {
      "metadata": {
        "id": "2i3uvulUBOuD",
        "colab_type": "code",
        "outputId": "3d660e99-6405-47b0-8cb0-2587f42a03cf",
        "colab": {
          "base_uri": "https://localhost:8080/",
          "height": 62
        }
      },
      "cell_type": "code",
      "source": [
        "A.eigenvals() "
      ],
      "execution_count": 16,
      "outputs": [
        {
          "output_type": "display_data",
          "data": {
            "text/html": [
              "<script src='https://cdnjs.cloudflare.com/ajax/libs/mathjax/2.7.3/latest.js?config=default'></script>"
            ],
            "text/plain": [
              "<IPython.core.display.HTML object>"
            ]
          },
          "metadata": {
            "tags": []
          }
        },
        {
          "output_type": "execute_result",
          "data": {
            "text/latex": "$$\\left \\{ 2 : 1, \\quad 4 : 1\\right \\}$$",
            "text/plain": [
              "{2: 1, 4: 1}"
            ]
          },
          "metadata": {
            "tags": []
          },
          "execution_count": 16
        }
      ]
    },
    {
      "metadata": {
        "id": "7Jq5-ieuMmgY",
        "colab_type": "text"
      },
      "cell_type": "markdown",
      "source": [
        "Below, eigenvects() returns value of tuples: \n",
        "- (eigenvalue, algebraic multiplicity, eigenvector)"
      ]
    },
    {
      "metadata": {
        "id": "5DXSQjea-AAj",
        "colab_type": "code",
        "outputId": "d98c05c8-2f9b-40b9-af23-70bd3e53468c",
        "colab": {
          "base_uri": "https://localhost:8080/",
          "height": 89
        }
      },
      "cell_type": "code",
      "source": [
        "A.eigenvects() "
      ],
      "execution_count": 17,
      "outputs": [
        {
          "output_type": "display_data",
          "data": {
            "text/html": [
              "<script src='https://cdnjs.cloudflare.com/ajax/libs/mathjax/2.7.3/latest.js?config=default'></script>"
            ],
            "text/plain": [
              "<IPython.core.display.HTML object>"
            ]
          },
          "metadata": {
            "tags": []
          }
        },
        {
          "output_type": "execute_result",
          "data": {
            "text/latex": "$$\\left [ \\left ( 2, \\quad 1, \\quad \\left [ \\left[\\begin{matrix}-1\\\\1\\end{matrix}\\right]\\right ]\\right ), \\quad \\left ( 4, \\quad 1, \\quad \\left [ \\left[\\begin{matrix}1\\\\1\\end{matrix}\\right]\\right ]\\right )\\right ]$$",
            "text/plain": [
              "⎡⎛      ⎡⎡-1⎤⎤⎞  ⎛      ⎡⎡1⎤⎤⎞⎤\n",
              "⎢⎜2, 1, ⎢⎢  ⎥⎥⎟, ⎜4, 1, ⎢⎢ ⎥⎥⎟⎥\n",
              "⎣⎝      ⎣⎣1 ⎦⎦⎠  ⎝      ⎣⎣1⎦⎦⎠⎦"
            ]
          },
          "metadata": {
            "tags": []
          },
          "execution_count": 17
        }
      ]
    },
    {
      "metadata": {
        "id": "YobQX2jAOMTv",
        "colab_type": "text"
      },
      "cell_type": "markdown",
      "source": [
        "### Ex2"
      ]
    },
    {
      "metadata": {
        "id": "PH7hTwPwMjW_",
        "colab_type": "code",
        "colab": {}
      },
      "cell_type": "code",
      "source": [
        ""
      ],
      "execution_count": 0,
      "outputs": []
    }
  ]
}