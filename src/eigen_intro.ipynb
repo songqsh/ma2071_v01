{
  "nbformat": 4,
  "nbformat_minor": 0,
  "metadata": {
    "colab": {
      "name": "eigen_intro.ipynb",
      "version": "0.3.2",
      "provenance": [],
      "include_colab_link": true
    },
    "kernelspec": {
      "name": "python3",
      "display_name": "Python 3"
    }
  },
  "cells": [
    {
      "cell_type": "markdown",
      "metadata": {
        "id": "view-in-github",
        "colab_type": "text"
      },
      "source": [
        "<a href=\"https://colab.research.google.com/github/songqsh/ma2071_v01/blob/master/src/eigen_intro.ipynb\" target=\"_parent\"><img src=\"https://colab.research.google.com/assets/colab-badge.svg\" alt=\"Open In Colab\"/></a>"
      ]
    },
    {
      "metadata": {
        "id": "zIhL3K-yBOdh",
        "colab_type": "code",
        "colab": {}
      },
      "cell_type": "code",
      "source": [
        "from sympy import init_printing, Matrix, symbols, eye, printing\n",
        "def custom_latex_printer(exp,**options):\n",
        "    from google.colab.output._publish import javascript\n",
        "    url = \"https://cdnjs.cloudflare.com/ajax/libs/mathjax/2.7.3/latest.js?config=default\"\n",
        "    javascript(url=url)\n",
        "    return printing.latex(exp,**options)\n",
        "init_printing(use_latex=\"mathjax\",latex_printer=custom_latex_printer)\n",
        "lamda = symbols('lamda') # Note that lambda is a reserved word in python, so we use lamda (without the b)"
      ],
      "execution_count": 0,
      "outputs": []
    },
    {
      "metadata": {
        "id": "Hk77oDv_EjPX",
        "colab_type": "text"
      },
      "cell_type": "markdown",
      "source": [
        "# Eigenvalues and eigenvectors\n",
        "\n",
        "## What are eigenvectors?\n",
        "\n",
        "* A Matrix is a mathematical object that acts on a (column) vector, resulting in a new vector, i.e. A**x**=**b**\n",
        "* An eigenvector is the resulting vector that is parallel to **x** (some multiple of **x**)\n",
        "$$ {A}\\underline{x}=\\lambda \\underline{x} $$\n"
      ]
    },
    {
      "metadata": {
        "id": "mleYVVlRGdlN",
        "colab_type": "text"
      },
      "cell_type": "markdown",
      "source": [
        "__ex__\n",
        "\n",
        "What are the eigenvectors and eigenvalues for a singular matrices?\n",
        "\n",
        "* The eigenvectors with an eigenvalue of zero are the vectors in the nullspace\n",
        "* If A is singular (takes some non-zero vector into 0) then $\\lambda =0$"
      ]
    },
    {
      "metadata": {
        "id": "GMOahwRrG0yO",
        "colab_type": "text"
      },
      "cell_type": "markdown",
      "source": [
        "__ex__\n",
        "\n",
        "What are the eigenvectors and eigenvalues for projection matrices?\n",
        "\n",
        "* A projection matrix P projects some vector (**b**) onto a subspace (in 3-space we are talking about a plane through the origin)\n",
        "* P**b** is not in the same direction as **b**\n",
        "* A vector **x** that is already in the subspace will result in P**x**=**x**, so &#955;=1\n",
        "* Another good **x** would be one perpendicular to the subspace, i.e. P**x**=0**x**, so &#955;=0\n"
      ]
    },
    {
      "metadata": {
        "id": "wanxdKwcISoj",
        "colab_type": "text"
      },
      "cell_type": "markdown",
      "source": [
        "## How to solve A**x**=&#955;**x**\n",
        "By solving $A x = \\lambda x$, we shall find all pairs $(\\lambda, x)$ satisfying \n",
        "$$ A\\underline { x } =\\lambda \\underline { x } \n",
        "\\hbox{ or }\n",
        "\\left( A-\\lambda I \\right) \\underline { x } =\\underline { 0 }  $$\n",
        "It is indeed 2-step procedure, which will be illustrated with the following matrix."
      ]
    },
    {
      "metadata": {
        "id": "byrtJJ8YNzyJ",
        "colab_type": "code",
        "outputId": "5582fa9a-07eb-416d-ec43-2215d53b7e2f",
        "colab": {
          "base_uri": "https://localhost:8080/",
          "height": 89
        }
      },
      "cell_type": "code",
      "source": [
        "A = Matrix([[3, 1], [1, 3]]); A"
      ],
      "execution_count": 2,
      "outputs": [
        {
          "output_type": "display_data",
          "data": {
            "text/html": [
              "<script src='https://cdnjs.cloudflare.com/ajax/libs/mathjax/2.7.3/latest.js?config=default'></script>"
            ],
            "text/plain": [
              "<IPython.core.display.HTML object>"
            ]
          },
          "metadata": {
            "tags": []
          }
        },
        {
          "output_type": "execute_result",
          "data": {
            "text/latex": "$$\\left[\\begin{matrix}3 & 1\\\\1 & 3\\end{matrix}\\right]$$",
            "text/plain": [
              "⎡3  1⎤\n",
              "⎢    ⎥\n",
              "⎣1  3⎦"
            ]
          },
          "metadata": {
            "tags": []
          },
          "execution_count": 2
        }
      ]
    },
    {
      "metadata": {
        "id": "8YKbDl0Afg7J",
        "colab_type": "text"
      },
      "cell_type": "markdown",
      "source": [
        "\n",
        "* (step1)The only solution for $\\lambda$ \n",
        "to this equation is for A-&#955;I to be singular and therefore have a determinant of zero\n",
        "$$ \\left|{A}-\\lambda{I}\\right|=0 $$\n",
        "\n",
        "  * This is called the __characteristic__ (or eigenvalue) equation\n",
        "  * There will be *n* (complex) eigenvalues for a *n*&#215;*n* matrix;\n",
        "  * Some of which may be of equal value, and we call the number of repetition of an eigenvalue as __algebraic multiplicity__\n"
      ]
    },
    {
      "metadata": {
        "id": "yyuGNobvMDEE",
        "colab_type": "code",
        "outputId": "20dde636-28fc-4ef7-bc79-22e44098ecf8",
        "colab": {
          "base_uri": "https://localhost:8080/",
          "height": 62
        }
      },
      "cell_type": "code",
      "source": [
        "'''=======\n",
        "Characteristic function\n",
        "============='''\n",
        "I = eye(2)\n",
        "((A - lamda * I).det()).factor() "
      ],
      "execution_count": 3,
      "outputs": [
        {
          "output_type": "display_data",
          "data": {
            "text/html": [
              "<script src='https://cdnjs.cloudflare.com/ajax/libs/mathjax/2.7.3/latest.js?config=default'></script>"
            ],
            "text/plain": [
              "<IPython.core.display.HTML object>"
            ]
          },
          "metadata": {
            "tags": []
          }
        },
        {
          "output_type": "execute_result",
          "data": {
            "text/latex": "$$\\left(\\lambda - 4\\right) \\left(\\lambda - 2\\right)$$",
            "text/plain": [
              "(λ - 4)⋅(λ - 2)"
            ]
          },
          "metadata": {
            "tags": []
          },
          "execution_count": 3
        }
      ]
    },
    {
      "metadata": {
        "id": "sHI3rt38gGAF",
        "colab_type": "text"
      },
      "cell_type": "markdown",
      "source": [
        "Therefore, there are two eigenvalues $\\lambda = 2$ and $4$ with algebraic multiplicity $1$ for both."
      ]
    },
    {
      "metadata": {
        "id": "ZoTh-LVrfIYC",
        "colab_type": "text"
      },
      "cell_type": "markdown",
      "source": [
        "* (step2)The eigenvectors are calculated by substituting the $\\lambda$ value into the original equation $$(A- \\lambda I) x = 0.$$\n",
        "  * Indeed, we say the null space of $A-\\lambda I$ as the __eigenspace__ of $\\lambda$."
      ]
    },
    {
      "metadata": {
        "id": "Hu65YU9egTrW",
        "colab_type": "code",
        "colab": {
          "base_uri": "https://localhost:8080/",
          "height": 89
        },
        "outputId": "2d95fb87-41ff-4a5d-9f52-b6362ce11683"
      },
      "cell_type": "code",
      "source": [
        "'''===========\n",
        "eigenvector corresponding to this paritular eigenvalue\n",
        "================'''\n",
        "lamda = 2\n",
        "(A- lamda*I).nullspace()"
      ],
      "execution_count": 4,
      "outputs": [
        {
          "output_type": "display_data",
          "data": {
            "text/html": [
              "<script src='https://cdnjs.cloudflare.com/ajax/libs/mathjax/2.7.3/latest.js?config=default'></script>"
            ],
            "text/plain": [
              "<IPython.core.display.HTML object>"
            ]
          },
          "metadata": {
            "tags": []
          }
        },
        {
          "output_type": "execute_result",
          "data": {
            "text/latex": "$$\\left [ \\left[\\begin{matrix}-1\\\\1\\end{matrix}\\right]\\right ]$$",
            "text/plain": [
              "⎡⎡-1⎤⎤\n",
              "⎢⎢  ⎥⎥\n",
              "⎣⎣1 ⎦⎦"
            ]
          },
          "metadata": {
            "tags": []
          },
          "execution_count": 4
        }
      ]
    },
    {
      "metadata": {
        "id": "D4paL0AcghTf",
        "colab_type": "code",
        "colab": {
          "base_uri": "https://localhost:8080/",
          "height": 89
        },
        "outputId": "cadcfadf-660a-4585-f17d-db4e030a234f"
      },
      "cell_type": "code",
      "source": [
        "'''===========\n",
        "eigenvector corresponding to this paritular eigenvalue\n",
        "================'''\n",
        "lamda = 4\n",
        "(A- lamda*I).nullspace()"
      ],
      "execution_count": 5,
      "outputs": [
        {
          "output_type": "display_data",
          "data": {
            "text/html": [
              "<script src='https://cdnjs.cloudflare.com/ajax/libs/mathjax/2.7.3/latest.js?config=default'></script>"
            ],
            "text/plain": [
              "<IPython.core.display.HTML object>"
            ]
          },
          "metadata": {
            "tags": []
          }
        },
        {
          "output_type": "execute_result",
          "data": {
            "text/latex": "$$\\left [ \\left[\\begin{matrix}1\\\\1\\end{matrix}\\right]\\right ]$$",
            "text/plain": [
              "⎡⎡1⎤⎤\n",
              "⎢⎢ ⎥⎥\n",
              "⎣⎣1⎦⎦"
            ]
          },
          "metadata": {
            "tags": []
          },
          "execution_count": 5
        }
      ]
    },
    {
      "metadata": {
        "id": "QyCtvRPSg5Xj",
        "colab_type": "code",
        "colab": {
          "base_uri": "https://localhost:8080/",
          "height": 89
        },
        "outputId": "0839c58d-46fc-45b7-9db6-bc2a0eddeb63"
      },
      "cell_type": "code",
      "source": [
        "'''===============\n",
        "sympy provides this by eigvects()\n",
        "===================='''\n",
        "A.eigenvects() "
      ],
      "execution_count": 6,
      "outputs": [
        {
          "output_type": "display_data",
          "data": {
            "text/html": [
              "<script src='https://cdnjs.cloudflare.com/ajax/libs/mathjax/2.7.3/latest.js?config=default'></script>"
            ],
            "text/plain": [
              "<IPython.core.display.HTML object>"
            ]
          },
          "metadata": {
            "tags": []
          }
        },
        {
          "output_type": "execute_result",
          "data": {
            "text/latex": "$$\\left [ \\left ( 2, \\quad 1, \\quad \\left [ \\left[\\begin{matrix}-1\\\\1\\end{matrix}\\right]\\right ]\\right ), \\quad \\left ( 4, \\quad 1, \\quad \\left [ \\left[\\begin{matrix}1\\\\1\\end{matrix}\\right]\\right ]\\right )\\right ]$$",
            "text/plain": [
              "⎡⎛      ⎡⎡-1⎤⎤⎞  ⎛      ⎡⎡1⎤⎤⎞⎤\n",
              "⎢⎜2, 1, ⎢⎢  ⎥⎥⎟, ⎜4, 1, ⎢⎢ ⎥⎥⎟⎥\n",
              "⎣⎝      ⎣⎣1 ⎦⎦⎠  ⎝      ⎣⎣1⎦⎦⎠⎦"
            ]
          },
          "metadata": {
            "tags": []
          },
          "execution_count": 6
        }
      ]
    },
    {
      "metadata": {
        "id": "RYSbustxL7xS",
        "colab_type": "text"
      },
      "cell_type": "markdown",
      "source": [
        "## Examples"
      ]
    },
    {
      "metadata": {
        "id": "KkwRLhB2dpIB",
        "colab_type": "text"
      },
      "cell_type": "markdown",
      "source": [
        "\n",
        "__ex__ \n",
        "\n",
        "What are the eigenvectors and eigenvalues for permutation matrices?\n",
        "\n",
        "* A permutation matrix such as the one below changes the order of the elements in a (column) vector\n",
        "$$ \\begin{bmatrix} 0 & 1 \\\\ 1 & 0 \\end{bmatrix} $$\n",
        "* A good example of a vector that would remain in the same direction after multiplication by the permutation matrix above would the following vector\n",
        "$$ \\begin{bmatrix} 1 \\\\ 1 \\end{bmatrix} $$\n",
        "* The eigenvalue would just be &#955;=1\n",
        "* The next (eigen)vector would also work\n",
        "$$ \\begin{bmatrix} -1 \\\\ 1 \\end{bmatrix}  $$\n",
        "* It would have an eigenvalue of &#955;=-1\n",
        "\n",
        "__ex__\n",
        "\n",
        "The trace and the determinant\n",
        "\n",
        "* The trace is the sum of the values down the main diagonal of a square matrix\n",
        "* Note how this is the same as the sum of the eigenvalues (look at the permutation matrix above and its eigenvalues)\n",
        "* The determinant of A is the product of the eigenvalues"
      ]
    },
    {
      "metadata": {
        "id": "VYGGFDq8Z6-W",
        "colab_type": "text"
      },
      "cell_type": "markdown",
      "source": [
        "### Ex.\n",
        "\n",
        "Consider the following matrix $B$. Find its eigenvalue and eigenvectors."
      ]
    },
    {
      "metadata": {
        "id": "zYRgeXlHaRfR",
        "colab_type": "code",
        "outputId": "1defccb0-715a-4f26-c62f-1a46fb712949",
        "colab": {
          "base_uri": "https://localhost:8080/",
          "height": 113
        }
      },
      "cell_type": "code",
      "source": [
        "B = Matrix([[-1,0,0],[0,1,1],[0,0,1]]); B"
      ],
      "execution_count": 7,
      "outputs": [
        {
          "output_type": "display_data",
          "data": {
            "text/html": [
              "<script src='https://cdnjs.cloudflare.com/ajax/libs/mathjax/2.7.3/latest.js?config=default'></script>"
            ],
            "text/plain": [
              "<IPython.core.display.HTML object>"
            ]
          },
          "metadata": {
            "tags": []
          }
        },
        {
          "output_type": "execute_result",
          "data": {
            "text/latex": "$$\\left[\\begin{matrix}-1 & 0 & 0\\\\0 & 1 & 1\\\\0 & 0 & 1\\end{matrix}\\right]$$",
            "text/plain": [
              "⎡-1  0  0⎤\n",
              "⎢        ⎥\n",
              "⎢0   1  1⎥\n",
              "⎢        ⎥\n",
              "⎣0   0  1⎦"
            ]
          },
          "metadata": {
            "tags": []
          },
          "execution_count": 7
        }
      ]
    },
    {
      "metadata": {
        "id": "G68RK79Pa3Pi",
        "colab_type": "code",
        "outputId": "ca9710b4-37f8-4471-b38b-14d7cc8f3439",
        "colab": {
          "base_uri": "https://localhost:8080/",
          "height": 62
        }
      },
      "cell_type": "code",
      "source": [
        "I = eye(3)\n",
        "((B - lamda * I).det()).factor() #Characteristic function"
      ],
      "execution_count": 8,
      "outputs": [
        {
          "output_type": "display_data",
          "data": {
            "text/html": [
              "<script src='https://cdnjs.cloudflare.com/ajax/libs/mathjax/2.7.3/latest.js?config=default'></script>"
            ],
            "text/plain": [
              "<IPython.core.display.HTML object>"
            ]
          },
          "metadata": {
            "tags": []
          }
        },
        {
          "output_type": "execute_result",
          "data": {
            "text/latex": "$$-45$$",
            "text/plain": [
              "-45"
            ]
          },
          "metadata": {
            "tags": []
          },
          "execution_count": 8
        }
      ]
    },
    {
      "metadata": {
        "id": "AuANruCHalgI",
        "colab_type": "code",
        "outputId": "04dc6f1b-06c6-4a31-dd74-f93866752cbd",
        "colab": {
          "base_uri": "https://localhost:8080/",
          "height": 113
        }
      },
      "cell_type": "code",
      "source": [
        "B.eigenvects()"
      ],
      "execution_count": 9,
      "outputs": [
        {
          "output_type": "display_data",
          "data": {
            "text/html": [
              "<script src='https://cdnjs.cloudflare.com/ajax/libs/mathjax/2.7.3/latest.js?config=default'></script>"
            ],
            "text/plain": [
              "<IPython.core.display.HTML object>"
            ]
          },
          "metadata": {
            "tags": []
          }
        },
        {
          "output_type": "execute_result",
          "data": {
            "text/latex": "$$\\left [ \\left ( -1, \\quad 1, \\quad \\left [ \\left[\\begin{matrix}1\\\\0\\\\0\\end{matrix}\\right]\\right ]\\right ), \\quad \\left ( 1, \\quad 2, \\quad \\left [ \\left[\\begin{matrix}0\\\\1\\\\0\\end{matrix}\\right]\\right ]\\right )\\right ]$$",
            "text/plain": [
              "⎡⎛       ⎡⎡1⎤⎤⎞  ⎛      ⎡⎡0⎤⎤⎞⎤\n",
              "⎢⎜       ⎢⎢ ⎥⎥⎟  ⎜      ⎢⎢ ⎥⎥⎟⎥\n",
              "⎢⎜-1, 1, ⎢⎢0⎥⎥⎟, ⎜1, 2, ⎢⎢1⎥⎥⎟⎥\n",
              "⎢⎜       ⎢⎢ ⎥⎥⎟  ⎜      ⎢⎢ ⎥⎥⎟⎥\n",
              "⎣⎝       ⎣⎣0⎦⎦⎠  ⎝      ⎣⎣0⎦⎦⎠⎦"
            ]
          },
          "metadata": {
            "tags": []
          },
          "execution_count": 9
        }
      ]
    },
    {
      "metadata": {
        "id": "p_Ox8f9DbsOK",
        "colab_type": "text"
      },
      "cell_type": "markdown",
      "source": [
        "__Rk__\n",
        "\n",
        "- Algebraic multiplicity of $\\lambda = 1$ is 2\n",
        "- Geometric multiplicity of $\\lambda = 1$ is 1, which is strictly smaller than algebraic multiplicity"
      ]
    },
    {
      "metadata": {
        "id": "SshiyNWWXAzR",
        "colab_type": "text"
      },
      "cell_type": "markdown",
      "source": [
        "### Ex\n",
        "\n",
        "Consider \n",
        "$$ {A}=\\begin{bmatrix} 1 & 2 & 3 \\\\ 0 & 1 & -2 \\\\ 0 & 1 & 4 \\end{bmatrix} $$\n",
        "- Find its inverse.\n",
        "- Find its eigenvalues and eigenvectors\n",
        "- Find eigenvalues and eigenvectors of $A^{100}$\n",
        "- Find eigenvalues and eigenvectors of $A^{-1} - I$\n"
      ]
    },
    {
      "metadata": {
        "id": "YobQX2jAOMTv",
        "colab_type": "text"
      },
      "cell_type": "markdown",
      "source": [
        "### Ex\n",
        "\n",
        "Consider this $2\\times 2$ rotation matrix that rotates a vector \n",
        "by $90^o$ (it is orthogonal) given below. \n",
        "Think about it, though: what vector can come out parallel to itself after a $90^o$ rotation?\n",
        "Indeed, it's not possible for any nonzero vector and that means there is no eigenvalue. Suppose now, the matrix is acting to complex 2-vector. Find its eigenvalues and eigenvectors. \n"
      ]
    },
    {
      "metadata": {
        "id": "PH7hTwPwMjW_",
        "colab_type": "code",
        "outputId": "ac6412f2-00a4-4989-f8fb-cc03b26c20ef",
        "colab": {
          "base_uri": "https://localhost:8080/",
          "height": 89
        }
      },
      "cell_type": "code",
      "source": [
        "Q = Matrix([[0, -1], [1, 0]])\n",
        "Q"
      ],
      "execution_count": 10,
      "outputs": [
        {
          "output_type": "display_data",
          "data": {
            "text/html": [
              "<script src='https://cdnjs.cloudflare.com/ajax/libs/mathjax/2.7.3/latest.js?config=default'></script>"
            ],
            "text/plain": [
              "<IPython.core.display.HTML object>"
            ]
          },
          "metadata": {
            "tags": []
          }
        },
        {
          "output_type": "execute_result",
          "data": {
            "text/latex": "$$\\left[\\begin{matrix}0 & -1\\\\1 & 0\\end{matrix}\\right]$$",
            "text/plain": [
              "⎡0  -1⎤\n",
              "⎢     ⎥\n",
              "⎣1  0 ⎦"
            ]
          },
          "metadata": {
            "tags": []
          },
          "execution_count": 10
        }
      ]
    },
    {
      "metadata": {
        "id": "b1ZhUPnDScfB",
        "colab_type": "code",
        "outputId": "2ad9e3db-e6c6-494a-f161-63d6e943b969",
        "colab": {
          "base_uri": "https://localhost:8080/",
          "height": 89
        }
      },
      "cell_type": "code",
      "source": [
        "Q.eigenvects()"
      ],
      "execution_count": 11,
      "outputs": [
        {
          "output_type": "display_data",
          "data": {
            "text/html": [
              "<script src='https://cdnjs.cloudflare.com/ajax/libs/mathjax/2.7.3/latest.js?config=default'></script>"
            ],
            "text/plain": [
              "<IPython.core.display.HTML object>"
            ]
          },
          "metadata": {
            "tags": []
          }
        },
        {
          "output_type": "execute_result",
          "data": {
            "text/latex": "$$\\left [ \\left ( - i, \\quad 1, \\quad \\left [ \\left[\\begin{matrix}- i\\\\1\\end{matrix}\\right]\\right ]\\right ), \\quad \\left ( i, \\quad 1, \\quad \\left [ \\left[\\begin{matrix}i\\\\1\\end{matrix}\\right]\\right ]\\right )\\right ]$$",
            "text/plain": [
              "⎡⎛       ⎡⎡-ⅈ⎤⎤⎞  ⎛      ⎡⎡ⅈ⎤⎤⎞⎤\n",
              "⎢⎜-ⅈ, 1, ⎢⎢  ⎥⎥⎟, ⎜ⅈ, 1, ⎢⎢ ⎥⎥⎟⎥\n",
              "⎣⎝       ⎣⎣1 ⎦⎦⎠  ⎝      ⎣⎣1⎦⎦⎠⎦"
            ]
          },
          "metadata": {
            "tags": []
          },
          "execution_count": 11
        }
      ]
    },
    {
      "metadata": {
        "id": "UwWBQHOETdSM",
        "colab_type": "text"
      },
      "cell_type": "markdown",
      "source": [
        "__Rk__ \n",
        "- The above rotation matrix is called __antisymmetric__, since $Q^T = -Q$. \n",
        "- It can be shown that, all non-zero eigenvalues of antisymmetric matrix must be complex numbers."
      ]
    },
    {
      "metadata": {
        "id": "vYfvr9iBUsNn",
        "colab_type": "code",
        "colab": {}
      },
      "cell_type": "code",
      "source": [
        ""
      ],
      "execution_count": 0,
      "outputs": []
    }
  ]
}