{
  "nbformat": 4,
  "nbformat_minor": 0,
  "metadata": {
    "colab": {
      "name": "eigen_intro.ipynb",
      "version": "0.3.2",
      "provenance": [],
      "include_colab_link": true
    },
    "kernelspec": {
      "name": "python3",
      "display_name": "Python 3"
    }
  },
  "cells": [
    {
      "cell_type": "markdown",
      "metadata": {
        "id": "view-in-github",
        "colab_type": "text"
      },
      "source": [
        "<a href=\"https://colab.research.google.com/github/songqsh/ma2071_v01/blob/master/src/eigen_intro.ipynb\" target=\"_parent\"><img src=\"https://colab.research.google.com/assets/colab-badge.svg\" alt=\"Open In Colab\"/></a>"
      ]
    },
    {
      "metadata": {
        "id": "Hk77oDv_EjPX",
        "colab_type": "text"
      },
      "cell_type": "markdown",
      "source": [
        "# Eigenvalues and eigenvectors\n",
        "\n",
        "## What are eigenvectors?\n",
        "\n",
        "* A Matrix is a mathematical object that acts on a (column) vector, resulting in a new vector, i.e. A**x**=**b**\n",
        "* An eigenvector is the resulting vector that is parallel to **x** (some multiple of **x**)\n",
        "$$ {A}\\underline{x}=\\lambda \\underline{x} $$\n"
      ]
    },
    {
      "metadata": {
        "id": "mleYVVlRGdlN",
        "colab_type": "text"
      },
      "cell_type": "markdown",
      "source": [
        "## What are the eigenvectors and eigenvalues for a singular matrices?\n",
        "\n",
        "* The eigenvectors with an eigenvalue of zero are the vectors in the nullspace\n",
        "* If A is singular (takes some non-zero vector into 0) then $\\lambda =0$"
      ]
    },
    {
      "metadata": {
        "id": "GMOahwRrG0yO",
        "colab_type": "text"
      },
      "cell_type": "markdown",
      "source": [
        "## What are the eigenvectors and eigenvalues for projection matrices?\n",
        "\n",
        "* A projection matrix P projects some vector (**b**) onto a subspace (in 3-space we are talking about a plane through the origin)\n",
        "* P**b** is not in the same direction as **b**\n",
        "* A vector **x** that is already in the subspace will result in P**x**=**x**, so &#955;=1\n",
        "* Another good **x** would be one perpendicular to the subspace, i.e. P**x**=0**x**, so &#955;=0\n",
        "\n",
        "## What are the eigenvectors and eigenvalues for permutation matrices?\n",
        "\n",
        "* A permutation matrix such as the one below changes the order of the elements in a (column) vector\n",
        "$$ \\begin{bmatrix} 0 & 1 \\\\ 1 & 0 \\end{bmatrix} $$\n",
        "* A good example of a vector that would remain in the same direction after multiplication by the permutation matrix above would the following vector\n",
        "$$ \\begin{bmatrix} 1 \\\\ 1 \\end{bmatrix} $$\n",
        "* The eigenvalue would just be &#955;=1\n",
        "* The next (eigen)vector would also work\n",
        "$$ \\begin{bmatrix} -1 \\\\ 1 \\end{bmatrix}  $$\n",
        "* It would have an eigenvalue of &#955;=-1\n",
        "\n",
        "## The trace and the determinant\n",
        "\n",
        "* The trace is the sum of the values down the main diagonal of a square matrix\n",
        "* Note how this is the same as the sum of the eigenvalues (look at the permutation matrix above and its eigenvalues)\n",
        "* The determinant of A is the product of the eigenvalues"
      ]
    },
    {
      "metadata": {
        "id": "wanxdKwcISoj",
        "colab_type": "text"
      },
      "cell_type": "markdown",
      "source": [
        "## How to solve A**x**=&#955;**x**\n",
        "By solving $A x = \\lambda x$, we shall find all pairs $(\\lambda, x)$ satisfying \n",
        "$$ A\\underline { x } =\\lambda \\underline { x } \n",
        "\\hbox{ or }\n",
        "\\left( A-\\lambda I \\right) \\underline { x } =\\underline { 0 }  $$\n",
        "\n",
        "* The only solution to this equation is for A-&#955;I to be singular and therefor have a determinant of zero\n",
        "$$ \\left|{A}-\\lambda{I}\\right|=0 $$\n",
        "\n",
        "* This is called the __characteristic__ (or eigenvalue) equation\n",
        "* There will be *n* eigenvalues for a *n*&#215;*n* matrix;\n",
        "* Some of which may be of equal value, and we call the number of repetition of an eigenvalue as __algebraic multiplicity__\n",
        "* The eigenvectors are calculated by substituting the $\\lambda$ value into the original equation"
      ]
    },
    {
      "metadata": {
        "id": "zIhL3K-yBOdh",
        "colab_type": "code",
        "colab": {}
      },
      "cell_type": "code",
      "source": [
        "from sympy import init_printing, Matrix, symbols, eye, printing\n",
        "def custom_latex_printer(exp,**options):\n",
        "    from google.colab.output._publish import javascript\n",
        "    url = \"https://cdnjs.cloudflare.com/ajax/libs/mathjax/2.7.3/latest.js?config=default\"\n",
        "    javascript(url=url)\n",
        "    return printing.latex(exp,**options)\n",
        "init_printing(use_latex=\"mathjax\",latex_printer=custom_latex_printer)\n",
        "#init_printing(use_latex = 'mathjax')"
      ],
      "execution_count": 0,
      "outputs": []
    },
    {
      "metadata": {
        "id": "sIHGpKgnBOrK",
        "colab_type": "code",
        "colab": {
          "base_uri": "https://localhost:8080/",
          "height": 89
        },
        "outputId": "c86993d4-dde3-4d55-eaab-0e0399836f26"
      },
      "cell_type": "code",
      "source": [
        "A = Matrix([[3, 1], [1, 3]])\n",
        "I = eye(2)\n",
        "A, I # Printing A and the 2-by-2 identity matrix to the screen"
      ],
      "execution_count": 10,
      "outputs": [
        {
          "output_type": "display_data",
          "data": {
            "text/html": [
              "<script src='https://cdnjs.cloudflare.com/ajax/libs/mathjax/2.7.3/latest.js?config=default'></script>"
            ],
            "text/plain": [
              "<IPython.core.display.HTML object>"
            ]
          },
          "metadata": {
            "tags": []
          }
        },
        {
          "output_type": "execute_result",
          "data": {
            "text/latex": "$$\\left ( \\left[\\begin{matrix}3 & 1\\\\1 & 3\\end{matrix}\\right], \\quad \\left[\\begin{matrix}1 & 0\\\\0 & 1\\end{matrix}\\right]\\right )$$",
            "text/plain": [
              "⎛⎡3  1⎤  ⎡1  0⎤⎞\n",
              "⎜⎢    ⎥, ⎢    ⎥⎟\n",
              "⎝⎣1  3⎦  ⎣0  1⎦⎠"
            ]
          },
          "metadata": {
            "tags": []
          },
          "execution_count": 10
        }
      ]
    },
    {
      "metadata": {
        "id": "2i3uvulUBOuD",
        "colab_type": "code",
        "colab": {
          "base_uri": "https://localhost:8080/",
          "height": 62
        },
        "outputId": "6c1f98d0-23f0-4189-ff12-a96c905f2c7b"
      },
      "cell_type": "code",
      "source": [
        "A.eigenvals() "
      ],
      "execution_count": 11,
      "outputs": [
        {
          "output_type": "display_data",
          "data": {
            "text/html": [
              "<script src='https://cdnjs.cloudflare.com/ajax/libs/mathjax/2.7.3/latest.js?config=default'></script>"
            ],
            "text/plain": [
              "<IPython.core.display.HTML object>"
            ]
          },
          "metadata": {
            "tags": []
          }
        },
        {
          "output_type": "execute_result",
          "data": {
            "text/latex": "$$\\left \\{ 2 : 1, \\quad 4 : 1\\right \\}$$",
            "text/plain": [
              "{2: 1, 4: 1}"
            ]
          },
          "metadata": {
            "tags": []
          },
          "execution_count": 11
        }
      ]
    },
    {
      "metadata": {
        "id": "5DXSQjea-AAj",
        "colab_type": "code",
        "colab": {
          "base_uri": "https://localhost:8080/",
          "height": 89
        },
        "outputId": "0d95a1a0-7c20-439b-b8a3-3c37bb87e77f"
      },
      "cell_type": "code",
      "source": [
        "A.eigenvects()"
      ],
      "execution_count": 12,
      "outputs": [
        {
          "output_type": "display_data",
          "data": {
            "text/html": [
              "<script src='https://cdnjs.cloudflare.com/ajax/libs/mathjax/2.7.3/latest.js?config=default'></script>"
            ],
            "text/plain": [
              "<IPython.core.display.HTML object>"
            ]
          },
          "metadata": {
            "tags": []
          }
        },
        {
          "output_type": "execute_result",
          "data": {
            "text/latex": "$$\\left [ \\left ( 2, \\quad 1, \\quad \\left [ \\left[\\begin{matrix}-1\\\\1\\end{matrix}\\right]\\right ]\\right ), \\quad \\left ( 4, \\quad 1, \\quad \\left [ \\left[\\begin{matrix}1\\\\1\\end{matrix}\\right]\\right ]\\right )\\right ]$$",
            "text/plain": [
              "⎡⎛      ⎡⎡-1⎤⎤⎞  ⎛      ⎡⎡1⎤⎤⎞⎤\n",
              "⎢⎜2, 1, ⎢⎢  ⎥⎥⎟, ⎜4, 1, ⎢⎢ ⎥⎥⎟⎥\n",
              "⎣⎝      ⎣⎣1 ⎦⎦⎠  ⎝      ⎣⎣1⎦⎦⎠⎦"
            ]
          },
          "metadata": {
            "tags": []
          },
          "execution_count": 12
        }
      ]
    },
    {
      "metadata": {
        "id": "Mmxe3rzN-Xyd",
        "colab_type": "code",
        "colab": {}
      },
      "cell_type": "code",
      "source": [
        "x100 = (ld1**100 - ld2**100)/np.sqrt(5)"
      ],
      "execution_count": 0,
      "outputs": []
    },
    {
      "metadata": {
        "id": "bhealsbO-iZP",
        "colab_type": "code",
        "outputId": "d2ddaac2-62dc-45dc-df56-d2ba21c59860",
        "colab": {
          "base_uri": "https://localhost:8080/",
          "height": 34
        }
      },
      "cell_type": "code",
      "source": [
        "x100"
      ],
      "execution_count": 0,
      "outputs": [
        {
          "output_type": "execute_result",
          "data": {
            "text/plain": [
              "3.542248481792631e+20"
            ]
          },
          "metadata": {
            "tags": []
          },
          "execution_count": 5
        }
      ]
    },
    {
      "metadata": {
        "id": "K6RgYz5vDrfe",
        "colab_type": "code",
        "colab": {}
      },
      "cell_type": "code",
      "source": [
        "def happyBirthdayEmily():\n",
        "    print(\"Happy Birthday to you!\")\n",
        "    print(\"Happy Birthday to you!\")\n",
        "    print(\"Happy Birthday, dear Emily.\")\n",
        "    print(\"Happy Birthday to you!\")\n"
      ],
      "execution_count": 0,
      "outputs": []
    },
    {
      "metadata": {
        "id": "Epw58HTr97Uw",
        "colab_type": "code",
        "outputId": "5171874b-a687-417c-e8f2-1f9a17bca8c4",
        "colab": {
          "base_uri": "https://localhost:8080/",
          "height": 34
        }
      },
      "cell_type": "code",
      "source": [
        "ld1"
      ],
      "execution_count": 0,
      "outputs": [
        {
          "output_type": "execute_result",
          "data": {
            "text/plain": [
              "1.618033988749895"
            ]
          },
          "metadata": {
            "tags": []
          },
          "execution_count": 7
        }
      ]
    },
    {
      "metadata": {
        "id": "mjEW2xGSD3Xf",
        "colab_type": "code",
        "outputId": "0f1b8643-58e5-4740-accc-c813f2ef5ece",
        "colab": {
          "base_uri": "https://localhost:8080/",
          "height": 85
        }
      },
      "cell_type": "code",
      "source": [
        "happyBirthdayEmily()"
      ],
      "execution_count": 0,
      "outputs": [
        {
          "output_type": "stream",
          "text": [
            "Happy Birthday to you!\n",
            "Happy Birthday to you!\n",
            "Happy Birthday, dear Emily.\n",
            "Happy Birthday to you!\n"
          ],
          "name": "stdout"
        }
      ]
    },
    {
      "metadata": {
        "id": "0w4dsldEEFJP",
        "colab_type": "code",
        "colab": {}
      },
      "cell_type": "code",
      "source": [
        "def ffd(f, x, h):\n",
        "    return (f(x+h) - f(x))/h"
      ],
      "execution_count": 0,
      "outputs": []
    },
    {
      "metadata": {
        "id": "CIwRnPJ6EiAV",
        "colab_type": "text"
      },
      "cell_type": "markdown",
      "source": [
        "I want to see for $f(x) = \\sin(x)$, what is $\\delta_{.5}f(1)$? Is this close to $f'(1)$?"
      ]
    },
    {
      "metadata": {
        "id": "AB94YoS8E1mM",
        "colab_type": "code",
        "colab": {}
      },
      "cell_type": "code",
      "source": [
        "f = lambda x: np.sin(x)"
      ],
      "execution_count": 0,
      "outputs": []
    },
    {
      "metadata": {
        "id": "fyLlek9jFC77",
        "colab_type": "code",
        "colab": {}
      },
      "cell_type": "code",
      "source": [
        "def f1(x):\n",
        "  return np.sin(x)"
      ],
      "execution_count": 0,
      "outputs": []
    },
    {
      "metadata": {
        "id": "TvWMYC0EFJF7",
        "colab_type": "code",
        "colab": {}
      },
      "cell_type": "code",
      "source": [
        "fprime = lambda x: np.cos(x)"
      ],
      "execution_count": 0,
      "outputs": []
    },
    {
      "metadata": {
        "id": "nTSfCPK4FMi7",
        "colab_type": "code",
        "outputId": "75544e93-7d72-4d5a-dd10-5889ef7fdd91",
        "colab": {
          "base_uri": "https://localhost:8080/",
          "height": 34
        }
      },
      "cell_type": "code",
      "source": [
        "#f'(1) is\n",
        "print(fprime(1))"
      ],
      "execution_count": 0,
      "outputs": [
        {
          "output_type": "stream",
          "text": [
            "0.5403023058681398\n"
          ],
          "name": "stdout"
        }
      ]
    },
    {
      "metadata": {
        "id": "4zlXU1e8FV_q",
        "colab_type": "code",
        "outputId": "3dc2104a-2c50-4a3b-f6ed-8180f2eab596",
        "colab": {
          "base_uri": "https://localhost:8080/",
          "height": 34
        }
      },
      "cell_type": "code",
      "source": [
        "#by ffd it gives\n",
        "print(ffd(f, 1, .5))"
      ],
      "execution_count": 0,
      "outputs": [
        {
          "output_type": "stream",
          "text": [
            "0.3120480035923159\n"
          ],
          "name": "stdout"
        }
      ]
    },
    {
      "metadata": {
        "id": "lpYANQ97GXef",
        "colab_type": "code",
        "colab": {}
      },
      "cell_type": "code",
      "source": [
        "def ffd(f, x, h):\n",
        "    return (f(x+h) - f(x))/h\n",
        "\n",
        "def bfd(f, x, h):\n",
        "    return (f(x) - f(x-h))/h\n",
        "\n",
        "def cfd(f, x, h):\n",
        "    return (f(x+h) - f(x-h))/h/2"
      ],
      "execution_count": 0,
      "outputs": []
    },
    {
      "metadata": {
        "id": "ku5qnCNNFdMc",
        "colab_type": "code",
        "outputId": "a4458ce5-c46a-4961-b4ca-bc56ff3fe9ac",
        "colab": {
          "base_uri": "https://localhost:8080/",
          "height": 347
        }
      },
      "cell_type": "code",
      "source": [
        "h = .5 #step size\n",
        "x_co = np.linspace(0, 2*np.pi, 100)\n",
        "\n",
        "plt.plot(x_co, np.cos(x_co), label = 'cosine'); \n",
        "\n",
        "plt.plot(x_co, ffd(np.sin, x_co, h), label = 'FFD');\n",
        "\n",
        "plt.plot(x_co, bfd(np.sin, x_co, h), label = 'BFD');\n",
        "\n",
        "plt.plot(x_co, cfd(np.sin, x_co, h), label = 'CFD');\n",
        "\n",
        "plt.legend();"
      ],
      "execution_count": 0,
      "outputs": [
        {
          "output_type": "display_data",
          "data": {
            "image/png": "[encoded data removed]",
            "text/plain": [
              "<Figure size 576x396 with 1 Axes>"
            ]
          },
          "metadata": {
            "tags": []
          }
        }
      ]
    },
    {
      "metadata": {
        "id": "gTtWuQ6pF1cp",
        "colab_type": "code",
        "outputId": "6256e4a9-724e-4ac0-e1cb-18809ffce128",
        "colab": {
          "base_uri": "https://localhost:8080/",
          "height": 34
        }
      },
      "cell_type": "code",
      "source": [
        "nn = np.arange(5, 11)\n",
        "nn"
      ],
      "execution_count": 0,
      "outputs": [
        {
          "output_type": "execute_result",
          "data": {
            "text/plain": [
              "array([ 5,  6,  7,  8,  9, 10])"
            ]
          },
          "metadata": {
            "tags": []
          },
          "execution_count": 24
        }
      ]
    },
    {
      "metadata": {
        "id": "jhcZ6seATat_",
        "colab_type": "code",
        "outputId": "eca43249-bd7d-4f64-9ddb-d543fa494bc4",
        "colab": {
          "base_uri": "https://localhost:8080/",
          "height": 51
        }
      },
      "cell_type": "code",
      "source": [
        "hh = 1/np.power(2, nn)\n",
        "hh"
      ],
      "execution_count": 0,
      "outputs": [
        {
          "output_type": "execute_result",
          "data": {
            "text/plain": [
              "array([0.03125   , 0.015625  , 0.0078125 , 0.00390625, 0.00195312,\n",
              "       0.00097656])"
            ]
          },
          "metadata": {
            "tags": []
          },
          "execution_count": 30
        }
      ]
    },
    {
      "metadata": {
        "id": "S95zk7J1TzG-",
        "colab_type": "code",
        "colab": {}
      },
      "cell_type": "code",
      "source": [
        "class HumamBeing:\n",
        "  def __init__(self, yourname, yourage):\n",
        "    self.name = yourname\n",
        "    self.age = yourage\n",
        "  def print_name(self):\n",
        "    print('my name is ' + self.name)\n",
        "  def print_age(self, n):\n",
        "    print(str(n) + ' years after, i turn to ' + str(self.age+n))\n",
        "  "
      ],
      "execution_count": 0,
      "outputs": []
    },
    {
      "metadata": {
        "id": "WTgmADa1iTLQ",
        "colab_type": "code",
        "colab": {}
      },
      "cell_type": "code",
      "source": [
        "std1 = HumamBeing('emily', 18)"
      ],
      "execution_count": 0,
      "outputs": []
    },
    {
      "metadata": {
        "id": "CRzO42v7ihtg",
        "colab_type": "code",
        "outputId": "7cf8dece-2268-4228-f813-418a10b07d75",
        "colab": {
          "base_uri": "https://localhost:8080/",
          "height": 34
        }
      },
      "cell_type": "code",
      "source": [
        "std1.name"
      ],
      "execution_count": 0,
      "outputs": [
        {
          "output_type": "execute_result",
          "data": {
            "text/plain": [
              "'emily'"
            ]
          },
          "metadata": {
            "tags": []
          },
          "execution_count": 37
        }
      ]
    },
    {
      "metadata": {
        "id": "0fQm7uXAiuIP",
        "colab_type": "code",
        "outputId": "8521c599-3156-45ff-ce27-46dfa6f347c2",
        "colab": {
          "base_uri": "https://localhost:8080/",
          "height": 34
        }
      },
      "cell_type": "code",
      "source": [
        "std1.print_name()"
      ],
      "execution_count": 0,
      "outputs": [
        {
          "output_type": "stream",
          "text": [
            "my name is emily\n"
          ],
          "name": "stdout"
        }
      ]
    },
    {
      "metadata": {
        "id": "SAClZ-lIi8IP",
        "colab_type": "code",
        "outputId": "575674d6-0e18-4a37-dcd6-5b140a7e0fa1",
        "colab": {
          "base_uri": "https://localhost:8080/",
          "height": 164
        }
      },
      "cell_type": "code",
      "source": [
        "std1.print_age(5)"
      ],
      "execution_count": 0,
      "outputs": [
        {
          "output_type": "error",
          "ename": "AttributeError",
          "evalue": "ignored",
          "traceback": [
            "\u001b[0;31m---------------------------------------------------------------------------\u001b[0m",
            "\u001b[0;31mAttributeError\u001b[0m                            Traceback (most recent call last)",
            "\u001b[0;32m<ipython-input-42-de7b6a51cc0c>\u001b[0m in \u001b[0;36m<module>\u001b[0;34m()\u001b[0m\n\u001b[0;32m----> 1\u001b[0;31m \u001b[0mstd1\u001b[0m\u001b[0;34m.\u001b[0m\u001b[0mprint_age\u001b[0m\u001b[0;34m(\u001b[0m\u001b[0;36m5\u001b[0m\u001b[0;34m)\u001b[0m\u001b[0;34m\u001b[0m\u001b[0;34m\u001b[0m\u001b[0m\n\u001b[0m",
            "\u001b[0;31mAttributeError\u001b[0m: 'HumamBeing' object has no attribute 'print_age'"
          ]
        }
      ]
    },
    {
      "metadata": {
        "id": "3wRFPulHjUE-",
        "colab_type": "code",
        "colab": {}
      },
      "cell_type": "code",
      "source": [
        ""
      ],
      "execution_count": 0,
      "outputs": []
    }
  ]
}