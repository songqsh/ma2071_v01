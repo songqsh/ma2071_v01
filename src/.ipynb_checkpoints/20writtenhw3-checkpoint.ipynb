{
 "cells": [
  {
   "cell_type": "markdown",
   "metadata": {
    "colab_type": "text",
    "id": "view-in-github"
   },
   "source": [
    "<a href=\"https://colab.research.google.com/github/songqsh/ma2071_v01/blob/master/src/20writtenhw3.ipynb\" target=\"_parent\"><img src=\"https://colab.research.google.com/assets/colab-badge.svg\" alt=\"Open In Colab\"/></a>"
   ]
  },
  {
   "cell_type": "markdown",
   "metadata": {
    "colab_type": "text",
    "id": "ozvhKgFFFEil"
   },
   "source": [
    "# Written Homework 3"
   ]
  },
  {
   "cell_type": "code",
   "execution_count": 1,
   "metadata": {
    "colab": {},
    "colab_type": "code",
    "id": "hlATmLuqC3BW"
   },
   "outputs": [],
   "source": [
    "import numpy as np\n",
    "import numpy.linalg as la"
   ]
  },
  {
   "cell_type": "code",
   "execution_count": 2,
   "metadata": {
    "colab": {},
    "colab_type": "code",
    "id": "ecDOYYoEC3Ec"
   },
   "outputs": [],
   "source": [
    "# eigenvalues\n",
    "lam1 = 2; lam2 = -2; lam3 = 4"
   ]
  },
  {
   "cell_type": "code",
   "execution_count": 3,
   "metadata": {
    "colab": {},
    "colab_type": "code",
    "id": "qFWhcjYJC3G5"
   },
   "outputs": [],
   "source": [
    "#eigenvectors\n",
    "v1 = np.array([1,-1, 0])\n",
    "v2 = np.array([0, 1, 1])\n",
    "v3 = np.array([-1,0, 1])"
   ]
  },
  {
   "cell_type": "code",
   "execution_count": 4,
   "metadata": {
    "colab": {
     "base_uri": "https://localhost:8080/",
     "height": 221
    },
    "colab_type": "code",
    "id": "gwIAFVEcC3Jg",
    "outputId": "41aefc38-e2c8-4da9-afc0-07721ed20e7d"
   },
   "outputs": [
    {
     "name": "stdout",
     "output_type": "stream",
     "text": [
      "D is:\n",
      " [[ 2  0  0]\n",
      " [ 0 -2  0]\n",
      " [ 0  0  4]]\n",
      "V is:\n",
      " [[ 1  0 -1]\n",
      " [-1  1  0]\n",
      " [ 0  1  1]]\n",
      "A is:\n",
      " [[ 3.  1. -1.]\n",
      " [-2.  0. -2.]\n",
      " [-3. -3.  1.]]\n"
     ]
    }
   ],
   "source": [
    "# constructing matrix $A$\n",
    "D = np.diag([lam1,lam2,lam3])\n",
    "print('D is:\\n', D)\n",
    "V = np.transpose(np.array([v1, v2, v3]))\n",
    "print('V is:\\n', V)\n",
    "A = V@D@la.inv(V)\n",
    "print('A is:\\n', A)"
   ]
  },
  {
   "cell_type": "markdown",
   "metadata": {
    "colab_type": "text",
    "id": "ncok51V7JsL8"
   },
   "source": [
    "- Find determinant of $A$"
   ]
  },
  {
   "cell_type": "code",
   "execution_count": 5,
   "metadata": {
    "colab": {
     "base_uri": "https://localhost:8080/",
     "height": 34
    },
    "colab_type": "code",
    "id": "P_yWvEYpC3XY",
    "outputId": "12156aa3-20b1-432d-80e0-e70451d30ea5"
   },
   "outputs": [
    {
     "data": {
      "text/plain": [
       "-15.999999999999998"
      ]
     },
     "execution_count": 5,
     "metadata": {},
     "output_type": "execute_result"
    }
   ],
   "source": [
    "la.det(A)\n",
    "# should integer"
   ]
  },
  {
   "cell_type": "markdown",
   "metadata": {
    "colab_type": "text",
    "id": "PXAx-pmCKfv3"
   },
   "source": [
    "- Is $A$ invertible? If yes, find its inverse"
   ]
  },
  {
   "cell_type": "code",
   "execution_count": 6,
   "metadata": {
    "colab": {
     "base_uri": "https://localhost:8080/",
     "height": 68
    },
    "colab_type": "code",
    "id": "WPIY1FXQC3Zz",
    "outputId": "bc13a7ae-35c0-44bd-ba66-8f673c047ddc"
   },
   "outputs": [
    {
     "data": {
      "text/plain": [
       "array([[ 0.375, -0.125,  0.125],\n",
       "       [-0.5  , -0.   , -0.5  ],\n",
       "       [-0.375, -0.375, -0.125]])"
      ]
     },
     "execution_count": 6,
     "metadata": {},
     "output_type": "execute_result"
    }
   ],
   "source": [
    "la.inv(A)"
   ]
  },
  {
   "cell_type": "markdown",
   "metadata": {
    "colab_type": "text",
    "id": "ywLLPEGSLbOx"
   },
   "source": [
    "- Find all eigenvalues"
   ]
  },
  {
   "cell_type": "code",
   "execution_count": 7,
   "metadata": {
    "colab": {
     "base_uri": "https://localhost:8080/",
     "height": 34
    },
    "colab_type": "code",
    "id": "yjMeJ86fC3cb",
    "outputId": "7f8ad27c-70c8-4fef-d494-8fa5714253c7"
   },
   "outputs": [
    {
     "data": {
      "text/plain": [
       "array([ 2, -2,  4])"
      ]
     },
     "execution_count": 7,
     "metadata": {},
     "output_type": "execute_result"
    }
   ],
   "source": [
    "np.diag(D)"
   ]
  },
  {
   "cell_type": "markdown",
   "metadata": {
    "colab_type": "text",
    "id": "UvYANg3VMDE6"
   },
   "source": [
    "- Find all corresponding eigenvectors with $3$ being the first entry"
   ]
  },
  {
   "cell_type": "code",
   "execution_count": 8,
   "metadata": {
    "colab": {
     "base_uri": "https://localhost:8080/",
     "height": 68
    },
    "colab_type": "code",
    "id": "wTDyYWexC3fX",
    "outputId": "b510fd60-434e-486c-9a21-bcd6a81bb6c2"
   },
   "outputs": [
    {
     "name": "stdout",
     "output_type": "stream",
     "text": [
      "[ 3 -3  0]\n",
      "[0 3 3]\n",
      "[ 3  0 -3]\n"
     ]
    }
   ],
   "source": [
    "print(3*v1)\n",
    "print(3*v2)\n",
    "print(-3*v3)"
   ]
  },
  {
   "cell_type": "markdown",
   "metadata": {
    "colab_type": "text",
    "id": "rE4R-ONnPkRI"
   },
   "source": [
    "- Find $A^{5}$"
   ]
  },
  {
   "cell_type": "code",
   "execution_count": 9,
   "metadata": {
    "colab": {
     "base_uri": "https://localhost:8080/",
     "height": 68
    },
    "colab_type": "code",
    "id": "Tg2DOxdNC3O4",
    "outputId": "6990ee7c-9fc9-436d-9129-faad3bd0899a"
   },
   "outputs": [
    {
     "data": {
      "text/plain": [
       "array([[ 528.,  496., -496.],\n",
       "       [ -32.,    0.,  -32.],\n",
       "       [-528., -528.,  496.]])"
      ]
     },
     "execution_count": 9,
     "metadata": {},
     "output_type": "execute_result"
    }
   ],
   "source": [
    "# one way\n",
    "n = 5\n",
    "la.matrix_power(A,n)"
   ]
  },
  {
   "cell_type": "code",
   "execution_count": 10,
   "metadata": {
    "colab": {
     "base_uri": "https://localhost:8080/",
     "height": 68
    },
    "colab_type": "code",
    "id": "MaIcwkg9RM5k",
    "outputId": "ef0f6252-feec-459c-aac4-e8c3acc55c11"
   },
   "outputs": [
    {
     "data": {
      "text/plain": [
       "array([[ 528.,  496., -496.],\n",
       "       [ -32.,    0.,  -32.],\n",
       "       [-528., -528.,  496.]])"
      ]
     },
     "execution_count": 10,
     "metadata": {},
     "output_type": "execute_result"
    }
   ],
   "source": [
    "# second way\n",
    "n = 5\n",
    "V@np.diag([2**n, (-2)**n, 4**n])@la.inv(V)"
   ]
  },
  {
   "cell_type": "code",
   "execution_count": null,
   "metadata": {
    "colab": {},
    "colab_type": "code",
    "id": "x9TP3JDlRjc9"
   },
   "outputs": [],
   "source": []
  }
 ],
 "metadata": {
  "colab": {
   "authorship_tag": "ABX9TyNwI1YdQletkBiM7ICeZlxV",
   "include_colab_link": true,
   "name": "20writtenhw3.ipynb",
   "provenance": []
  },
  "kernelspec": {
   "display_name": "Python 3",
   "language": "python",
   "name": "python3"
  },
  "language_info": {
   "codemirror_mode": {
    "name": "ipython",
    "version": 3
   },
   "file_extension": ".py",
   "mimetype": "text/x-python",
   "name": "python",
   "nbconvert_exporter": "python",
   "pygments_lexer": "ipython3",
   "version": "3.7.6"
  }
 },
 "nbformat": 4,
 "nbformat_minor": 1
}
