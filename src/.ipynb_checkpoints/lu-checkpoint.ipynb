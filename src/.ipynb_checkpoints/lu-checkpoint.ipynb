{
 "cells": [
  {
   "cell_type": "markdown",
   "metadata": {
    "colab_type": "text",
    "id": "view-in-github"
   },
   "source": [
    "<a href=\"https://colab.research.google.com/github/songqsh/ma2071_v01/blob/master/src/lu.ipynb\" target=\"_parent\"><img src=\"https://colab.research.google.com/assets/colab-badge.svg\" alt=\"Open In Colab\"/></a>"
   ]
  },
  {
   "cell_type": "code",
   "execution_count": 0,
   "metadata": {
    "colab": {},
    "colab_type": "code",
    "id": "SwV5hWzHqCRJ"
   },
   "outputs": [],
   "source": [
    "from sympy import init_printing, Matrix, symbols, eye, printing\n",
    "def custom_latex_printer(exp,**options):\n",
    "    from google.colab.output._publish import javascript\n",
    "    url = \"https://cdnjs.cloudflare.com/ajax/libs/mathjax/2.7.3/latest.js?config=default\"\n",
    "    javascript(url=url)\n",
    "    return printing.latex(exp,**options)\n",
    "init_printing(use_latex=\"mathjax\",latex_printer=custom_latex_printer)\n",
    "lamda = symbols('lamda') # Note that lambda is a reserved word in python, so we use lamda (without the b)"
   ]
  },
  {
   "cell_type": "markdown",
   "metadata": {
    "colab_type": "text",
    "id": "_y9e2uZrqyab"
   },
   "source": [
    "# LU decomposition of a matrix A\n",
    "\n",
    "## Definitions\n",
    "\n",
    "* We will decompose the matrix A into and upper and lower triangular matrix, such that multiplying these will result back into A\n",
    "$$ A = LU $$\n",
    "* Given LU decomposition, it is easy to solve for $Ax = b$ by two steps:\n",
    "  * Solve for $y$ from $Ly = b$ by forward substitution\n",
    "  * Solve for $x$ from $Ux = y$ by backward substitution\n",
    "* This approach has $\\frac 2 3 n^3$ flops for $Ax = b$, while $x = A^{-1} b$ needs $2 n^3$ flops.\n",
    "\n",
    "* If $A$ is sparse, the form of $L$ and $U$ are likely to be sparse, while $A^{-1}$ be dense."
   ]
  },
  {
   "cell_type": "markdown",
   "metadata": {
    "colab_type": "text",
    "id": "ZStIkOgjrmQx"
   },
   "source": [
    "\n",
    "## How to obtain LU factorization\n",
    "\n",
    "* Consider the following matrix of coefficients\n",
    "$$ \\begin{bmatrix} 1 & -2 & 1 \\\\ 3 & 2 & -2 \\\\ 6 & -1 & -1 \\end{bmatrix} $$\n",
    "* Successive elementary row operation follow\n",
    "$$E_{32}*E_{31}*E_{21}*A = U.$$\n",
    "    * Which is nothing other than matrix multiplication of the __elementary matrices__\n",
    "    * An elementary matrix is an identity matrix on which one elementary row operation was performed. For instance, to eliminate $A_{ji}$ for some $j>i$, we usually use\n",
    "    $$E_{ji} = (c \\cdot r_i + r_j \\to r_j) = I + c e_{ji}.$$\n",
    "    * row exchange shall not be used.\n",
    "* Lower triangular matrix is\n",
    "$$L = (E_{32}*E_{31}*E_{21})^{-1}.$$\n",
    "  * Note that $(E_{ji})^{-1} = I - c e_{ji}$ for any $j>i$."
   ]
  },
  {
   "cell_type": "code",
   "execution_count": 2,
   "metadata": {
    "colab": {
     "base_uri": "https://localhost:8080/",
     "height": 113
    },
    "colab_type": "code",
    "id": "rXv7mKKNqLC3",
    "outputId": "1c29632c-97da-46ab-d5fd-15dbabf4b7a8"
   },
   "outputs": [
    {
     "data": {
      "text/html": [
       "<script src='https://cdnjs.cloudflare.com/ajax/libs/mathjax/2.7.3/latest.js?config=default'></script>"
      ],
      "text/plain": [
       "<IPython.core.display.HTML object>"
      ]
     },
     "metadata": {
      "tags": []
     },
     "output_type": "display_data"
    },
    {
     "data": {
      "text/latex": [
       "$$\\left[\\begin{matrix}1 & -2 & 1\\\\3 & 2 & -2\\\\6 & -1 & -1\\end{matrix}\\right]$$"
      ],
      "text/plain": [
       "⎡1  -2  1 ⎤\n",
       "⎢         ⎥\n",
       "⎢3  2   -2⎥\n",
       "⎢         ⎥\n",
       "⎣6  -1  -1⎦"
      ]
     },
     "execution_count": 2,
     "metadata": {
      "tags": []
     },
     "output_type": "execute_result"
    }
   ],
   "source": [
    "A = Matrix([[1, -2, 1], [3, 2, -2], [6, -1, -1]])\n",
    "A"
   ]
  },
  {
   "cell_type": "code",
   "execution_count": 3,
   "metadata": {
    "colab": {
     "base_uri": "https://localhost:8080/",
     "height": 113
    },
    "colab_type": "code",
    "id": "gJB3Zqf3vJ9Q",
    "outputId": "a50bdb3b-64d0-44bb-8fb2-2cba7580e214"
   },
   "outputs": [
    {
     "data": {
      "text/html": [
       "<script src='https://cdnjs.cloudflare.com/ajax/libs/mathjax/2.7.3/latest.js?config=default'></script>"
      ],
      "text/plain": [
       "<IPython.core.display.HTML object>"
      ]
     },
     "metadata": {
      "tags": []
     },
     "output_type": "display_data"
    },
    {
     "data": {
      "text/latex": [
       "$$\\left[\\begin{matrix}1 & 0 & 0\\\\-3 & 1 & 0\\\\0 & 0 & 1\\end{matrix}\\right]$$"
      ],
      "text/plain": [
       "⎡1   0  0⎤\n",
       "⎢        ⎥\n",
       "⎢-3  1  0⎥\n",
       "⎢        ⎥\n",
       "⎣0   0  1⎦"
      ]
     },
     "execution_count": 3,
     "metadata": {
      "tags": []
     },
     "output_type": "execute_result"
    }
   ],
   "source": [
    "'''=============\n",
    "E21 = (-3 * r1 + r2 --> r2) = -3 * e21 + I\n",
    "==============='''\n",
    "\n",
    "E21 = eye(3); E21[1,0] = -3\n",
    "E21"
   ]
  },
  {
   "cell_type": "code",
   "execution_count": 4,
   "metadata": {
    "colab": {
     "base_uri": "https://localhost:8080/",
     "height": 113
    },
    "colab_type": "code",
    "id": "Iqo4iHUAwO3b",
    "outputId": "12a6db4b-f833-42a4-8d7e-76c171fb03bc"
   },
   "outputs": [
    {
     "data": {
      "text/html": [
       "<script src='https://cdnjs.cloudflare.com/ajax/libs/mathjax/2.7.3/latest.js?config=default'></script>"
      ],
      "text/plain": [
       "<IPython.core.display.HTML object>"
      ]
     },
     "metadata": {
      "tags": []
     },
     "output_type": "display_data"
    },
    {
     "data": {
      "text/latex": [
       "$$\\left[\\begin{matrix}1 & -2 & 1\\\\0 & 8 & -5\\\\6 & -1 & -1\\end{matrix}\\right]$$"
      ],
      "text/plain": [
       "⎡1  -2  1 ⎤\n",
       "⎢         ⎥\n",
       "⎢0  8   -5⎥\n",
       "⎢         ⎥\n",
       "⎣6  -1  -1⎦"
      ]
     },
     "execution_count": 4,
     "metadata": {
      "tags": []
     },
     "output_type": "execute_result"
    }
   ],
   "source": [
    "E21*A"
   ]
  },
  {
   "cell_type": "code",
   "execution_count": 5,
   "metadata": {
    "colab": {
     "base_uri": "https://localhost:8080/",
     "height": 113
    },
    "colab_type": "code",
    "id": "CfIrTrtoyI3k",
    "outputId": "d51fbcca-6473-41c7-bdb7-b5b745b07a43"
   },
   "outputs": [
    {
     "data": {
      "text/html": [
       "<script src='https://cdnjs.cloudflare.com/ajax/libs/mathjax/2.7.3/latest.js?config=default'></script>"
      ],
      "text/plain": [
       "<IPython.core.display.HTML object>"
      ]
     },
     "metadata": {
      "tags": []
     },
     "output_type": "display_data"
    },
    {
     "data": {
      "text/latex": [
       "$$\\left[\\begin{matrix}1 & 0 & 0\\\\0 & 1 & 0\\\\-6 & 0 & 1\\end{matrix}\\right]$$"
      ],
      "text/plain": [
       "⎡1   0  0⎤\n",
       "⎢        ⎥\n",
       "⎢0   1  0⎥\n",
       "⎢        ⎥\n",
       "⎣-6  0  1⎦"
      ]
     },
     "execution_count": 5,
     "metadata": {
      "tags": []
     },
     "output_type": "execute_result"
    }
   ],
   "source": [
    "'''=============\n",
    "E31 = (-6 * r1 + r3 --> r3) = -6 * e31 + I\n",
    "==============='''\n",
    "\n",
    "E31 = eye(3); E31[2,0] = -6\n",
    "E31"
   ]
  },
  {
   "cell_type": "code",
   "execution_count": 6,
   "metadata": {
    "colab": {
     "base_uri": "https://localhost:8080/",
     "height": 113
    },
    "colab_type": "code",
    "id": "kcX0kveOzHCB",
    "outputId": "7749876b-2ac6-42af-ce1f-220a6ae8d777"
   },
   "outputs": [
    {
     "data": {
      "text/html": [
       "<script src='https://cdnjs.cloudflare.com/ajax/libs/mathjax/2.7.3/latest.js?config=default'></script>"
      ],
      "text/plain": [
       "<IPython.core.display.HTML object>"
      ]
     },
     "metadata": {
      "tags": []
     },
     "output_type": "display_data"
    },
    {
     "data": {
      "text/latex": [
       "$$\\left[\\begin{matrix}1 & -2 & 1\\\\0 & 8 & -5\\\\0 & 11 & -7\\end{matrix}\\right]$$"
      ],
      "text/plain": [
       "⎡1  -2  1 ⎤\n",
       "⎢         ⎥\n",
       "⎢0  8   -5⎥\n",
       "⎢         ⎥\n",
       "⎣0  11  -7⎦"
      ]
     },
     "execution_count": 6,
     "metadata": {
      "tags": []
     },
     "output_type": "execute_result"
    }
   ],
   "source": [
    "E31*E21*A"
   ]
  },
  {
   "cell_type": "code",
   "execution_count": 7,
   "metadata": {
    "colab": {
     "base_uri": "https://localhost:8080/",
     "height": 113
    },
    "colab_type": "code",
    "id": "HfLlvi4PzNyM",
    "outputId": "16013a7c-1aee-444f-88b4-6b6ebbdaeca7"
   },
   "outputs": [
    {
     "data": {
      "text/html": [
       "<script src='https://cdnjs.cloudflare.com/ajax/libs/mathjax/2.7.3/latest.js?config=default'></script>"
      ],
      "text/plain": [
       "<IPython.core.display.HTML object>"
      ]
     },
     "metadata": {
      "tags": []
     },
     "output_type": "display_data"
    },
    {
     "data": {
      "text/latex": [
       "$$\\left[\\begin{matrix}1 & 0 & 0\\\\0 & 1 & 0\\\\0 & -1.375 & 1\\end{matrix}\\right]$$"
      ],
      "text/plain": [
       "⎡1    0     0⎤\n",
       "⎢            ⎥\n",
       "⎢0    1     0⎥\n",
       "⎢            ⎥\n",
       "⎣0  -1.375  1⎦"
      ]
     },
     "execution_count": 7,
     "metadata": {
      "tags": []
     },
     "output_type": "execute_result"
    }
   ],
   "source": [
    "'''=============\n",
    "E32 = (-11/8 * r2 + r3 --> r3) = -11/8 * e32 + I\n",
    "==============='''\n",
    "\n",
    "E32 = eye(3); E32[2,1] = -11/8\n",
    "E32"
   ]
  },
  {
   "cell_type": "code",
   "execution_count": 8,
   "metadata": {
    "colab": {
     "base_uri": "https://localhost:8080/",
     "height": 113
    },
    "colab_type": "code",
    "id": "ozHRSsbKzwtL",
    "outputId": "bf81dc47-78b0-49c7-8dc2-4344d51fd91d"
   },
   "outputs": [
    {
     "data": {
      "text/html": [
       "<script src='https://cdnjs.cloudflare.com/ajax/libs/mathjax/2.7.3/latest.js?config=default'></script>"
      ],
      "text/plain": [
       "<IPython.core.display.HTML object>"
      ]
     },
     "metadata": {
      "tags": []
     },
     "output_type": "display_data"
    },
    {
     "data": {
      "text/latex": [
       "$$\\left[\\begin{matrix}1 & -2 & 1\\\\0 & 8 & -5\\\\0 & 0 & -0.125\\end{matrix}\\right]$$"
      ],
      "text/plain": [
       "⎡1  -2    1   ⎤\n",
       "⎢             ⎥\n",
       "⎢0  8     -5  ⎥\n",
       "⎢             ⎥\n",
       "⎣0  0   -0.125⎦"
      ]
     },
     "execution_count": 8,
     "metadata": {
      "tags": []
     },
     "output_type": "execute_result"
    }
   ],
   "source": [
    "'''=============\n",
    "it ends up with upper triangular U\n",
    "==============='''\n",
    "E32*E31*E21*A"
   ]
  },
  {
   "cell_type": "code",
   "execution_count": 9,
   "metadata": {
    "colab": {
     "base_uri": "https://localhost:8080/",
     "height": 113
    },
    "colab_type": "code",
    "id": "HcXiTg0qz1AD",
    "outputId": "6d71e9b0-78eb-43e8-ddf0-59fb3e9035b5"
   },
   "outputs": [
    {
     "data": {
      "text/html": [
       "<script src='https://cdnjs.cloudflare.com/ajax/libs/mathjax/2.7.3/latest.js?config=default'></script>"
      ],
      "text/plain": [
       "<IPython.core.display.HTML object>"
      ]
     },
     "metadata": {
      "tags": []
     },
     "output_type": "display_data"
    },
    {
     "data": {
      "text/latex": [
       "$$\\left[\\begin{matrix}1 & 0 & 0\\\\3 & 1.0 & 0\\\\6 & 1.375 & 1\\end{matrix}\\right]$$"
      ],
      "text/plain": [
       "⎡1    0    0⎤\n",
       "⎢           ⎥\n",
       "⎢3   1.0   0⎥\n",
       "⎢           ⎥\n",
       "⎣6  1.375  1⎦"
      ]
     },
     "execution_count": 9,
     "metadata": {
      "tags": []
     },
     "output_type": "execute_result"
    }
   ],
   "source": [
    "'''===========\n",
    "lower triangular L\n",
    "==============='''\n",
    "E21.inv()*E31.inv()*E32.inv()"
   ]
  },
  {
   "cell_type": "markdown",
   "metadata": {
    "colab_type": "text",
    "id": "cerQa_A00T7I"
   },
   "source": [
    "There is one-shot method for LU factorization"
   ]
  },
  {
   "cell_type": "code",
   "execution_count": 10,
   "metadata": {
    "colab": {
     "base_uri": "https://localhost:8080/",
     "height": 118
    },
    "colab_type": "code",
    "id": "K8o-nAVC0Meq",
    "outputId": "b48b9d33-b6d3-4501-c4ae-a7532bd5c821"
   },
   "outputs": [
    {
     "data": {
      "text/html": [
       "<script src='https://cdnjs.cloudflare.com/ajax/libs/mathjax/2.7.3/latest.js?config=default'></script>"
      ],
      "text/plain": [
       "<IPython.core.display.HTML object>"
      ]
     },
     "metadata": {
      "tags": []
     },
     "output_type": "display_data"
    },
    {
     "data": {
      "text/latex": [
       "$$\\left[\\begin{matrix}1 & 0 & 0\\\\3 & 1 & 0\\\\6 & \\frac{11}{8} & 1\\end{matrix}\\right]$$"
      ],
      "text/plain": [
       "⎡1   0    0⎤\n",
       "⎢          ⎥\n",
       "⎢3   1    0⎥\n",
       "⎢          ⎥\n",
       "⎣6  11/8  1⎦"
      ]
     },
     "execution_count": 10,
     "metadata": {
      "tags": []
     },
     "output_type": "execute_result"
    }
   ],
   "source": [
    "L, U, X = A.LUdecomposition()\n",
    "L"
   ]
  },
  {
   "cell_type": "code",
   "execution_count": 11,
   "metadata": {
    "colab": {
     "base_uri": "https://localhost:8080/",
     "height": 118
    },
    "colab_type": "code",
    "id": "X4UZ32ZM0lQq",
    "outputId": "8c639084-9e12-446b-c1c2-10dc9dd74c2e"
   },
   "outputs": [
    {
     "data": {
      "text/html": [
       "<script src='https://cdnjs.cloudflare.com/ajax/libs/mathjax/2.7.3/latest.js?config=default'></script>"
      ],
      "text/plain": [
       "<IPython.core.display.HTML object>"
      ]
     },
     "metadata": {
      "tags": []
     },
     "output_type": "display_data"
    },
    {
     "data": {
      "text/latex": [
       "$$\\left[\\begin{matrix}1 & -2 & 1\\\\0 & 8 & -5\\\\0 & 0 & - \\frac{1}{8}\\end{matrix}\\right]$$"
      ],
      "text/plain": [
       "⎡1  -2   1  ⎤\n",
       "⎢           ⎥\n",
       "⎢0  8    -5 ⎥\n",
       "⎢           ⎥\n",
       "⎣0  0   -1/8⎦"
      ]
     },
     "execution_count": 11,
     "metadata": {
      "tags": []
     },
     "output_type": "execute_result"
    }
   ],
   "source": [
    "U"
   ]
  },
  {
   "cell_type": "code",
   "execution_count": 0,
   "metadata": {
    "colab": {},
    "colab_type": "code",
    "id": "xRKmvF2b1Bxy"
   },
   "outputs": [],
   "source": []
  }
 ],
 "metadata": {
  "colab": {
   "include_colab_link": true,
   "name": "lu.ipynb",
   "provenance": [],
   "version": "0.3.2"
  },
  "kernelspec": {
   "display_name": "Python 3",
   "language": "python",
   "name": "python3"
  },
  "language_info": {
   "codemirror_mode": {
    "name": "ipython",
    "version": 3
   },
   "file_extension": ".py",
   "mimetype": "text/x-python",
   "name": "python",
   "nbconvert_exporter": "python",
   "pygments_lexer": "ipython3",
   "version": "3.6.4"
  }
 },
 "nbformat": 4,
 "nbformat_minor": 1
}
