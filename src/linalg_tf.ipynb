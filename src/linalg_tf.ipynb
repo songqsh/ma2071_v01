{
  "nbformat": 4,
  "nbformat_minor": 0,
  "metadata": {
    "colab": {
      "name": "linalg_tf.ipynb",
      "version": "0.3.2",
      "provenance": [],
      "include_colab_link": true
    },
    "kernelspec": {
      "name": "python3",
      "display_name": "Python 3"
    },
    "accelerator": "GPU"
  },
  "cells": [
    {
      "cell_type": "markdown",
      "metadata": {
        "id": "view-in-github",
        "colab_type": "text"
      },
      "source": [
        "<a href=\"https://colab.research.google.com/github/songqsh/ma2071_v01/blob/master/src/linalg_tf.ipynb\" target=\"_parent\"><img src=\"https://colab.research.google.com/assets/colab-badge.svg\" alt=\"Open In Colab\"/></a>"
      ]
    },
    {
      "metadata": {
        "id": "ZHIaDvcLoI3i",
        "colab_type": "text"
      },
      "cell_type": "markdown",
      "source": [
        "Confirm TensorFlow can see the GPU\n",
        "\n",
        "- Simply select \"GPU\" in the Accelerator drop-down in Notebook Settings (either through the Edit menu or the command palette at cmd/ctrl-shift-P)."
      ]
    },
    {
      "metadata": {
        "id": "z0c87NrNoGRQ",
        "colab_type": "code",
        "outputId": "853f5e6c-c3e6-400f-e170-19ceba56984e",
        "colab": {
          "base_uri": "https://localhost:8080/",
          "height": 34
        }
      },
      "cell_type": "code",
      "source": [
        "import tensorflow as tf\n",
        "device_name = tf.test.gpu_device_name()\n",
        "if device_name != '/device:GPU:0':\n",
        "  raise SystemError('GPU device not found')\n",
        "print('Found GPU at: {}'.format(device_name))"
      ],
      "execution_count": 1,
      "outputs": [
        {
          "output_type": "stream",
          "text": [
            "Found GPU at: /device:GPU:0\n"
          ],
          "name": "stdout"
        }
      ]
    },
    {
      "metadata": {
        "id": "H_PG9MgtDdgF",
        "colab_type": "code",
        "colab": {}
      },
      "cell_type": "code",
      "source": [
        "#import packages\n",
        "\n",
        "import tensorflow as tf\n",
        "import tensorflow.linalg as tfla\n",
        "import numpy as np\n",
        "import numpy.linalg as npla"
      ],
      "execution_count": 0,
      "outputs": []
    },
    {
      "metadata": {
        "id": "4w6KvMkvpEnp",
        "colab_type": "code",
        "colab": {}
      },
      "cell_type": "code",
      "source": [
        "#run a session\n",
        "sess = tf.Session()"
      ],
      "execution_count": 0,
      "outputs": []
    },
    {
      "metadata": {
        "id": "okmaDwvPGxwP",
        "colab_type": "code",
        "outputId": "9461e5b6-ed7d-450d-8621-58a7f3a2578f",
        "colab": {
          "base_uri": "https://localhost:8080/",
          "height": 68
        }
      },
      "cell_type": "code",
      "source": [
        "#matrix input\n",
        "# 2-D tensor `a`\n",
        "\n",
        "a = tf.constant([[1., -1, 0],        \n",
        "                 [0, 2, 0],\n",
        "                 [0., 1, 1]])\n",
        "\n",
        "\n",
        "sess.run(a)\n"
      ],
      "execution_count": 4,
      "outputs": [
        {
          "output_type": "execute_result",
          "data": {
            "text/plain": [
              "array([[ 1., -1.,  0.],\n",
              "       [ 0.,  2.,  0.],\n",
              "       [ 0.,  1.,  1.]], dtype=float32)"
            ]
          },
          "metadata": {
            "tags": []
          },
          "execution_count": 4
        }
      ]
    },
    {
      "metadata": {
        "id": "ngoK5WA7ES1o",
        "colab_type": "code",
        "outputId": "5bd37851-6563-4fe3-9bfa-e666773c496e",
        "colab": {
          "base_uri": "https://localhost:8080/",
          "height": 68
        }
      },
      "cell_type": "code",
      "source": [
        "# identity matrix\n",
        "\n",
        "id3 = tf.eye(3)\n",
        "sess.run(id3)"
      ],
      "execution_count": 5,
      "outputs": [
        {
          "output_type": "execute_result",
          "data": {
            "text/plain": [
              "array([[1., 0., 0.],\n",
              "       [0., 1., 0.],\n",
              "       [0., 0., 1.]], dtype=float32)"
            ]
          },
          "metadata": {
            "tags": []
          },
          "execution_count": 5
        }
      ]
    },
    {
      "metadata": {
        "id": "LhMBYcLOG2X8",
        "colab_type": "code",
        "outputId": "593e7a09-5b7a-472d-acfa-c24300973204",
        "colab": {
          "base_uri": "https://localhost:8080/",
          "height": 68
        }
      },
      "cell_type": "code",
      "source": [
        "#transpose\n",
        "\n",
        "a_trans = tfla.transpose(a)\n",
        "sess.run(a_trans)"
      ],
      "execution_count": 6,
      "outputs": [
        {
          "output_type": "execute_result",
          "data": {
            "text/plain": [
              "array([[ 1.,  0.,  0.],\n",
              "       [-1.,  2.,  1.],\n",
              "       [ 0.,  0.,  1.]], dtype=float32)"
            ]
          },
          "metadata": {
            "tags": []
          },
          "execution_count": 6
        }
      ]
    },
    {
      "metadata": {
        "id": "zOIJe6uSHKKx",
        "colab_type": "code",
        "outputId": "befa77b7-df1b-4b3f-bd0d-6b641a648406",
        "colab": {
          "base_uri": "https://localhost:8080/",
          "height": 68
        }
      },
      "cell_type": "code",
      "source": [
        "#multiplication\n",
        "\n",
        "prod = a @ a_trans\n",
        "\n",
        "sess.run(prod)"
      ],
      "execution_count": 7,
      "outputs": [
        {
          "output_type": "execute_result",
          "data": {
            "text/plain": [
              "array([[ 2., -2., -1.],\n",
              "       [-2.,  4.,  2.],\n",
              "       [-1.,  2.,  2.]], dtype=float32)"
            ]
          },
          "metadata": {
            "tags": []
          },
          "execution_count": 7
        }
      ]
    },
    {
      "metadata": {
        "id": "D-2GnlOQEfkm",
        "colab_type": "code",
        "outputId": "764ce68f-d0c1-4a51-b316-cd0fb2757c1c",
        "colab": {
          "base_uri": "https://localhost:8080/",
          "height": 68
        }
      },
      "cell_type": "code",
      "source": [
        "# solver of linear system\n",
        "\n",
        "soln = tfla.solve(a, id3)\n",
        "sess.run(soln)"
      ],
      "execution_count": 8,
      "outputs": [
        {
          "output_type": "execute_result",
          "data": {
            "text/plain": [
              "array([[ 1. ,  0.5,  0. ],\n",
              "       [ 0. ,  0.5,  0. ],\n",
              "       [ 0. , -0.5,  1. ]], dtype=float32)"
            ]
          },
          "metadata": {
            "tags": []
          },
          "execution_count": 8
        }
      ]
    },
    {
      "metadata": {
        "id": "nMF54wGLHTbG",
        "colab_type": "code",
        "outputId": "d7c256b6-fb52-4613-f94f-919dde842735",
        "colab": {
          "base_uri": "https://localhost:8080/",
          "height": 34
        }
      },
      "cell_type": "code",
      "source": [
        "#determinant\n",
        "\n",
        "sess.run(tfla.det(a))"
      ],
      "execution_count": 9,
      "outputs": [
        {
          "output_type": "execute_result",
          "data": {
            "text/plain": [
              "2.0"
            ]
          },
          "metadata": {
            "tags": []
          },
          "execution_count": 9
        }
      ]
    },
    {
      "metadata": {
        "id": "-C-W0esARtYo",
        "colab_type": "code",
        "outputId": "b90a97c0-e6f6-493a-9f8d-58b1eb2239b4",
        "colab": {
          "base_uri": "https://localhost:8080/",
          "height": 68
        }
      },
      "cell_type": "code",
      "source": [
        "#inverse\n",
        "\n",
        "a_inv = tfla.inv(a)\n",
        "sess.run(a_inv)"
      ],
      "execution_count": 10,
      "outputs": [
        {
          "output_type": "execute_result",
          "data": {
            "text/plain": [
              "array([[ 1. ,  0.5,  0. ],\n",
              "       [ 0. ,  0.5,  0. ],\n",
              "       [ 0. , -0.5,  1. ]], dtype=float32)"
            ]
          },
          "metadata": {
            "tags": []
          },
          "execution_count": 10
        }
      ]
    },
    {
      "metadata": {
        "id": "XBdVbaMwp0Q9",
        "colab_type": "code",
        "outputId": "616e7894-0cb7-4f6e-f98e-f38620963c41",
        "colab": {
          "base_uri": "https://localhost:8080/",
          "height": 68
        }
      },
      "cell_type": "code",
      "source": [
        "# check inverse\n",
        "\n",
        "sess.run(a@a_inv)"
      ],
      "execution_count": 11,
      "outputs": [
        {
          "output_type": "execute_result",
          "data": {
            "text/plain": [
              "array([[1., 0., 0.],\n",
              "       [0., 1., 0.],\n",
              "       [0., 0., 1.]], dtype=float32)"
            ]
          },
          "metadata": {
            "tags": []
          },
          "execution_count": 11
        }
      ]
    },
    {
      "metadata": {
        "id": "vGc_01Yap6We",
        "colab_type": "code",
        "outputId": "ccbe77f7-73db-4e18-bc50-5264c62c03da",
        "colab": {
          "base_uri": "https://localhost:8080/",
          "height": 34
        }
      },
      "cell_type": "code",
      "source": [
        "#change tensor to numpy array\n",
        "\n",
        "a_np = sess.run(a)\n",
        "\n",
        "type(a_np)"
      ],
      "execution_count": 12,
      "outputs": [
        {
          "output_type": "execute_result",
          "data": {
            "text/plain": [
              "numpy.ndarray"
            ]
          },
          "metadata": {
            "tags": []
          },
          "execution_count": 12
        }
      ]
    },
    {
      "metadata": {
        "id": "Kdim0Sm3qKg4",
        "colab_type": "code",
        "outputId": "630ff8e7-a9af-4f2f-c572-b940ae698983",
        "colab": {
          "base_uri": "https://localhost:8080/",
          "height": 85
        }
      },
      "cell_type": "code",
      "source": [
        "# eigen decomposition\n",
        "# this is not available in tf, so we have to use np\n",
        "\n",
        "a_eig_val, a_eig_vec = npla.eig(a_np)\n",
        "print(a_eig_val)\n",
        "print(a_eig_vec)"
      ],
      "execution_count": 13,
      "outputs": [
        {
          "output_type": "stream",
          "text": [
            "[1. 1. 2.]\n",
            "[[ 1.          0.         -0.57735026]\n",
            " [ 0.          0.          0.57735026]\n",
            " [ 0.          1.          0.57735026]]\n"
          ],
          "name": "stdout"
        }
      ]
    },
    {
      "metadata": {
        "id": "BmI25iVwRKkY",
        "colab_type": "code",
        "colab": {}
      },
      "cell_type": "code",
      "source": [
        ""
      ],
      "execution_count": 0,
      "outputs": []
    }
  ]
}