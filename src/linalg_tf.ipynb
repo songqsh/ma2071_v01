{
  "nbformat": 4,
  "nbformat_minor": 0,
  "metadata": {
    "colab": {
      "name": "linalg_tf.ipynb",
      "version": "0.3.2",
      "provenance": [],
      "include_colab_link": true
    },
    "kernelspec": {
      "name": "python3",
      "display_name": "Python 3"
    },
    "accelerator": "GPU"
  },
  "cells": [
    {
      "cell_type": "markdown",
      "metadata": {
        "id": "view-in-github",
        "colab_type": "text"
      },
      "source": [
        "<a href=\"https://colab.research.google.com/github/songqsh/ma2071_v01/blob/master/src/linalg_tf.ipynb\" target=\"_parent\"><img src=\"https://colab.research.google.com/assets/colab-badge.svg\" alt=\"Open In Colab\"/></a>"
      ]
    },
    {
      "metadata": {
        "id": "ZHIaDvcLoI3i",
        "colab_type": "text"
      },
      "cell_type": "markdown",
      "source": [
        "# Confirm TensorFlow can see the GPU\n",
        "\n",
        "Simply select \"GPU\" in the Accelerator drop-down in Notebook Settings (either through the Edit menu or the command palette at cmd/ctrl-shift-P)."
      ]
    },
    {
      "metadata": {
        "id": "z0c87NrNoGRQ",
        "colab_type": "code",
        "outputId": "73c1e4e0-08b7-47a0-ab76-f7349bc8ab7d",
        "colab": {
          "base_uri": "https://localhost:8080/",
          "height": 34
        }
      },
      "cell_type": "code",
      "source": [
        "import tensorflow as tf\n",
        "device_name = tf.test.gpu_device_name()\n",
        "if device_name != '/device:GPU:0':\n",
        "  raise SystemError('GPU device not found')\n",
        "print('Found GPU at: {}'.format(device_name))"
      ],
      "execution_count": 1,
      "outputs": [
        {
          "output_type": "stream",
          "text": [
            "Found GPU at: /device:GPU:0\n"
          ],
          "name": "stdout"
        }
      ]
    },
    {
      "metadata": {
        "id": "H_PG9MgtDdgF",
        "colab_type": "code",
        "colab": {}
      },
      "cell_type": "code",
      "source": [
        "#import packages\n",
        "\n",
        "import tensorflow as tf\n",
        "import tensorflow.linalg as tfla\n",
        "import numpy as np\n",
        "import numpy.linalg as npla"
      ],
      "execution_count": 0,
      "outputs": []
    },
    {
      "metadata": {
        "id": "4w6KvMkvpEnp",
        "colab_type": "code",
        "colab": {}
      },
      "cell_type": "code",
      "source": [
        "#run a session\n",
        "sess = tf.Session()"
      ],
      "execution_count": 0,
      "outputs": []
    },
    {
      "metadata": {
        "id": "okmaDwvPGxwP",
        "colab_type": "code",
        "outputId": "e1b0ea2f-48cc-430b-fed3-145e56b6ab66",
        "colab": {
          "base_uri": "https://localhost:8080/",
          "height": 68
        }
      },
      "cell_type": "code",
      "source": [
        "#matrix input\n",
        "# 2-D tensor `a`\n",
        "\n",
        "a = tf.constant([[1., -1, 0],        \n",
        "                 [0, 2, 0],\n",
        "                 [0., 1, 1]])\n",
        "\n",
        "\n",
        "sess.run(a)\n"
      ],
      "execution_count": 5,
      "outputs": [
        {
          "output_type": "execute_result",
          "data": {
            "text/plain": [
              "array([[ 1., -1.,  0.],\n",
              "       [ 0.,  2.,  0.],\n",
              "       [ 0.,  1.,  1.]], dtype=float32)"
            ]
          },
          "metadata": {
            "tags": []
          },
          "execution_count": 5
        }
      ]
    },
    {
      "metadata": {
        "id": "ngoK5WA7ES1o",
        "colab_type": "code",
        "colab": {
          "base_uri": "https://localhost:8080/",
          "height": 68
        },
        "outputId": "fef3d91d-dac2-49f4-d612-4621eb4879dc"
      },
      "cell_type": "code",
      "source": [
        "# identity matrix\n",
        "\n",
        "id3 = tf.eye(3)\n",
        "sess.run(id3)"
      ],
      "execution_count": 6,
      "outputs": [
        {
          "output_type": "execute_result",
          "data": {
            "text/plain": [
              "array([[1., 0., 0.],\n",
              "       [0., 1., 0.],\n",
              "       [0., 0., 1.]], dtype=float32)"
            ]
          },
          "metadata": {
            "tags": []
          },
          "execution_count": 6
        }
      ]
    },
    {
      "metadata": {
        "id": "LhMBYcLOG2X8",
        "colab_type": "code",
        "outputId": "3d8946eb-1d5e-4fc3-902b-f6e927183bdf",
        "colab": {
          "base_uri": "https://localhost:8080/",
          "height": 68
        }
      },
      "cell_type": "code",
      "source": [
        "#transpose\n",
        "\n",
        "a_trans = tfla.transpose(a)\n",
        "sess.run(a_trans)"
      ],
      "execution_count": 7,
      "outputs": [
        {
          "output_type": "execute_result",
          "data": {
            "text/plain": [
              "array([[ 1.,  0.,  0.],\n",
              "       [-1.,  2.,  1.],\n",
              "       [ 0.,  0.,  1.]], dtype=float32)"
            ]
          },
          "metadata": {
            "tags": []
          },
          "execution_count": 7
        }
      ]
    },
    {
      "metadata": {
        "id": "zOIJe6uSHKKx",
        "colab_type": "code",
        "outputId": "225364d7-c163-4115-a8c0-106bd186b5c2",
        "colab": {
          "base_uri": "https://localhost:8080/",
          "height": 68
        }
      },
      "cell_type": "code",
      "source": [
        "#multiplication\n",
        "\n",
        "prod = a @ a_trans\n",
        "\n",
        "sess.run(prod)"
      ],
      "execution_count": 8,
      "outputs": [
        {
          "output_type": "execute_result",
          "data": {
            "text/plain": [
              "array([[ 2., -2., -1.],\n",
              "       [-2.,  4.,  2.],\n",
              "       [-1.,  2.,  2.]], dtype=float32)"
            ]
          },
          "metadata": {
            "tags": []
          },
          "execution_count": 8
        }
      ]
    },
    {
      "metadata": {
        "id": "D-2GnlOQEfkm",
        "colab_type": "code",
        "colab": {
          "base_uri": "https://localhost:8080/",
          "height": 68
        },
        "outputId": "d5de1591-b878-4e8a-df17-066a7bafa302"
      },
      "cell_type": "code",
      "source": [
        "# solver of linear system\n",
        "\n",
        "soln = tfla.solve(a, id3)\n",
        "sess.run(soln)"
      ],
      "execution_count": 10,
      "outputs": [
        {
          "output_type": "execute_result",
          "data": {
            "text/plain": [
              "array([[ 1. ,  0.5,  0. ],\n",
              "       [ 0. ,  0.5,  0. ],\n",
              "       [ 0. , -0.5,  1. ]], dtype=float32)"
            ]
          },
          "metadata": {
            "tags": []
          },
          "execution_count": 10
        }
      ]
    },
    {
      "metadata": {
        "id": "nMF54wGLHTbG",
        "colab_type": "code",
        "outputId": "d7ec4fcf-17a2-476c-f67b-e01c3b379c39",
        "colab": {
          "base_uri": "https://localhost:8080/",
          "height": 34
        }
      },
      "cell_type": "code",
      "source": [
        "#determinant\n",
        "\n",
        "sess.run(tfla.det(a))"
      ],
      "execution_count": 0,
      "outputs": [
        {
          "output_type": "execute_result",
          "data": {
            "text/plain": [
              "2.0"
            ]
          },
          "metadata": {
            "tags": []
          },
          "execution_count": 18
        }
      ]
    },
    {
      "metadata": {
        "id": "-C-W0esARtYo",
        "colab_type": "code",
        "outputId": "664bc056-de71-4fc5-b2ef-04b5cef54051",
        "colab": {
          "base_uri": "https://localhost:8080/",
          "height": 68
        }
      },
      "cell_type": "code",
      "source": [
        "#inverse\n",
        "\n",
        "a_inv = tfla.inv(a)\n",
        "sess.run(a_inv)"
      ],
      "execution_count": 0,
      "outputs": [
        {
          "output_type": "execute_result",
          "data": {
            "text/plain": [
              "array([[ 1. ,  0.5,  0. ],\n",
              "       [ 0. ,  0.5,  0. ],\n",
              "       [ 0. , -0.5,  1. ]], dtype=float32)"
            ]
          },
          "metadata": {
            "tags": []
          },
          "execution_count": 20
        }
      ]
    },
    {
      "metadata": {
        "id": "XBdVbaMwp0Q9",
        "colab_type": "code",
        "outputId": "3c5bfc26-d570-4ead-afa2-568f39417517",
        "colab": {
          "base_uri": "https://localhost:8080/",
          "height": 68
        }
      },
      "cell_type": "code",
      "source": [
        "# check inverse\n",
        "\n",
        "sess.run(a@a_inv)"
      ],
      "execution_count": 0,
      "outputs": [
        {
          "output_type": "execute_result",
          "data": {
            "text/plain": [
              "array([[1., 0., 0.],\n",
              "       [0., 1., 0.],\n",
              "       [0., 0., 1.]], dtype=float32)"
            ]
          },
          "metadata": {
            "tags": []
          },
          "execution_count": 21
        }
      ]
    },
    {
      "metadata": {
        "id": "vGc_01Yap6We",
        "colab_type": "code",
        "outputId": "1231e5c3-18b5-4314-b59f-e4cdb6f9e517",
        "colab": {
          "base_uri": "https://localhost:8080/",
          "height": 34
        }
      },
      "cell_type": "code",
      "source": [
        "#change tensor to numpy array\n",
        "\n",
        "a_np = sess.run(a)\n",
        "\n",
        "type(a_np)"
      ],
      "execution_count": 0,
      "outputs": [
        {
          "output_type": "execute_result",
          "data": {
            "text/plain": [
              "numpy.ndarray"
            ]
          },
          "metadata": {
            "tags": []
          },
          "execution_count": 22
        }
      ]
    },
    {
      "metadata": {
        "id": "Kdim0Sm3qKg4",
        "colab_type": "code",
        "outputId": "ee0043b3-3419-45fa-8361-fc46d0075992",
        "colab": {
          "base_uri": "https://localhost:8080/",
          "height": 85
        }
      },
      "cell_type": "code",
      "source": [
        "# eigen decomposition\n",
        "# this is not available in tf, so we have to use np\n",
        "\n",
        "a_eig_val, a_eig_vec = npla.eig(a_np)\n",
        "print(a_eig_val)\n",
        "print(a_eig_vec)"
      ],
      "execution_count": 0,
      "outputs": [
        {
          "output_type": "stream",
          "text": [
            "[1. 1. 2.]\n",
            "[[ 1.          0.         -0.57735026]\n",
            " [ 0.          0.          0.57735026]\n",
            " [ 0.          1.          0.57735026]]\n"
          ],
          "name": "stdout"
        }
      ]
    },
    {
      "metadata": {
        "id": "BmI25iVwRKkY",
        "colab_type": "code",
        "colab": {}
      },
      "cell_type": "code",
      "source": [
        ""
      ],
      "execution_count": 0,
      "outputs": []
    }
  ]
}