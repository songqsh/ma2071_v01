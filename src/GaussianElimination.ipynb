{
  "nbformat": 4,
  "nbformat_minor": 0,
  "metadata": {
    "colab": {
      "name": "GaussianElimination.ipynb",
      "provenance": [],
      "authorship_tag": "ABX9TyMdeu609nmaDJv7RKCWKBgO"
    },
    "kernelspec": {
      "name": "python3",
      "display_name": "Python 3"
    }
  },
  "cells": [
    {
      "cell_type": "markdown",
      "metadata": {
        "id": "00ZyRRxarrBi"
      },
      "source": [
        "# Gaussian elimination: Convert a matrix to an Reduced Row Echelon Form (RREF)"
      ]
    },
    {
      "cell_type": "code",
      "metadata": {
        "id": "HdIczcDireLv"
      },
      "source": [
        "# import package\n",
        "import numpy as np\n",
        "import numpy.linalg as la\n",
        "np.set_printoptions(suppress=True)"
      ],
      "execution_count": 1,
      "outputs": []
    },
    {
      "cell_type": "markdown",
      "metadata": {
        "id": "c2QmGEHdttx0"
      },
      "source": [
        "## Matrix in numpy"
      ]
    },
    {
      "cell_type": "code",
      "metadata": {
        "colab": {
          "base_uri": "https://localhost:8080/"
        },
        "id": "hM68Z6gnr17k",
        "outputId": "d313b619-eddb-48ba-e591-120b6fb4b6f5"
      },
      "source": [
        "# input matrix\n",
        "A = np.array([[.2, .17, .25, .2, .1],\n",
        "              [.25, .2, .1, .3, 0],\n",
        "              [.05, .2, .1, .15, .1]])\n",
        "A # print A"
      ],
      "execution_count": 2,
      "outputs": [
        {
          "output_type": "execute_result",
          "data": {
            "text/plain": [
              "array([[0.2 , 0.17, 0.25, 0.2 , 0.1 ],\n",
              "       [0.25, 0.2 , 0.1 , 0.3 , 0.  ],\n",
              "       [0.05, 0.2 , 0.1 , 0.15, 0.1 ]])"
            ]
          },
          "metadata": {},
          "execution_count": 2
        }
      ]
    },
    {
      "cell_type": "code",
      "metadata": {
        "colab": {
          "base_uri": "https://localhost:8080/"
        },
        "id": "f9cZslP6s0z8",
        "outputId": "44a3186e-445a-4546-b49f-0535acf229a6"
      },
      "source": [
        "# indexing is starting from 0, not from 1\n",
        "# ex. print the third row\n",
        "A[2]"
      ],
      "execution_count": 3,
      "outputs": [
        {
          "output_type": "execute_result",
          "data": {
            "text/plain": [
              "array([0.05, 0.2 , 0.1 , 0.15, 0.1 ])"
            ]
          },
          "metadata": {},
          "execution_count": 3
        }
      ]
    },
    {
      "cell_type": "code",
      "metadata": {
        "colab": {
          "base_uri": "https://localhost:8080/"
        },
        "id": "Y1L1w5F3tQc5",
        "outputId": "d5998fe6-40a2-4948-ca5a-ea7eeba0822f"
      },
      "source": [
        "# ex. print the entry at 2nd row 4th column\n",
        "A[1,3]"
      ],
      "execution_count": 4,
      "outputs": [
        {
          "output_type": "execute_result",
          "data": {
            "text/plain": [
              "0.3"
            ]
          },
          "metadata": {},
          "execution_count": 4
        }
      ]
    },
    {
      "cell_type": "markdown",
      "metadata": {
        "id": "o2p2m-mct1ZO"
      },
      "source": [
        "## How to RREF"
      ]
    },
    {
      "cell_type": "code",
      "metadata": {
        "colab": {
          "base_uri": "https://localhost:8080/"
        },
        "id": "pwnoP1xKtbbo",
        "outputId": "627bbc87-ec19-4255-e22d-0090cbc527ae"
      },
      "source": [
        "# We will reduce the matrix A into RREF\n",
        "A"
      ],
      "execution_count": 5,
      "outputs": [
        {
          "output_type": "execute_result",
          "data": {
            "text/plain": [
              "array([[0.2 , 0.17, 0.25, 0.2 , 0.1 ],\n",
              "       [0.25, 0.2 , 0.1 , 0.3 , 0.  ],\n",
              "       [0.05, 0.2 , 0.1 , 0.15, 0.1 ]])"
            ]
          },
          "metadata": {},
          "execution_count": 5
        }
      ]
    },
    {
      "cell_type": "markdown",
      "metadata": {
        "id": "_NA363x8uXbI"
      },
      "source": [
        "### Forward elimination"
      ]
    },
    {
      "cell_type": "code",
      "metadata": {
        "colab": {
          "base_uri": "https://localhost:8080/"
        },
        "id": "c7V1hUZ-uSGP",
        "outputId": "f9970ad9-74c6-4626-fe54-02b06499b163"
      },
      "source": [
        "# R1/0.2 --> R1\n",
        "A[0] = A[0] / 0.2\n",
        "A #print"
      ],
      "execution_count": 6,
      "outputs": [
        {
          "output_type": "execute_result",
          "data": {
            "text/plain": [
              "array([[1.  , 0.85, 1.25, 1.  , 0.5 ],\n",
              "       [0.25, 0.2 , 0.1 , 0.3 , 0.  ],\n",
              "       [0.05, 0.2 , 0.1 , 0.15, 0.1 ]])"
            ]
          },
          "metadata": {},
          "execution_count": 6
        }
      ]
    },
    {
      "cell_type": "code",
      "metadata": {
        "colab": {
          "base_uri": "https://localhost:8080/"
        },
        "id": "BVOhpsWvvG7o",
        "outputId": "0db00639-17f3-4499-c5f5-d64640e9c50e"
      },
      "source": [
        "# R2 - R1*.25 --> R2\n",
        "# R3 - R1*.05 -->R3\n",
        "A[1] = A[1] - A[0]*.25\n",
        "A[2] = A[2] - A[0]*.05\n",
        "A"
      ],
      "execution_count": 7,
      "outputs": [
        {
          "output_type": "execute_result",
          "data": {
            "text/plain": [
              "array([[ 1.    ,  0.85  ,  1.25  ,  1.    ,  0.5   ],\n",
              "       [ 0.    , -0.0125, -0.2125,  0.05  , -0.125 ],\n",
              "       [ 0.    ,  0.1575,  0.0375,  0.1   ,  0.075 ]])"
            ]
          },
          "metadata": {},
          "execution_count": 7
        }
      ]
    },
    {
      "cell_type": "code",
      "metadata": {
        "colab": {
          "base_uri": "https://localhost:8080/"
        },
        "id": "EayySs8qvTMJ",
        "outputId": "9eb14263-641d-4e32-f03f-c2f15d99db30"
      },
      "source": [
        "# R2/ (-.0125) -->R2\n",
        "A[1] = A[1]*(-80)\n",
        "A"
      ],
      "execution_count": 8,
      "outputs": [
        {
          "output_type": "execute_result",
          "data": {
            "text/plain": [
              "array([[ 1.    ,  0.85  ,  1.25  ,  1.    ,  0.5   ],\n",
              "       [-0.    ,  1.    , 17.    , -4.    , 10.    ],\n",
              "       [ 0.    ,  0.1575,  0.0375,  0.1   ,  0.075 ]])"
            ]
          },
          "metadata": {},
          "execution_count": 8
        }
      ]
    },
    {
      "cell_type": "code",
      "metadata": {
        "colab": {
          "base_uri": "https://localhost:8080/"
        },
        "id": "lE6o3ZwywD4y",
        "outputId": "b06e090c-57fa-49a0-f952-4a3337fa86ab"
      },
      "source": [
        "# R3 - R2*.1575 -->R3\n",
        "A[2] = A[2] - A[1]*0.1575\n",
        "A"
      ],
      "execution_count": 9,
      "outputs": [
        {
          "output_type": "execute_result",
          "data": {
            "text/plain": [
              "array([[ 1.  ,  0.85,  1.25,  1.  ,  0.5 ],\n",
              "       [-0.  ,  1.  , 17.  , -4.  , 10.  ],\n",
              "       [ 0.  ,  0.  , -2.64,  0.73, -1.5 ]])"
            ]
          },
          "metadata": {},
          "execution_count": 9
        }
      ]
    },
    {
      "cell_type": "markdown",
      "metadata": {
        "id": "XCtb3H2Cwf4B"
      },
      "source": [
        "### Backward elimination"
      ]
    },
    {
      "cell_type": "code",
      "metadata": {
        "colab": {
          "base_uri": "https://localhost:8080/"
        },
        "id": "OVE7e6dRwZRh",
        "outputId": "dcb17a43-a9ca-440d-dedf-0e3121e65fc4"
      },
      "source": [
        "# R3/(-2.64) -->R3\n",
        "A[2] = A[2]/(-2.64)\n",
        "A"
      ],
      "execution_count": 10,
      "outputs": [
        {
          "output_type": "execute_result",
          "data": {
            "text/plain": [
              "array([[ 1.        ,  0.85      ,  1.25      ,  1.        ,  0.5       ],\n",
              "       [-0.        ,  1.        , 17.        , -4.        , 10.        ],\n",
              "       [-0.        , -0.        ,  1.        , -0.27651515,  0.56818182]])"
            ]
          },
          "metadata": {},
          "execution_count": 10
        }
      ]
    },
    {
      "cell_type": "code",
      "metadata": {
        "colab": {
          "base_uri": "https://localhost:8080/"
        },
        "id": "uSQWxXYew3VI",
        "outputId": "aefd1f27-0e55-4cab-8a60-f4c9c08ebc40"
      },
      "source": [
        "# R2 - R3*17 -->R2\n",
        "# R1 - R3*1.25 -->R1\n",
        "A[1] = A[1] - A[2]*17\n",
        "A[0] = A[0] - A[2]*1.25\n",
        "A"
      ],
      "execution_count": 11,
      "outputs": [
        {
          "output_type": "execute_result",
          "data": {
            "text/plain": [
              "array([[ 1.        ,  0.85      ,  0.        ,  1.34564394, -0.21022727],\n",
              "       [ 0.        ,  1.        ,  0.        ,  0.70075758,  0.34090909],\n",
              "       [-0.        , -0.        ,  1.        , -0.27651515,  0.56818182]])"
            ]
          },
          "metadata": {},
          "execution_count": 11
        }
      ]
    },
    {
      "cell_type": "code",
      "metadata": {
        "colab": {
          "base_uri": "https://localhost:8080/"
        },
        "id": "ipVYwKvGxPzE",
        "outputId": "e1681429-b2a4-4e94-87e4-e7e2be79cef7"
      },
      "source": [
        "# R1 - R2*.85 -->R1\n",
        "A[0] = A[0] - A[1]*.85\n",
        "A"
      ],
      "execution_count": 12,
      "outputs": [
        {
          "output_type": "execute_result",
          "data": {
            "text/plain": [
              "array([[ 1.        ,  0.        ,  0.        ,  0.75      , -0.5       ],\n",
              "       [ 0.        ,  1.        ,  0.        ,  0.70075758,  0.34090909],\n",
              "       [-0.        , -0.        ,  1.        , -0.27651515,  0.56818182]])"
            ]
          },
          "metadata": {},
          "execution_count": 12
        }
      ]
    },
    {
      "cell_type": "code",
      "metadata": {
        "id": "73xHhxxWxa1j"
      },
      "source": [],
      "execution_count": 12,
      "outputs": []
    }
  ]
}