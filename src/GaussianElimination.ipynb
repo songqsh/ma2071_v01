{
  "nbformat": 4,
  "nbformat_minor": 0,
  "metadata": {
    "colab": {
      "name": "GaussianElimination.ipynb",
      "provenance": [],
      "authorship_tag": "ABX9TyNs/j1kvJKWqi99QhKNvnx8",
      "include_colab_link": true
    },
    "kernelspec": {
      "name": "python3",
      "display_name": "Python 3"
    }
  },
  "cells": [
    {
      "cell_type": "markdown",
      "metadata": {
        "id": "view-in-github",
        "colab_type": "text"
      },
      "source": [
        "<a href=\"https://colab.research.google.com/github/songqsh/ma2071_v01/blob/master/src/GaussianElimination.ipynb\" target=\"_parent\"><img src=\"https://colab.research.google.com/assets/colab-badge.svg\" alt=\"Open In Colab\"/></a>"
      ]
    },
    {
      "cell_type": "markdown",
      "metadata": {
        "id": "00ZyRRxarrBi"
      },
      "source": [
        "# Gaussian elimination: Convert a matrix to an RREF"
      ]
    },
    {
      "cell_type": "code",
      "metadata": {
        "id": "HdIczcDireLv"
      },
      "source": [
        "# import package\n",
        "import numpy as np\n",
        "import numpy.linalg as la\n",
        "np.set_printoptions(suppress=True)"
      ],
      "execution_count": null,
      "outputs": []
    },
    {
      "cell_type": "markdown",
      "metadata": {
        "id": "c2QmGEHdttx0"
      },
      "source": [
        "## Matrix in numpy"
      ]
    },
    {
      "cell_type": "code",
      "metadata": {
        "colab": {
          "base_uri": "https://localhost:8080/"
        },
        "id": "hM68Z6gnr17k",
        "outputId": "8da5eccc-9a37-46f5-b48c-ddea01915a17"
      },
      "source": [
        "# input matrix\n",
        "A = np.array([[.2, .17, .25, .2, .1], \n",
        "              [.25, .2, .1, .3, 0], \n",
        "              [.05, .2, .1, .15, .1]])\n",
        "A # print A"
      ],
      "execution_count": null,
      "outputs": [
        {
          "output_type": "execute_result",
          "data": {
            "text/plain": [
              "array([[0.2 , 0.17, 0.25, 0.2 , 0.1 ],\n",
              "       [0.25, 0.2 , 0.1 , 0.3 , 0.  ],\n",
              "       [0.05, 0.2 , 0.1 , 0.15, 0.1 ]])"
            ]
          },
          "metadata": {
            "tags": []
          },
          "execution_count": 2
        }
      ]
    },
    {
      "cell_type": "code",
      "metadata": {
        "colab": {
          "base_uri": "https://localhost:8080/"
        },
        "id": "f9cZslP6s0z8",
        "outputId": "96214f9a-5bd7-4a15-d3e4-3c7347512d8c"
      },
      "source": [
        "# indexing is starting from 0, not from 1\n",
        "# ex. print the third row\n",
        "A[2]"
      ],
      "execution_count": null,
      "outputs": [
        {
          "output_type": "execute_result",
          "data": {
            "text/plain": [
              "array([0.05, 0.2 , 0.1 , 0.15, 0.1 ])"
            ]
          },
          "metadata": {
            "tags": []
          },
          "execution_count": 3
        }
      ]
    },
    {
      "cell_type": "code",
      "metadata": {
        "colab": {
          "base_uri": "https://localhost:8080/"
        },
        "id": "Y1L1w5F3tQc5",
        "outputId": "546dd2b6-10d7-42c9-e741-693aa470174d"
      },
      "source": [
        "# ex. print the entry at 2nd row 4th column\n",
        "A[1,3]"
      ],
      "execution_count": null,
      "outputs": [
        {
          "output_type": "execute_result",
          "data": {
            "text/plain": [
              "0.3"
            ]
          },
          "metadata": {
            "tags": []
          },
          "execution_count": 4
        }
      ]
    },
    {
      "cell_type": "markdown",
      "metadata": {
        "id": "o2p2m-mct1ZO"
      },
      "source": [
        "## How to RREF"
      ]
    },
    {
      "cell_type": "code",
      "metadata": {
        "colab": {
          "base_uri": "https://localhost:8080/"
        },
        "id": "pwnoP1xKtbbo",
        "outputId": "1ad0a12a-14d6-4880-99a7-00622ff4b091"
      },
      "source": [
        "# We will reduce the matrix A into RREF\n",
        "A"
      ],
      "execution_count": null,
      "outputs": [
        {
          "output_type": "execute_result",
          "data": {
            "text/plain": [
              "array([[0.2 , 0.17, 0.25, 0.2 , 0.1 ],\n",
              "       [0.25, 0.2 , 0.1 , 0.3 , 0.  ],\n",
              "       [0.05, 0.2 , 0.1 , 0.15, 0.1 ]])"
            ]
          },
          "metadata": {
            "tags": []
          },
          "execution_count": 5
        }
      ]
    },
    {
      "cell_type": "markdown",
      "metadata": {
        "id": "_NA363x8uXbI"
      },
      "source": [
        "### Forward elimination"
      ]
    },
    {
      "cell_type": "code",
      "metadata": {
        "colab": {
          "base_uri": "https://localhost:8080/"
        },
        "id": "c7V1hUZ-uSGP",
        "outputId": "c7dd7507-9217-4049-920c-8f0af59c6b6b"
      },
      "source": [
        "# R1/0.2 --> R1\n",
        "A[0] = A[0] / 0.2\n",
        "A #print"
      ],
      "execution_count": null,
      "outputs": [
        {
          "output_type": "execute_result",
          "data": {
            "text/plain": [
              "array([[1.  , 0.85, 1.25, 1.  , 0.5 ],\n",
              "       [0.25, 0.2 , 0.1 , 0.3 , 0.  ],\n",
              "       [0.05, 0.2 , 0.1 , 0.15, 0.1 ]])"
            ]
          },
          "metadata": {
            "tags": []
          },
          "execution_count": 6
        }
      ]
    },
    {
      "cell_type": "code",
      "metadata": {
        "colab": {
          "base_uri": "https://localhost:8080/"
        },
        "id": "BVOhpsWvvG7o",
        "outputId": "bd9d446a-a0e6-4832-df5f-ce619cdff9a7"
      },
      "source": [
        "# R2 - R1*.25 --> R2\n",
        "# R3 - R1*.05 -->R3\n",
        "A[1] = A[1] - A[0]*.25\n",
        "A[2] = A[2] - A[0]*.05\n",
        "A"
      ],
      "execution_count": null,
      "outputs": [
        {
          "output_type": "execute_result",
          "data": {
            "text/plain": [
              "array([[ 1.    ,  0.85  ,  1.25  ,  1.    ,  0.5   ],\n",
              "       [ 0.    , -0.0125, -0.2125,  0.05  , -0.125 ],\n",
              "       [ 0.    ,  0.1575,  0.0375,  0.1   ,  0.075 ]])"
            ]
          },
          "metadata": {
            "tags": []
          },
          "execution_count": 7
        }
      ]
    },
    {
      "cell_type": "code",
      "metadata": {
        "colab": {
          "base_uri": "https://localhost:8080/"
        },
        "id": "EayySs8qvTMJ",
        "outputId": "098ebfdb-11cf-446c-d2ba-e77e745c26c6"
      },
      "source": [
        "# R2/ (-.0125) -->R2\n",
        "A[1] = A[1]*(-80)\n",
        "A"
      ],
      "execution_count": null,
      "outputs": [
        {
          "output_type": "execute_result",
          "data": {
            "text/plain": [
              "array([[ 1.    ,  0.85  ,  1.25  ,  1.    ,  0.5   ],\n",
              "       [-0.    ,  1.    , 17.    , -4.    , 10.    ],\n",
              "       [ 0.    ,  0.1575,  0.0375,  0.1   ,  0.075 ]])"
            ]
          },
          "metadata": {
            "tags": []
          },
          "execution_count": 8
        }
      ]
    },
    {
      "cell_type": "code",
      "metadata": {
        "colab": {
          "base_uri": "https://localhost:8080/"
        },
        "id": "lE6o3ZwywD4y",
        "outputId": "d4ea8183-4a29-4212-bbca-012e4161066e"
      },
      "source": [
        "# R3 - R2*.1575 -->R3\n",
        "A[2] = A[2] - A[1]*0.1575\n",
        "A"
      ],
      "execution_count": null,
      "outputs": [
        {
          "output_type": "execute_result",
          "data": {
            "text/plain": [
              "array([[ 1.  ,  0.85,  1.25,  1.  ,  0.5 ],\n",
              "       [-0.  ,  1.  , 17.  , -4.  , 10.  ],\n",
              "       [ 0.  ,  0.  , -2.64,  0.73, -1.5 ]])"
            ]
          },
          "metadata": {
            "tags": []
          },
          "execution_count": 9
        }
      ]
    },
    {
      "cell_type": "markdown",
      "metadata": {
        "id": "XCtb3H2Cwf4B"
      },
      "source": [
        "### Backward elimination"
      ]
    },
    {
      "cell_type": "code",
      "metadata": {
        "colab": {
          "base_uri": "https://localhost:8080/"
        },
        "id": "OVE7e6dRwZRh",
        "outputId": "7ca68fcd-45d9-44ca-b3b4-1012c23bbfea"
      },
      "source": [
        "# R3/(-2.64) -->R3\n",
        "A[2] = A[2]/(-2.64)\n",
        "A"
      ],
      "execution_count": null,
      "outputs": [
        {
          "output_type": "execute_result",
          "data": {
            "text/plain": [
              "array([[ 1.        ,  0.85      ,  1.25      ,  1.        ,  0.5       ],\n",
              "       [-0.        ,  1.        , 17.        , -4.        , 10.        ],\n",
              "       [-0.        , -0.        ,  1.        , -0.27651515,  0.56818182]])"
            ]
          },
          "metadata": {
            "tags": []
          },
          "execution_count": 10
        }
      ]
    },
    {
      "cell_type": "code",
      "metadata": {
        "colab": {
          "base_uri": "https://localhost:8080/"
        },
        "id": "uSQWxXYew3VI",
        "outputId": "8c897bfa-0036-4c81-bb0d-d85f897227d4"
      },
      "source": [
        "# R2 - R3*17 -->R2\n",
        "# R1 - R3*1.25 -->R1\n",
        "A[1] = A[1] - A[2]*17\n",
        "A[0] = A[0] - A[2]*1.25\n",
        "A"
      ],
      "execution_count": null,
      "outputs": [
        {
          "output_type": "execute_result",
          "data": {
            "text/plain": [
              "array([[ 1.        ,  0.85      ,  0.        ,  1.34564394, -0.21022727],\n",
              "       [ 0.        ,  1.        ,  0.        ,  0.70075758,  0.34090909],\n",
              "       [-0.        , -0.        ,  1.        , -0.27651515,  0.56818182]])"
            ]
          },
          "metadata": {
            "tags": []
          },
          "execution_count": 11
        }
      ]
    },
    {
      "cell_type": "code",
      "metadata": {
        "colab": {
          "base_uri": "https://localhost:8080/"
        },
        "id": "ipVYwKvGxPzE",
        "outputId": "57cf352e-2178-4979-f0c1-97f3e2c7f0bc"
      },
      "source": [
        "# R1 - R2*.85 -->R1\n",
        "A[0] = A[0] - A[1]*.85\n",
        "A"
      ],
      "execution_count": null,
      "outputs": [
        {
          "output_type": "execute_result",
          "data": {
            "text/plain": [
              "array([[ 1.        ,  0.        ,  0.        ,  0.75      , -0.5       ],\n",
              "       [ 0.        ,  1.        ,  0.        ,  0.70075758,  0.34090909],\n",
              "       [-0.        , -0.        ,  1.        , -0.27651515,  0.56818182]])"
            ]
          },
          "metadata": {
            "tags": []
          },
          "execution_count": 12
        }
      ]
    },
    {
      "cell_type": "code",
      "metadata": {
        "id": "73xHhxxWxa1j"
      },
      "source": [
        ""
      ],
      "execution_count": null,
      "outputs": []
    }
  ]
}