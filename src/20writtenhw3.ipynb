{
  "nbformat": 4,
  "nbformat_minor": 0,
  "metadata": {
    "colab": {
      "name": "20writtenhw3.ipynb",
      "provenance": [],
      "authorship_tag": "ABX9TyNwI1YdQletkBiM7ICeZlxV",
      "include_colab_link": true
    },
    "kernelspec": {
      "name": "python3",
      "display_name": "Python 3"
    }
  },
  "cells": [
    {
      "cell_type": "markdown",
      "metadata": {
        "id": "view-in-github",
        "colab_type": "text"
      },
      "source": [
        "<a href=\"https://colab.research.google.com/github/songqsh/ma2071_v01/blob/master/src/20writtenhw3.ipynb\" target=\"_parent\"><img src=\"https://colab.research.google.com/assets/colab-badge.svg\" alt=\"Open In Colab\"/></a>"
      ]
    },
    {
      "cell_type": "markdown",
      "metadata": {
        "id": "ozvhKgFFFEil",
        "colab_type": "text"
      },
      "source": [
        "# Written Homework 3"
      ]
    },
    {
      "cell_type": "code",
      "metadata": {
        "id": "hlATmLuqC3BW",
        "colab_type": "code",
        "colab": {}
      },
      "source": [
        "import numpy as np\n",
        "import numpy.linalg as la"
      ],
      "execution_count": 0,
      "outputs": []
    },
    {
      "cell_type": "code",
      "metadata": {
        "id": "ecDOYYoEC3Ec",
        "colab_type": "code",
        "colab": {}
      },
      "source": [
        "# eigenvalues\n",
        "lam1 = 2; lam2 = -2; lam3 = 4"
      ],
      "execution_count": 0,
      "outputs": []
    },
    {
      "cell_type": "code",
      "metadata": {
        "id": "qFWhcjYJC3G5",
        "colab_type": "code",
        "colab": {}
      },
      "source": [
        "#eigenvectors\n",
        "v1 = np.array([1,-1, 0])\n",
        "v2 = np.array([0, 1, 1])\n",
        "v3 = np.array([-1,0, 1])"
      ],
      "execution_count": 0,
      "outputs": []
    },
    {
      "cell_type": "code",
      "metadata": {
        "id": "gwIAFVEcC3Jg",
        "colab_type": "code",
        "colab": {
          "base_uri": "https://localhost:8080/",
          "height": 221
        },
        "outputId": "41aefc38-e2c8-4da9-afc0-07721ed20e7d"
      },
      "source": [
        "# constructing matrix $A$\n",
        "D = np.diag([lam1,lam2,lam3])\n",
        "print('D is:\\n', D)\n",
        "V = np.transpose(np.array([v1, v2, v3]))\n",
        "print('V is:\\n', V)\n",
        "A = V@D@la.inv(V)\n",
        "print('A is:\\n', A)"
      ],
      "execution_count": 178,
      "outputs": [
        {
          "output_type": "stream",
          "text": [
            "D is:\n",
            " [[ 2  0  0]\n",
            " [ 0 -2  0]\n",
            " [ 0  0  4]]\n",
            "V is:\n",
            " [[ 1  0 -1]\n",
            " [-1  1  0]\n",
            " [ 0  1  1]]\n",
            "A is:\n",
            " [[ 3.  1. -1.]\n",
            " [-2.  0. -2.]\n",
            " [-3. -3.  1.]]\n"
          ],
          "name": "stdout"
        }
      ]
    },
    {
      "cell_type": "markdown",
      "metadata": {
        "id": "ncok51V7JsL8",
        "colab_type": "text"
      },
      "source": [
        "- Find determinant of $A$"
      ]
    },
    {
      "cell_type": "code",
      "metadata": {
        "id": "P_yWvEYpC3XY",
        "colab_type": "code",
        "colab": {
          "base_uri": "https://localhost:8080/",
          "height": 34
        },
        "outputId": "12156aa3-20b1-432d-80e0-e70451d30ea5"
      },
      "source": [
        "la.det(A)\n",
        "# should integer"
      ],
      "execution_count": 179,
      "outputs": [
        {
          "output_type": "execute_result",
          "data": {
            "text/plain": [
              "-15.999999999999998"
            ]
          },
          "metadata": {
            "tags": []
          },
          "execution_count": 179
        }
      ]
    },
    {
      "cell_type": "markdown",
      "metadata": {
        "id": "PXAx-pmCKfv3",
        "colab_type": "text"
      },
      "source": [
        "- Is $A$ invertible? If yes, find its inverse"
      ]
    },
    {
      "cell_type": "code",
      "metadata": {
        "id": "WPIY1FXQC3Zz",
        "colab_type": "code",
        "colab": {
          "base_uri": "https://localhost:8080/",
          "height": 68
        },
        "outputId": "bc13a7ae-35c0-44bd-ba66-8f673c047ddc"
      },
      "source": [
        "la.inv(A)"
      ],
      "execution_count": 180,
      "outputs": [
        {
          "output_type": "execute_result",
          "data": {
            "text/plain": [
              "array([[ 0.375, -0.125,  0.125],\n",
              "       [-0.5  , -0.   , -0.5  ],\n",
              "       [-0.375, -0.375, -0.125]])"
            ]
          },
          "metadata": {
            "tags": []
          },
          "execution_count": 180
        }
      ]
    },
    {
      "cell_type": "markdown",
      "metadata": {
        "id": "ywLLPEGSLbOx",
        "colab_type": "text"
      },
      "source": [
        "- Find all eigenvalues"
      ]
    },
    {
      "cell_type": "code",
      "metadata": {
        "id": "yjMeJ86fC3cb",
        "colab_type": "code",
        "colab": {
          "base_uri": "https://localhost:8080/",
          "height": 34
        },
        "outputId": "7f8ad27c-70c8-4fef-d494-8fa5714253c7"
      },
      "source": [
        "np.diag(D)"
      ],
      "execution_count": 181,
      "outputs": [
        {
          "output_type": "execute_result",
          "data": {
            "text/plain": [
              "array([ 2, -2,  4])"
            ]
          },
          "metadata": {
            "tags": []
          },
          "execution_count": 181
        }
      ]
    },
    {
      "cell_type": "markdown",
      "metadata": {
        "id": "UvYANg3VMDE6",
        "colab_type": "text"
      },
      "source": [
        "- Find all corresponding eigenvectors with $3$ being the first entry"
      ]
    },
    {
      "cell_type": "code",
      "metadata": {
        "id": "wTDyYWexC3fX",
        "colab_type": "code",
        "colab": {
          "base_uri": "https://localhost:8080/",
          "height": 68
        },
        "outputId": "b510fd60-434e-486c-9a21-bcd6a81bb6c2"
      },
      "source": [
        "print(3*v1)\n",
        "print(3*v2)\n",
        "print(-3*v3)"
      ],
      "execution_count": 182,
      "outputs": [
        {
          "output_type": "stream",
          "text": [
            "[ 3 -3  0]\n",
            "[0 3 3]\n",
            "[ 3  0 -3]\n"
          ],
          "name": "stdout"
        }
      ]
    },
    {
      "cell_type": "markdown",
      "metadata": {
        "id": "rE4R-ONnPkRI",
        "colab_type": "text"
      },
      "source": [
        "- Find $A^{5}$"
      ]
    },
    {
      "cell_type": "code",
      "metadata": {
        "id": "Tg2DOxdNC3O4",
        "colab_type": "code",
        "colab": {
          "base_uri": "https://localhost:8080/",
          "height": 68
        },
        "outputId": "6990ee7c-9fc9-436d-9129-faad3bd0899a"
      },
      "source": [
        "# one way\n",
        "n = 5\n",
        "la.matrix_power(A,n)"
      ],
      "execution_count": 191,
      "outputs": [
        {
          "output_type": "execute_result",
          "data": {
            "text/plain": [
              "array([[ 528.,  496., -496.],\n",
              "       [ -32.,    0.,  -32.],\n",
              "       [-528., -528.,  496.]])"
            ]
          },
          "metadata": {
            "tags": []
          },
          "execution_count": 191
        }
      ]
    },
    {
      "cell_type": "code",
      "metadata": {
        "id": "MaIcwkg9RM5k",
        "colab_type": "code",
        "colab": {
          "base_uri": "https://localhost:8080/",
          "height": 68
        },
        "outputId": "ef0f6252-feec-459c-aac4-e8c3acc55c11"
      },
      "source": [
        "# second way\n",
        "n = 5\n",
        "V@np.diag([2**n, (-2)**n, 4**n])@la.inv(V)"
      ],
      "execution_count": 190,
      "outputs": [
        {
          "output_type": "execute_result",
          "data": {
            "text/plain": [
              "array([[ 528.,  496., -496.],\n",
              "       [ -32.,    0.,  -32.],\n",
              "       [-528., -528.,  496.]])"
            ]
          },
          "metadata": {
            "tags": []
          },
          "execution_count": 190
        }
      ]
    },
    {
      "cell_type": "code",
      "metadata": {
        "id": "x9TP3JDlRjc9",
        "colab_type": "code",
        "colab": {}
      },
      "source": [
        ""
      ],
      "execution_count": 0,
      "outputs": []
    }
  ]
}