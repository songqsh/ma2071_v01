{
  "nbformat": 4,
  "nbformat_minor": 0,
  "metadata": {
    "colab": {
      "name": "asymptotic_discrete_dynamic.ipynb",
      "version": "0.3.2",
      "provenance": [],
      "include_colab_link": true
    },
    "kernelspec": {
      "name": "python3",
      "display_name": "Python 3"
    }
  },
  "cells": [
    {
      "cell_type": "markdown",
      "metadata": {
        "id": "view-in-github",
        "colab_type": "text"
      },
      "source": [
        "<a href=\"https://colab.research.google.com/github/songqsh/ma2071_v01/blob/master/src/asymptotic_discrete_dynamic.ipynb\" target=\"_parent\"><img src=\"https://colab.research.google.com/assets/colab-badge.svg\" alt=\"Open In Colab\"/></a>"
      ]
    },
    {
      "metadata": {
        "id": "EoXmDt8yz9TD",
        "colab_type": "code",
        "colab": {}
      },
      "cell_type": "code",
      "source": [
        "import numpy as np"
      ],
      "execution_count": 0,
      "outputs": []
    },
    {
      "metadata": {
        "id": "FwMGGgfh0Plt",
        "colab_type": "text"
      },
      "cell_type": "markdown",
      "source": [
        "# Asymptotic of discrete dynamics\n",
        "\n",
        "## Abstract\n",
        "\n",
        "Consider dynamic given by\n",
        "$$x_{k+1} = A x_k$$\n",
        "- introduce concepts of atrractor, repeller, saddle point\n",
        "- how to classify these behavior\n",
        "- Sec 5.6"
      ]
    },
    {
      "metadata": {
        "id": "VzzPMonB1Dzm",
        "colab_type": "text"
      },
      "cell_type": "markdown",
      "source": [
        "## Analyis\n",
        "\n",
        "$x_k$ is usually understood as the quantity of certian object at time $k$. \n",
        "\n",
        "__ex__\n",
        "\n",
        "For instance, $x_k$ is the population of owl and rat at $k$-th months in the predator-prey system of Section 5.6.  Given that \n",
        "the generator \n",
        "$$A = \\begin{bmatrix}\n",
        ".5 & .4 \\\\\n",
        "-1.04 & 1.1\n",
        "\\end{bmatrix}\n",
        "$$\n",
        "Find its long-term behavior."
      ]
    },
    {
      "metadata": {
        "id": "4d0PEdmc3-fI",
        "colab_type": "text"
      },
      "cell_type": "markdown",
      "source": [
        "__strategy__\n",
        "\n",
        "If $x_0 = \\sum_i c_i v_i$, where $v_i$ is eigenvector of $\\lambda_i$, then we have\n",
        "$$x_k = A^k x_0 = \\sum_i c_i \\lambda_i^k v_i.$$\n"
      ]
    },
    {
      "metadata": {
        "id": "g2y69gmH0F5x",
        "colab_type": "code",
        "colab": {}
      },
      "cell_type": "code",
      "source": [
        ""
      ],
      "execution_count": 0,
      "outputs": []
    }
  ]
}