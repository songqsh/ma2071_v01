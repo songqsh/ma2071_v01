{
  "nbformat": 4,
  "nbformat_minor": 0,
  "metadata": {
    "colab": {
      "name": "asymptotic_discrete_dynamic.ipynb",
      "version": "0.3.2",
      "provenance": [],
      "include_colab_link": true
    },
    "kernelspec": {
      "name": "python3",
      "display_name": "Python 3"
    }
  },
  "cells": [
    {
      "cell_type": "markdown",
      "metadata": {
        "id": "view-in-github",
        "colab_type": "text"
      },
      "source": [
        "<a href=\"https://colab.research.google.com/github/songqsh/ma2071_v01/blob/master/src/asymptotic_discrete_dynamic.ipynb\" target=\"_parent\"><img src=\"https://colab.research.google.com/assets/colab-badge.svg\" alt=\"Open In Colab\"/></a>"
      ]
    },
    {
      "metadata": {
        "id": "FwMGGgfh0Plt",
        "colab_type": "text"
      },
      "cell_type": "markdown",
      "source": [
        "# Asymptotic of discrete dynamics\n",
        "\n",
        "## Abstract\n",
        "\n",
        "Consider dynamic given by\n",
        "$$x_{k+1} = A x_k$$\n",
        "- introduce concepts of atrractor, repeller, saddle point\n",
        "- how to classify these behavior\n",
        "- Sec 5.6"
      ]
    },
    {
      "metadata": {
        "id": "VzzPMonB1Dzm",
        "colab_type": "text"
      },
      "cell_type": "markdown",
      "source": [
        "## Analysis\n",
        "\n",
        "$x_k$ is usually understood as the quantity of certian object at time $k$. \n",
        "\n",
        "__ex__\n",
        "\n",
        "For instance, $x_k$ is the population of owl and rat at $k$-th months in the predator-prey system of Section 5.6.  Given that \n",
        "the generator \n",
        "$$A = \\begin{bmatrix}\n",
        ".5 & .4 \\\\\n",
        "-.104 & 1.1\n",
        "\\end{bmatrix}\n",
        "$$\n",
        "Find its long-term behavior."
      ]
    },
    {
      "metadata": {
        "id": "4d0PEdmc3-fI",
        "colab_type": "text"
      },
      "cell_type": "markdown",
      "source": [
        "__strategy__\n",
        "\n",
        "If $x_0 = \\sum_i c_i v_i$, where $v_i$ is eigenvector of $\\lambda_i$, then we have\n",
        "$$x_k = A^k x_0 = \\sum_i c_i \\lambda_i^k v_i.$$\n",
        "As $k\\to \\infty$, \n",
        "- if $|\\lambda_i|>1$, then the $i$-th term goes to $\\infty$\n",
        "- if $|\\lambda_i|<1$, then the $i$-th term goes to $0$."
      ]
    },
    {
      "metadata": {
        "id": "_-uPeohSjWRR",
        "colab_type": "code",
        "colab": {}
      },
      "cell_type": "code",
      "source": [
        "from sympy import init_printing, Matrix, symbols, eye, printing\n",
        "def custom_latex_printer(exp,**options):\n",
        "    from google.colab.output._publish import javascript\n",
        "    url = \"https://cdnjs.cloudflare.com/ajax/libs/mathjax/2.7.3/latest.js?config=default\"\n",
        "    javascript(url=url)\n",
        "    return printing.latex(exp,**options)\n",
        "init_printing(use_latex=\"mathjax\",latex_printer=custom_latex_printer)\n",
        "lamda = symbols('lamda') # Note that lambda is a reserved word in python, so we use lamda (without the b)"
      ],
      "execution_count": 0,
      "outputs": []
    },
    {
      "metadata": {
        "id": "g2y69gmH0F5x",
        "colab_type": "code",
        "outputId": "d0a9706a-b9b7-457c-eb0a-c5c5db8acdbf",
        "colab": {
          "base_uri": "https://localhost:8080/",
          "height": 89
        }
      },
      "cell_type": "code",
      "source": [
        "A = Matrix([[.5, .4], [-0.104, 1.1]]); A"
      ],
      "execution_count": 5,
      "outputs": [
        {
          "output_type": "display_data",
          "data": {
            "text/html": [
              "<script src='https://cdnjs.cloudflare.com/ajax/libs/mathjax/2.7.3/latest.js?config=default'></script>"
            ],
            "text/plain": [
              "<IPython.core.display.HTML object>"
            ]
          },
          "metadata": {
            "tags": []
          }
        },
        {
          "output_type": "execute_result",
          "data": {
            "text/latex": "$$\\left[\\begin{matrix}0.5 & 0.4\\\\-0.104 & 1.1\\end{matrix}\\right]$$",
            "text/plain": [
              "⎡ 0.5    0.4⎤\n",
              "⎢           ⎥\n",
              "⎣-0.104  1.1⎦"
            ]
          },
          "metadata": {
            "tags": []
          },
          "execution_count": 5
        }
      ]
    },
    {
      "metadata": {
        "id": "SCOP8uak6shq",
        "colab_type": "code",
        "colab": {
          "base_uri": "https://localhost:8080/",
          "height": 89
        },
        "outputId": "372e110d-d04f-4cb9-c8c6-2da674853656"
      },
      "cell_type": "code",
      "source": [
        "A.eigenvects()"
      ],
      "execution_count": 6,
      "outputs": [
        {
          "output_type": "display_data",
          "data": {
            "text/html": [
              "<script src='https://cdnjs.cloudflare.com/ajax/libs/mathjax/2.7.3/latest.js?config=default'></script>"
            ],
            "text/plain": [
              "<IPython.core.display.HTML object>"
            ]
          },
          "metadata": {
            "tags": []
          }
        },
        {
          "output_type": "execute_result",
          "data": {
            "text/latex": "$$\\left [ \\left ( 0.58, \\quad 1, \\quad \\left [ \\left[\\begin{matrix}5.0\\\\1.0\\end{matrix}\\right]\\right ]\\right ), \\quad \\left ( 1.02, \\quad 1, \\quad \\left [ \\left[\\begin{matrix}0.769230769230769\\\\1.0\\end{matrix}\\right]\\right ]\\right )\\right ]$$",
            "text/plain": [
              "⎡⎛         ⎡⎡5.0⎤⎤⎞  ⎛         ⎡⎡0.769230769230769⎤⎤⎞⎤\n",
              "⎢⎜0.58, 1, ⎢⎢   ⎥⎥⎟, ⎜1.02, 1, ⎢⎢                 ⎥⎥⎟⎥\n",
              "⎣⎝         ⎣⎣1.0⎦⎦⎠  ⎝         ⎣⎣       1.0       ⎦⎦⎠⎦"
            ]
          },
          "metadata": {
            "tags": []
          },
          "execution_count": 6
        }
      ]
    },
    {
      "metadata": {
        "id": "ZpBGNrKLl4Hs",
        "colab_type": "text"
      },
      "cell_type": "markdown",
      "source": [
        "Note that $\\lambda_1 = 1.02$ and $\\lambda_2 = .58$. So, if $x_0 = c_1 v_1 + c_2 v_2$, then \n",
        "$$x_k = c_1 \\lambda_1^k v_1 + c_2 \\lambda_2^k v_2.$$\n",
        "- If $c_1 \\neq 0$, then $x_k \\to \\infty$\n",
        "- If $c_1 = 0$, then $x_k \\to 0$."
      ]
    },
    {
      "metadata": {
        "id": "7RmamkHomk1s",
        "colab_type": "text"
      },
      "cell_type": "markdown",
      "source": [
        "__Def__\n",
        "\n",
        "- $0$ is called as __attractor__ if $x_k \\to 0$ regardless of the initial position;\n",
        "- $0$ is called as __repller__ if $x_k \\to \\infty$ regardless of the initial position;\n",
        "- $0$ is called as __saddle point__ if $o$ attracts some solutions but repells other solutions.\n",
        "\n",
        "In the above example, $O$ is a saddle point since\n",
        "- $0$ attracts the solution starting from $x_0$ linearly dependent to $v_2$.\n",
        "- $0$ repells the solution starting from any intial state linearly independent to $v_2$."
      ]
    },
    {
      "metadata": {
        "id": "TiznDbHgjqmC",
        "colab_type": "code",
        "colab": {}
      },
      "cell_type": "code",
      "source": [
        ""
      ],
      "execution_count": 0,
      "outputs": []
    }
  ]
}