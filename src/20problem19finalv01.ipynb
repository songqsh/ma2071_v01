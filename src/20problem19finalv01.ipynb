{
 "cells": [
  {
   "cell_type": "code",
   "execution_count": 1,
   "metadata": {},
   "outputs": [],
   "source": [
    "import numpy as np\n",
    "import numpy.linalg as la"
   ]
  },
  {
   "cell_type": "markdown",
   "metadata": {},
   "source": [
    "- Matrix $A = [a_1, a_2, a_3]$"
   ]
  },
  {
   "cell_type": "code",
   "execution_count": 2,
   "metadata": {},
   "outputs": [
    {
     "name": "stdout",
     "output_type": "stream",
     "text": [
      "[[ 0 -1  0]\n",
      " [-1  0  0]\n",
      " [-1 -1  1]]\n"
     ]
    }
   ],
   "source": [
    "A = np.array([[0, -1, 0], [-1, 0, 0], [-1,-1,1]])\n",
    "print(A)"
   ]
  },
  {
   "cell_type": "markdown",
   "metadata": {},
   "source": [
    "- Find $A^2$"
   ]
  },
  {
   "cell_type": "code",
   "execution_count": 3,
   "metadata": {},
   "outputs": [
    {
     "name": "stdout",
     "output_type": "stream",
     "text": [
      "[[1 0 0]\n",
      " [0 1 0]\n",
      " [0 0 1]]\n"
     ]
    }
   ],
   "source": [
    "ans = np.matmul(A,A)\n",
    "print(ans)"
   ]
  },
  {
   "cell_type": "markdown",
   "metadata": {},
   "source": [
    "- Is $a_2 \\perp a_3$?"
   ]
  },
  {
   "cell_type": "code",
   "execution_count": 4,
   "metadata": {},
   "outputs": [
    {
     "name": "stdout",
     "output_type": "stream",
     "text": [
      "no\n"
     ]
    }
   ],
   "source": [
    "ans = np.dot(A[:, 1], A[:,2])\n",
    "if ans == 0:\n",
    "    print('yes')\n",
    "else:\n",
    "    print('no')"
   ]
  },
  {
   "cell_type": "markdown",
   "metadata": {},
   "source": [
    "- Find inverse of $A$"
   ]
  },
  {
   "cell_type": "code",
   "execution_count": 5,
   "metadata": {},
   "outputs": [
    {
     "name": "stdout",
     "output_type": "stream",
     "text": [
      "[[-0. -1. -0.]\n",
      " [-1. -0. -0.]\n",
      " [-1. -1.  1.]]\n"
     ]
    }
   ],
   "source": [
    "ans = la.inv(A)\n",
    "print(ans)"
   ]
  },
  {
   "cell_type": "markdown",
   "metadata": {},
   "source": [
    "- deteminant of $A$"
   ]
  },
  {
   "cell_type": "code",
   "execution_count": 6,
   "metadata": {},
   "outputs": [
    {
     "name": "stdout",
     "output_type": "stream",
     "text": [
      "determinant is -1.0, \n",
      " and rank is 3\n"
     ]
    }
   ],
   "source": [
    "ans1 = la.det(A)\n",
    "ans2 = la.matrix_rank(A)\n",
    "print(f'determinant is {ans1}, \\n and rank is {ans2}')"
   ]
  },
  {
   "cell_type": "markdown",
   "metadata": {},
   "source": [
    "- compute eigenvalue and eigenspace"
   ]
  },
  {
   "cell_type": "code",
   "execution_count": 7,
   "metadata": {},
   "outputs": [
    {
     "name": "stdout",
     "output_type": "stream",
     "text": [
      "eigenvalues are [ 1.  1. -1.] \n",
      " and eigenspaces are \n",
      " [[ 0.         -0.70710678  0.57735027]\n",
      " [ 0.          0.70710678  0.57735027]\n",
      " [ 1.          0.          0.57735027]]\n"
     ]
    }
   ],
   "source": [
    "ans1, ans2 = la.eig(A)\n",
    "print(f'eigenvalues are {ans1} \\n and eigenspaces are \\n {ans2}')"
   ]
  },
  {
   "cell_type": "markdown",
   "metadata": {},
   "source": [
    "- diagonalize $A$, i.e. $A = PDP^{-1}$."
   ]
  },
  {
   "cell_type": "code",
   "execution_count": 8,
   "metadata": {},
   "outputs": [
    {
     "name": "stdout",
     "output_type": "stream",
     "text": [
      " D is \n",
      " [[ 1.  0.  0.]\n",
      " [ 0.  1.  0.]\n",
      " [ 0.  0. -1.]], \n",
      " P is \n",
      " [[ 0.         -0.70710678  0.57735027]\n",
      " [ 0.          0.70710678  0.57735027]\n",
      " [ 1.          0.          0.57735027]]\n"
     ]
    }
   ],
   "source": [
    "D = np.diag(ans1)\n",
    "P = ans2\n",
    "#P@D@la.inv(P) #check\n",
    "print(f' D is \\n {D}, \\n P is \\n {P}')"
   ]
  },
  {
   "cell_type": "markdown",
   "metadata": {},
   "source": [
    "- Project $a_2$ on $a_3$"
   ]
  },
  {
   "cell_type": "code",
   "execution_count": 9,
   "metadata": {},
   "outputs": [
    {
     "name": "stdout",
     "output_type": "stream",
     "text": [
      "[-0. -0. -1.]\n"
     ]
    }
   ],
   "source": [
    "a3n = A[:,2]/la.norm(A[:,2])\n",
    "ans = np.dot(A[:,1], a3n)*a3n\n",
    "print(ans)"
   ]
  },
  {
   "cell_type": "markdown",
   "metadata": {},
   "source": [
    "- project $a_1$ to $span(a_2, a_3)$"
   ]
  },
  {
   "cell_type": "code",
   "execution_count": 19,
   "metadata": {},
   "outputs": [
    {
     "name": "stdout",
     "output_type": "stream",
     "text": [
      "[-0.  0. -1.]\n"
     ]
    }
   ],
   "source": [
    "a2 = A[:,1]- ans\n",
    "a2n = a2/la.norm(a2)\n",
    "a1 = A[:,0]\n",
    "prj = np.dot(a1, a2n)*a2n+np.dot(a1,a3n)*a3n\n",
    "print(prj)"
   ]
  },
  {
   "cell_type": "markdown",
   "metadata": {},
   "source": [
    "- find $A^{2019}$"
   ]
  },
  {
   "cell_type": "code",
   "execution_count": 20,
   "metadata": {},
   "outputs": [
    {
     "name": "stdout",
     "output_type": "stream",
     "text": [
      "[[ 0 -1  0]\n",
      " [-1  0  0]\n",
      " [-1 -1  1]]\n"
     ]
    }
   ],
   "source": [
    "print(la.matrix_power(A,2019))"
   ]
  },
  {
   "cell_type": "code",
   "execution_count": null,
   "metadata": {},
   "outputs": [],
   "source": []
  }
 ],
 "metadata": {
  "kernelspec": {
   "display_name": "Python 3",
   "language": "python",
   "name": "python3"
  },
  "language_info": {
   "codemirror_mode": {
    "name": "ipython",
    "version": 3
   },
   "file_extension": ".py",
   "mimetype": "text/x-python",
   "name": "python",
   "nbconvert_exporter": "python",
   "pygments_lexer": "ipython3",
   "version": "3.7.4"
  }
 },
 "nbformat": 4,
 "nbformat_minor": 4
}
