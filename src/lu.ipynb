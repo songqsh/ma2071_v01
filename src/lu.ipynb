{
  "nbformat": 4,
  "nbformat_minor": 0,
  "metadata": {
    "colab": {
      "name": "lu.ipynb",
      "version": "0.3.2",
      "provenance": [],
      "include_colab_link": true
    },
    "kernelspec": {
      "name": "python3",
      "display_name": "Python 3"
    }
  },
  "cells": [
    {
      "cell_type": "markdown",
      "metadata": {
        "id": "view-in-github",
        "colab_type": "text"
      },
      "source": [
        "<a href=\"https://colab.research.google.com/github/songqsh/ma2071_v01/blob/master/src/lu.ipynb\" target=\"_parent\"><img src=\"https://colab.research.google.com/assets/colab-badge.svg\" alt=\"Open In Colab\"/></a>"
      ]
    },
    {
      "metadata": {
        "id": "SwV5hWzHqCRJ",
        "colab_type": "code",
        "colab": {}
      },
      "cell_type": "code",
      "source": [
        "from sympy import init_printing, Matrix, symbols, eye, printing\n",
        "def custom_latex_printer(exp,**options):\n",
        "    from google.colab.output._publish import javascript\n",
        "    url = \"https://cdnjs.cloudflare.com/ajax/libs/mathjax/2.7.3/latest.js?config=default\"\n",
        "    javascript(url=url)\n",
        "    return printing.latex(exp,**options)\n",
        "init_printing(use_latex=\"mathjax\",latex_printer=custom_latex_printer)\n",
        "lamda = symbols('lamda') # Note that lambda is a reserved word in python, so we use lamda (without the b)"
      ],
      "execution_count": 0,
      "outputs": []
    },
    {
      "metadata": {
        "id": "_y9e2uZrqyab",
        "colab_type": "text"
      },
      "cell_type": "markdown",
      "source": [
        "# LU decomposition of a matrix A\n",
        "\n",
        "* We will decompose the matrix A into and upper and lower triangular matrix, such that multiplying these will result back into A\n",
        "$$ A = LU $$\n",
        "* Given LU decomposition, it is easy to solve for $Ax = b$ by two steps:\n",
        "  * Solve for $y$ from $Ly = b$ by forward substitution\n",
        "  * Solve for $x$ from $Ux = y$ by backward substitution\n"
      ]
    },
    {
      "metadata": {
        "id": "ZStIkOgjrmQx",
        "colab_type": "text"
      },
      "cell_type": "markdown",
      "source": [
        "\n",
        "## Turning the matrix of coefficients into <u>U</u>pper triangular form\n",
        "\n",
        "* Consider the following matrix of coefficients\n",
        "$$ \\begin{bmatrix} 1 & -2 & 1 \\\\ 3 & 2 & -2 \\\\ 6 & -1 & -1 \\end{bmatrix} $$\n",
        "* Successive elementary row operation follow\n",
        "    * Which is nothing other than matrix multiplication of the __elementary matrices__\n",
        "    * An elementary matrix is an identity matrix on which one elementary row operation was performed. For instance, to eliminate $A_{ji}$ for some $j>i$, we usually use\n",
        "    $$E_{ji} = (c \\cdot r_i + r_j \\to r_j) = I + e_{ji}.$$\n",
        "    * row exchange shall not be used."
      ]
    },
    {
      "metadata": {
        "id": "rXv7mKKNqLC3",
        "colab_type": "code",
        "colab": {}
      },
      "cell_type": "code",
      "source": [
        ""
      ],
      "execution_count": 0,
      "outputs": []
    }
  ]
}