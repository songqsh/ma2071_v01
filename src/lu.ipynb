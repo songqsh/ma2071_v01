{
  "nbformat": 4,
  "nbformat_minor": 0,
  "metadata": {
    "colab": {
      "name": "lu.ipynb",
      "version": "0.3.2",
      "provenance": [],
      "include_colab_link": true
    },
    "kernelspec": {
      "display_name": "Python 3",
      "language": "python",
      "name": "python3"
    }
  },
  "cells": [
    {
      "cell_type": "markdown",
      "metadata": {
        "id": "view-in-github",
        "colab_type": "text"
      },
      "source": [
        "<a href=\"https://colab.research.google.com/github/songqsh/ma2071_v01/blob/master/src/lu.ipynb\" target=\"_parent\"><img src=\"https://colab.research.google.com/assets/colab-badge.svg\" alt=\"Open In Colab\"/></a>"
      ]
    },
    {
      "metadata": {
        "colab_type": "code",
        "id": "SwV5hWzHqCRJ",
        "colab": {}
      },
      "cell_type": "code",
      "source": [
        "from sympy import init_printing, Matrix, symbols, eye, printing\n",
        "\n",
        "lamda = symbols('lamda') # Note that lambda is a reserved word in python, so we use lamda (without the b)\n",
        "\n",
        "def custom_latex_printer(exp,**options):\n",
        "    from google.colab.output._publish import javascript\n",
        "    url = \"https://cdnjs.cloudflare.com/ajax/libs/mathjax/2.7.3/latest.js?config=default\"\n",
        "    javascript(url=url)\n",
        "    return printing.latex(exp,**options)\n",
        "\n",
        "init_printing(use_latex=\"mathjax\",latex_printer=custom_latex_printer)"
      ],
      "execution_count": 0,
      "outputs": []
    },
    {
      "metadata": {
        "colab_type": "text",
        "id": "_y9e2uZrqyab"
      },
      "cell_type": "markdown",
      "source": [
        "# LU decomposition of a matrix A\n",
        "\n",
        "## Definitions\n",
        "\n",
        "* We will decompose the matrix A into and upper and lower triangular matrix, such that multiplying these will result back into A\n",
        "$$ A = LU $$\n",
        "* Given LU decomposition, it is easy to solve for $Ax = b$ by two steps:\n",
        "  * Solve for $y$ from $Ly = b$ by forward substitution\n",
        "  * Solve for $x$ from $Ux = y$ by backward substitution\n",
        "* This approach has $\\frac 2 3 n^3$ flops for $Ax = b$, while $x = A^{-1} b$ needs $2 n^3$ flops.\n",
        "\n",
        "* If $A$ is sparse, the form of $L$ and $U$ are likely to be sparse, while $A^{-1}$ be dense."
      ]
    },
    {
      "metadata": {
        "colab_type": "text",
        "id": "ZStIkOgjrmQx"
      },
      "cell_type": "markdown",
      "source": [
        "\n",
        "## How to obtain LU factorization\n",
        "\n",
        "* Consider the following matrix of coefficients\n",
        "$$ \\begin{bmatrix} 1 & -2 & 1 \\\\ 3 & 2 & -2 \\\\ 6 & -1 & -1 \\end{bmatrix} $$\n",
        "* Successive elementary row operation follow\n",
        "$$E_{32}*E_{31}*E_{21}*A = U.$$\n",
        "    * Which is nothing other than matrix multiplication of the __elementary matrices__\n",
        "    * An elementary matrix is an identity matrix on which one elementary row operation was performed. For instance, to eliminate $A_{ji}$ for some $j>i$, we usually use\n",
        "    $$E_{ji} = (c \\cdot r_i + r_j \\to r_j) = I + c e_{ji}.$$\n",
        "    * row exchange shall not be used.\n",
        "* Lower triangular matrix is\n",
        "$$L = (E_{32}*E_{31}*E_{21})^{-1}.$$\n",
        "  * Note that $(E_{ji})^{-1} = I - c e_{ji}$ for any $j>i$."
      ]
    },
    {
      "metadata": {
        "colab_type": "code",
        "id": "rXv7mKKNqLC3",
        "outputId": "4bd6b046-c149-4bf1-ae98-4e476a792cb6",
        "colab": {
          "base_uri": "https://localhost:8080/",
          "height": 113
        }
      },
      "cell_type": "code",
      "source": [
        "A = Matrix([[1, -2, 1], [3, 2, -2], [6, -1, -1]])\n",
        "A"
      ],
      "execution_count": 2,
      "outputs": [
        {
          "output_type": "display_data",
          "data": {
            "text/html": [
              "<script src='https://cdnjs.cloudflare.com/ajax/libs/mathjax/2.7.3/latest.js?config=default'></script>"
            ],
            "text/plain": [
              "<IPython.core.display.HTML object>"
            ]
          },
          "metadata": {
            "tags": []
          }
        },
        {
          "output_type": "execute_result",
          "data": {
            "text/latex": "$$\\left[\\begin{matrix}1 & -2 & 1\\\\3 & 2 & -2\\\\6 & -1 & -1\\end{matrix}\\right]$$",
            "text/plain": [
              "⎡1  -2  1 ⎤\n",
              "⎢         ⎥\n",
              "⎢3  2   -2⎥\n",
              "⎢         ⎥\n",
              "⎣6  -1  -1⎦"
            ]
          },
          "metadata": {
            "tags": []
          },
          "execution_count": 2
        }
      ]
    },
    {
      "metadata": {
        "colab_type": "code",
        "id": "gJB3Zqf3vJ9Q",
        "outputId": "21d5eac0-55b8-458a-e03f-c358bef0c5cb",
        "colab": {
          "base_uri": "https://localhost:8080/",
          "height": 113
        }
      },
      "cell_type": "code",
      "source": [
        "'''=============\n",
        "E21 = (-3 * r1 + r2 --> r2) = -3 * e21 + I\n",
        "==============='''\n",
        "\n",
        "E21 = eye(3); E21[1,0] = -3\n",
        "E21"
      ],
      "execution_count": 3,
      "outputs": [
        {
          "output_type": "display_data",
          "data": {
            "text/html": [
              "<script src='https://cdnjs.cloudflare.com/ajax/libs/mathjax/2.7.3/latest.js?config=default'></script>"
            ],
            "text/plain": [
              "<IPython.core.display.HTML object>"
            ]
          },
          "metadata": {
            "tags": []
          }
        },
        {
          "output_type": "execute_result",
          "data": {
            "text/latex": "$$\\left[\\begin{matrix}1 & 0 & 0\\\\-3 & 1 & 0\\\\0 & 0 & 1\\end{matrix}\\right]$$",
            "text/plain": [
              "⎡1   0  0⎤\n",
              "⎢        ⎥\n",
              "⎢-3  1  0⎥\n",
              "⎢        ⎥\n",
              "⎣0   0  1⎦"
            ]
          },
          "metadata": {
            "tags": []
          },
          "execution_count": 3
        }
      ]
    },
    {
      "metadata": {
        "colab_type": "code",
        "id": "Iqo4iHUAwO3b",
        "outputId": "a61e6c1e-7b53-4a86-f4e1-cbbc69c5b7fc",
        "colab": {
          "base_uri": "https://localhost:8080/",
          "height": 113
        }
      },
      "cell_type": "code",
      "source": [
        "E21*A"
      ],
      "execution_count": 4,
      "outputs": [
        {
          "output_type": "display_data",
          "data": {
            "text/html": [
              "<script src='https://cdnjs.cloudflare.com/ajax/libs/mathjax/2.7.3/latest.js?config=default'></script>"
            ],
            "text/plain": [
              "<IPython.core.display.HTML object>"
            ]
          },
          "metadata": {
            "tags": []
          }
        },
        {
          "output_type": "execute_result",
          "data": {
            "text/latex": "$$\\left[\\begin{matrix}1 & -2 & 1\\\\0 & 8 & -5\\\\6 & -1 & -1\\end{matrix}\\right]$$",
            "text/plain": [
              "⎡1  -2  1 ⎤\n",
              "⎢         ⎥\n",
              "⎢0  8   -5⎥\n",
              "⎢         ⎥\n",
              "⎣6  -1  -1⎦"
            ]
          },
          "metadata": {
            "tags": []
          },
          "execution_count": 4
        }
      ]
    },
    {
      "metadata": {
        "colab_type": "code",
        "id": "CfIrTrtoyI3k",
        "outputId": "df47d3dc-c4ce-4bb3-8be3-969dce5f71e6",
        "colab": {
          "base_uri": "https://localhost:8080/",
          "height": 113
        }
      },
      "cell_type": "code",
      "source": [
        "'''=============\n",
        "E31 = (-6 * r1 + r3 --> r3) = -6 * e31 + I\n",
        "==============='''\n",
        "\n",
        "E31 = eye(3); E31[2,0] = -6\n",
        "E31"
      ],
      "execution_count": 5,
      "outputs": [
        {
          "output_type": "display_data",
          "data": {
            "text/html": [
              "<script src='https://cdnjs.cloudflare.com/ajax/libs/mathjax/2.7.3/latest.js?config=default'></script>"
            ],
            "text/plain": [
              "<IPython.core.display.HTML object>"
            ]
          },
          "metadata": {
            "tags": []
          }
        },
        {
          "output_type": "execute_result",
          "data": {
            "text/latex": "$$\\left[\\begin{matrix}1 & 0 & 0\\\\0 & 1 & 0\\\\-6 & 0 & 1\\end{matrix}\\right]$$",
            "text/plain": [
              "⎡1   0  0⎤\n",
              "⎢        ⎥\n",
              "⎢0   1  0⎥\n",
              "⎢        ⎥\n",
              "⎣-6  0  1⎦"
            ]
          },
          "metadata": {
            "tags": []
          },
          "execution_count": 5
        }
      ]
    },
    {
      "metadata": {
        "colab_type": "code",
        "id": "kcX0kveOzHCB",
        "outputId": "47b75ad2-8d4b-4bf6-fbed-1381fbe76473",
        "colab": {
          "base_uri": "https://localhost:8080/",
          "height": 113
        }
      },
      "cell_type": "code",
      "source": [
        "E31*E21*A"
      ],
      "execution_count": 6,
      "outputs": [
        {
          "output_type": "display_data",
          "data": {
            "text/html": [
              "<script src='https://cdnjs.cloudflare.com/ajax/libs/mathjax/2.7.3/latest.js?config=default'></script>"
            ],
            "text/plain": [
              "<IPython.core.display.HTML object>"
            ]
          },
          "metadata": {
            "tags": []
          }
        },
        {
          "output_type": "execute_result",
          "data": {
            "text/latex": "$$\\left[\\begin{matrix}1 & -2 & 1\\\\0 & 8 & -5\\\\0 & 11 & -7\\end{matrix}\\right]$$",
            "text/plain": [
              "⎡1  -2  1 ⎤\n",
              "⎢         ⎥\n",
              "⎢0  8   -5⎥\n",
              "⎢         ⎥\n",
              "⎣0  11  -7⎦"
            ]
          },
          "metadata": {
            "tags": []
          },
          "execution_count": 6
        }
      ]
    },
    {
      "metadata": {
        "colab_type": "code",
        "id": "HfLlvi4PzNyM",
        "outputId": "947e45b0-63ec-4b61-bc08-21fb4075b460",
        "colab": {
          "base_uri": "https://localhost:8080/",
          "height": 113
        }
      },
      "cell_type": "code",
      "source": [
        "'''=============\n",
        "E32 = (-11/8 * r2 + r3 --> r3) = -11/8 * e32 + I\n",
        "==============='''\n",
        "\n",
        "E32 = eye(3); E32[2,1] = -11/8\n",
        "E32"
      ],
      "execution_count": 7,
      "outputs": [
        {
          "output_type": "display_data",
          "data": {
            "text/html": [
              "<script src='https://cdnjs.cloudflare.com/ajax/libs/mathjax/2.7.3/latest.js?config=default'></script>"
            ],
            "text/plain": [
              "<IPython.core.display.HTML object>"
            ]
          },
          "metadata": {
            "tags": []
          }
        },
        {
          "output_type": "execute_result",
          "data": {
            "text/latex": "$$\\left[\\begin{matrix}1 & 0 & 0\\\\0 & 1 & 0\\\\0 & -1.375 & 1\\end{matrix}\\right]$$",
            "text/plain": [
              "⎡1    0     0⎤\n",
              "⎢            ⎥\n",
              "⎢0    1     0⎥\n",
              "⎢            ⎥\n",
              "⎣0  -1.375  1⎦"
            ]
          },
          "metadata": {
            "tags": []
          },
          "execution_count": 7
        }
      ]
    },
    {
      "metadata": {
        "colab_type": "code",
        "id": "ozHRSsbKzwtL",
        "outputId": "3297e610-49d9-406a-d3c4-c6fe093a36d2",
        "colab": {
          "base_uri": "https://localhost:8080/",
          "height": 113
        }
      },
      "cell_type": "code",
      "source": [
        "'''=============\n",
        "it ends up with upper triangular U\n",
        "==============='''\n",
        "E32*E31*E21*A"
      ],
      "execution_count": 8,
      "outputs": [
        {
          "output_type": "display_data",
          "data": {
            "text/html": [
              "<script src='https://cdnjs.cloudflare.com/ajax/libs/mathjax/2.7.3/latest.js?config=default'></script>"
            ],
            "text/plain": [
              "<IPython.core.display.HTML object>"
            ]
          },
          "metadata": {
            "tags": []
          }
        },
        {
          "output_type": "execute_result",
          "data": {
            "text/latex": "$$\\left[\\begin{matrix}1 & -2 & 1\\\\0 & 8 & -5\\\\0 & 0 & -0.125\\end{matrix}\\right]$$",
            "text/plain": [
              "⎡1  -2    1   ⎤\n",
              "⎢             ⎥\n",
              "⎢0  8     -5  ⎥\n",
              "⎢             ⎥\n",
              "⎣0  0   -0.125⎦"
            ]
          },
          "metadata": {
            "tags": []
          },
          "execution_count": 8
        }
      ]
    },
    {
      "metadata": {
        "colab_type": "code",
        "id": "HcXiTg0qz1AD",
        "outputId": "c8388621-9c18-4b49-f153-342a7c7abf60",
        "colab": {
          "base_uri": "https://localhost:8080/",
          "height": 113
        }
      },
      "cell_type": "code",
      "source": [
        "'''===========\n",
        "lower triangular L\n",
        "==============='''\n",
        "E21.inv()*E31.inv()*E32.inv()"
      ],
      "execution_count": 9,
      "outputs": [
        {
          "output_type": "display_data",
          "data": {
            "text/html": [
              "<script src='https://cdnjs.cloudflare.com/ajax/libs/mathjax/2.7.3/latest.js?config=default'></script>"
            ],
            "text/plain": [
              "<IPython.core.display.HTML object>"
            ]
          },
          "metadata": {
            "tags": []
          }
        },
        {
          "output_type": "execute_result",
          "data": {
            "text/latex": "$$\\left[\\begin{matrix}1 & 0 & 0\\\\3 & 1.0 & 0\\\\6 & 1.375 & 1\\end{matrix}\\right]$$",
            "text/plain": [
              "⎡1    0    0⎤\n",
              "⎢           ⎥\n",
              "⎢3   1.0   0⎥\n",
              "⎢           ⎥\n",
              "⎣6  1.375  1⎦"
            ]
          },
          "metadata": {
            "tags": []
          },
          "execution_count": 9
        }
      ]
    },
    {
      "metadata": {
        "colab_type": "text",
        "id": "cerQa_A00T7I"
      },
      "cell_type": "markdown",
      "source": [
        "There is one-shot method for LU factorization"
      ]
    },
    {
      "metadata": {
        "colab_type": "code",
        "id": "K8o-nAVC0Meq",
        "outputId": "28bc31a9-4e9b-455e-9257-26b8027d507b",
        "colab": {
          "base_uri": "https://localhost:8080/",
          "height": 118
        }
      },
      "cell_type": "code",
      "source": [
        "L, U, X = A.LUdecomposition()\n",
        "L"
      ],
      "execution_count": 10,
      "outputs": [
        {
          "output_type": "display_data",
          "data": {
            "text/html": [
              "<script src='https://cdnjs.cloudflare.com/ajax/libs/mathjax/2.7.3/latest.js?config=default'></script>"
            ],
            "text/plain": [
              "<IPython.core.display.HTML object>"
            ]
          },
          "metadata": {
            "tags": []
          }
        },
        {
          "output_type": "execute_result",
          "data": {
            "text/latex": "$$\\left[\\begin{matrix}1 & 0 & 0\\\\3 & 1 & 0\\\\6 & \\frac{11}{8} & 1\\end{matrix}\\right]$$",
            "text/plain": [
              "⎡1   0    0⎤\n",
              "⎢          ⎥\n",
              "⎢3   1    0⎥\n",
              "⎢          ⎥\n",
              "⎣6  11/8  1⎦"
            ]
          },
          "metadata": {
            "tags": []
          },
          "execution_count": 10
        }
      ]
    },
    {
      "metadata": {
        "colab_type": "code",
        "id": "X4UZ32ZM0lQq",
        "outputId": "c0417af0-aa3c-4efe-f795-178d4078c98a",
        "colab": {
          "base_uri": "https://localhost:8080/",
          "height": 118
        }
      },
      "cell_type": "code",
      "source": [
        "U"
      ],
      "execution_count": 11,
      "outputs": [
        {
          "output_type": "display_data",
          "data": {
            "text/html": [
              "<script src='https://cdnjs.cloudflare.com/ajax/libs/mathjax/2.7.3/latest.js?config=default'></script>"
            ],
            "text/plain": [
              "<IPython.core.display.HTML object>"
            ]
          },
          "metadata": {
            "tags": []
          }
        },
        {
          "output_type": "execute_result",
          "data": {
            "text/latex": "$$\\left[\\begin{matrix}1 & -2 & 1\\\\0 & 8 & -5\\\\0 & 0 & - \\frac{1}{8}\\end{matrix}\\right]$$",
            "text/plain": [
              "⎡1  -2   1  ⎤\n",
              "⎢           ⎥\n",
              "⎢0  8    -5 ⎥\n",
              "⎢           ⎥\n",
              "⎣0  0   -1/8⎦"
            ]
          },
          "metadata": {
            "tags": []
          },
          "execution_count": 11
        }
      ]
    },
    {
      "metadata": {
        "colab_type": "code",
        "id": "xRKmvF2b1Bxy",
        "colab": {}
      },
      "cell_type": "code",
      "source": [
        ""
      ],
      "execution_count": 0,
      "outputs": []
    },
    {
      "metadata": {
        "id": "M-7s7LZ5N8PX",
        "colab_type": "code",
        "colab": {}
      },
      "cell_type": "code",
      "source": [
        ""
      ],
      "execution_count": 0,
      "outputs": []
    }
  ]
}