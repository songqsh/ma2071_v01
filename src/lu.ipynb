{
  "nbformat": 4,
  "nbformat_minor": 0,
  "metadata": {
    "colab": {
      "name": "lu.ipynb",
      "version": "0.3.2",
      "provenance": [],
      "include_colab_link": true
    },
    "kernelspec": {
      "name": "python3",
      "display_name": "Python 3"
    }
  },
  "cells": [
    {
      "cell_type": "markdown",
      "metadata": {
        "id": "view-in-github",
        "colab_type": "text"
      },
      "source": [
        "<a href=\"https://colab.research.google.com/github/songqsh/ma2071_v01/blob/master/src/lu.ipynb\" target=\"_parent\"><img src=\"https://colab.research.google.com/assets/colab-badge.svg\" alt=\"Open In Colab\"/></a>"
      ]
    },
    {
      "metadata": {
        "id": "SwV5hWzHqCRJ",
        "colab_type": "code",
        "colab": {}
      },
      "cell_type": "code",
      "source": [
        "from sympy import init_printing, Matrix, symbols, eye, printing\n",
        "def custom_latex_printer(exp,**options):\n",
        "    from google.colab.output._publish import javascript\n",
        "    url = \"https://cdnjs.cloudflare.com/ajax/libs/mathjax/2.7.3/latest.js?config=default\"\n",
        "    javascript(url=url)\n",
        "    return printing.latex(exp,**options)\n",
        "init_printing(use_latex=\"mathjax\",latex_printer=custom_latex_printer)\n",
        "lamda = symbols('lamda') # Note that lambda is a reserved word in python, so we use lamda (without the b)"
      ],
      "execution_count": 0,
      "outputs": []
    },
    {
      "metadata": {
        "id": "_y9e2uZrqyab",
        "colab_type": "text"
      },
      "cell_type": "markdown",
      "source": [
        "# LU decomposition of a matrix A\n",
        "\n",
        "* We will decompose the matrix A into and upper and lower triangular matrix, such that multiplying these will result back into A\n",
        "$$ A = LU $$\n",
        "* Given LU decomposition, it is easy to solve for $Ax = b$ by two steps:\n",
        "  * Solve for $y$ from $Ly = b$ by forward substitution\n",
        "  * Solve for $x$ from $Ux = y$ by backward substitution\n"
      ]
    },
    {
      "metadata": {
        "id": "ZStIkOgjrmQx",
        "colab_type": "text"
      },
      "cell_type": "markdown",
      "source": [
        "\n",
        "## Turning the matrix of coefficients into <u>U</u>pper triangular form\n",
        "\n",
        "* Consider the following matrix of coefficients\n",
        "$$ \\begin{bmatrix} 1 & -2 & 1 \\\\ 3 & 2 & -2 \\\\ 6 & -1 & -1 \\end{bmatrix} $$\n",
        "* Successive elementary row operation follow\n",
        "    * Which is nothing other than matrix multiplication of the __elementary matrices__\n",
        "    * An elementary matrix is an identity matrix on which one elementary row operation was performed. For instance, to eliminate $A_{ji}$ for some $j>i$, we usually use\n",
        "    $$E_{ji} = (c \\cdot r_i + r_j \\to r_j) = I + c e_{ji}.$$\n",
        "    * row exchange shall not be used."
      ]
    },
    {
      "metadata": {
        "id": "rXv7mKKNqLC3",
        "colab_type": "code",
        "outputId": "90afc8d8-e86f-4627-9f68-71a9368a6920",
        "colab": {
          "base_uri": "https://localhost:8080/",
          "height": 113
        }
      },
      "cell_type": "code",
      "source": [
        "A = Matrix([[1, -2, 1], [3, 2, -2], [6, -1, -1]])\n",
        "A"
      ],
      "execution_count": 3,
      "outputs": [
        {
          "output_type": "display_data",
          "data": {
            "text/html": [
              "<script src='https://cdnjs.cloudflare.com/ajax/libs/mathjax/2.7.3/latest.js?config=default'></script>"
            ],
            "text/plain": [
              "<IPython.core.display.HTML object>"
            ]
          },
          "metadata": {
            "tags": []
          }
        },
        {
          "output_type": "execute_result",
          "data": {
            "text/latex": "$$\\left[\\begin{matrix}1 & -2 & 1\\\\3 & 2 & -2\\\\6 & -1 & -1\\end{matrix}\\right]$$",
            "text/plain": [
              "⎡1  -2  1 ⎤\n",
              "⎢         ⎥\n",
              "⎢3  2   -2⎥\n",
              "⎢         ⎥\n",
              "⎣6  -1  -1⎦"
            ]
          },
          "metadata": {
            "tags": []
          },
          "execution_count": 3
        }
      ]
    },
    {
      "metadata": {
        "id": "gJB3Zqf3vJ9Q",
        "colab_type": "code",
        "colab": {
          "base_uri": "https://localhost:8080/",
          "height": 113
        },
        "outputId": "970dc58c-55f2-4667-ee77-b0a7778e998e"
      },
      "cell_type": "code",
      "source": [
        "'''=============\n",
        "E21 = (-3 * r1 + r2 --> r2) = -3 * e21 + I\n",
        "==============='''\n",
        "\n",
        "E21 = eye(3); E21[1,0] = -3\n",
        "E21"
      ],
      "execution_count": 16,
      "outputs": [
        {
          "output_type": "display_data",
          "data": {
            "text/html": [
              "<script src='https://cdnjs.cloudflare.com/ajax/libs/mathjax/2.7.3/latest.js?config=default'></script>"
            ],
            "text/plain": [
              "<IPython.core.display.HTML object>"
            ]
          },
          "metadata": {
            "tags": []
          }
        },
        {
          "output_type": "execute_result",
          "data": {
            "text/latex": "$$\\left[\\begin{matrix}1 & 0 & 0\\\\-3 & 1 & 0\\\\0 & 0 & 1\\end{matrix}\\right]$$",
            "text/plain": [
              "⎡1   0  0⎤\n",
              "⎢        ⎥\n",
              "⎢-3  1  0⎥\n",
              "⎢        ⎥\n",
              "⎣0   0  1⎦"
            ]
          },
          "metadata": {
            "tags": []
          },
          "execution_count": 16
        }
      ]
    },
    {
      "metadata": {
        "id": "Iqo4iHUAwO3b",
        "colab_type": "code",
        "colab": {
          "base_uri": "https://localhost:8080/",
          "height": 113
        },
        "outputId": "24094bd3-fbe2-4abc-cc5c-f53ce3a37540"
      },
      "cell_type": "code",
      "source": [
        "E21*A"
      ],
      "execution_count": 17,
      "outputs": [
        {
          "output_type": "display_data",
          "data": {
            "text/html": [
              "<script src='https://cdnjs.cloudflare.com/ajax/libs/mathjax/2.7.3/latest.js?config=default'></script>"
            ],
            "text/plain": [
              "<IPython.core.display.HTML object>"
            ]
          },
          "metadata": {
            "tags": []
          }
        },
        {
          "output_type": "execute_result",
          "data": {
            "text/latex": "$$\\left[\\begin{matrix}1 & -2 & 1\\\\0 & 8 & -5\\\\6 & -1 & -1\\end{matrix}\\right]$$",
            "text/plain": [
              "⎡1  -2  1 ⎤\n",
              "⎢         ⎥\n",
              "⎢0  8   -5⎥\n",
              "⎢         ⎥\n",
              "⎣6  -1  -1⎦"
            ]
          },
          "metadata": {
            "tags": []
          },
          "execution_count": 17
        }
      ]
    },
    {
      "metadata": {
        "id": "CfIrTrtoyI3k",
        "colab_type": "code",
        "colab": {
          "base_uri": "https://localhost:8080/",
          "height": 113
        },
        "outputId": "caa89364-b1c5-41db-966f-05c0a6f6a5bd"
      },
      "cell_type": "code",
      "source": [
        "'''=============\n",
        "E31 = (-6 * r1 + r3 --> r3) = -6 * e31 + I\n",
        "==============='''\n",
        "\n",
        "E31 = eye(3); E31[2,0] = -6\n",
        "E31"
      ],
      "execution_count": 18,
      "outputs": [
        {
          "output_type": "display_data",
          "data": {
            "text/html": [
              "<script src='https://cdnjs.cloudflare.com/ajax/libs/mathjax/2.7.3/latest.js?config=default'></script>"
            ],
            "text/plain": [
              "<IPython.core.display.HTML object>"
            ]
          },
          "metadata": {
            "tags": []
          }
        },
        {
          "output_type": "execute_result",
          "data": {
            "text/latex": "$$\\left[\\begin{matrix}1 & 0 & 0\\\\0 & 1 & 0\\\\-6 & 0 & 1\\end{matrix}\\right]$$",
            "text/plain": [
              "⎡1   0  0⎤\n",
              "⎢        ⎥\n",
              "⎢0   1  0⎥\n",
              "⎢        ⎥\n",
              "⎣-6  0  1⎦"
            ]
          },
          "metadata": {
            "tags": []
          },
          "execution_count": 18
        }
      ]
    },
    {
      "metadata": {
        "id": "kcX0kveOzHCB",
        "colab_type": "code",
        "colab": {
          "base_uri": "https://localhost:8080/",
          "height": 113
        },
        "outputId": "f39d2367-1b1a-4e07-837f-17d5ecfcf032"
      },
      "cell_type": "code",
      "source": [
        "E31*E21*A"
      ],
      "execution_count": 19,
      "outputs": [
        {
          "output_type": "display_data",
          "data": {
            "text/html": [
              "<script src='https://cdnjs.cloudflare.com/ajax/libs/mathjax/2.7.3/latest.js?config=default'></script>"
            ],
            "text/plain": [
              "<IPython.core.display.HTML object>"
            ]
          },
          "metadata": {
            "tags": []
          }
        },
        {
          "output_type": "execute_result",
          "data": {
            "text/latex": "$$\\left[\\begin{matrix}1 & -2 & 1\\\\0 & 8 & -5\\\\0 & 11 & -7\\end{matrix}\\right]$$",
            "text/plain": [
              "⎡1  -2  1 ⎤\n",
              "⎢         ⎥\n",
              "⎢0  8   -5⎥\n",
              "⎢         ⎥\n",
              "⎣0  11  -7⎦"
            ]
          },
          "metadata": {
            "tags": []
          },
          "execution_count": 19
        }
      ]
    },
    {
      "metadata": {
        "id": "HfLlvi4PzNyM",
        "colab_type": "code",
        "colab": {
          "base_uri": "https://localhost:8080/",
          "height": 113
        },
        "outputId": "4c531253-bea4-4269-83f2-836ad4d1d150"
      },
      "cell_type": "code",
      "source": [
        "'''=============\n",
        "E32 = (-11/8 * r2 + r3 --> r3) = -11/8 * e32 + I\n",
        "==============='''\n",
        "\n",
        "E32 = eye(3); E32[2,1] = -11/8\n",
        "E32"
      ],
      "execution_count": 20,
      "outputs": [
        {
          "output_type": "display_data",
          "data": {
            "text/html": [
              "<script src='https://cdnjs.cloudflare.com/ajax/libs/mathjax/2.7.3/latest.js?config=default'></script>"
            ],
            "text/plain": [
              "<IPython.core.display.HTML object>"
            ]
          },
          "metadata": {
            "tags": []
          }
        },
        {
          "output_type": "execute_result",
          "data": {
            "text/latex": "$$\\left[\\begin{matrix}1 & 0 & 0\\\\0 & 1 & 0\\\\0 & -1.375 & 1\\end{matrix}\\right]$$",
            "text/plain": [
              "⎡1    0     0⎤\n",
              "⎢            ⎥\n",
              "⎢0    1     0⎥\n",
              "⎢            ⎥\n",
              "⎣0  -1.375  1⎦"
            ]
          },
          "metadata": {
            "tags": []
          },
          "execution_count": 20
        }
      ]
    },
    {
      "metadata": {
        "id": "ozHRSsbKzwtL",
        "colab_type": "code",
        "colab": {
          "base_uri": "https://localhost:8080/",
          "height": 113
        },
        "outputId": "8a2bd637-b605-489b-dc2d-ec4fb32b5025"
      },
      "cell_type": "code",
      "source": [
        "'''=============\n",
        "it ends up with upper triangular U\n",
        "==============='''\n",
        "E32*E31*E21*A"
      ],
      "execution_count": 22,
      "outputs": [
        {
          "output_type": "display_data",
          "data": {
            "text/html": [
              "<script src='https://cdnjs.cloudflare.com/ajax/libs/mathjax/2.7.3/latest.js?config=default'></script>"
            ],
            "text/plain": [
              "<IPython.core.display.HTML object>"
            ]
          },
          "metadata": {
            "tags": []
          }
        },
        {
          "output_type": "execute_result",
          "data": {
            "text/latex": "$$\\left[\\begin{matrix}1 & -2 & 1\\\\0 & 8 & -5\\\\0 & 0 & -0.125\\end{matrix}\\right]$$",
            "text/plain": [
              "⎡1  -2    1   ⎤\n",
              "⎢             ⎥\n",
              "⎢0  8     -5  ⎥\n",
              "⎢             ⎥\n",
              "⎣0  0   -0.125⎦"
            ]
          },
          "metadata": {
            "tags": []
          },
          "execution_count": 22
        }
      ]
    },
    {
      "metadata": {
        "id": "HcXiTg0qz1AD",
        "colab_type": "code",
        "colab": {
          "base_uri": "https://localhost:8080/",
          "height": 113
        },
        "outputId": "fd001b3a-bd22-420a-d23c-381c4e2a72bc"
      },
      "cell_type": "code",
      "source": [
        "'''===========\n",
        "lower triangular L\n",
        "==============='''\n",
        "E21.inv()*E31.inv()*E32.inv()"
      ],
      "execution_count": 24,
      "outputs": [
        {
          "output_type": "display_data",
          "data": {
            "text/html": [
              "<script src='https://cdnjs.cloudflare.com/ajax/libs/mathjax/2.7.3/latest.js?config=default'></script>"
            ],
            "text/plain": [
              "<IPython.core.display.HTML object>"
            ]
          },
          "metadata": {
            "tags": []
          }
        },
        {
          "output_type": "execute_result",
          "data": {
            "text/latex": "$$\\left[\\begin{matrix}1 & 0 & 0\\\\3 & 1.0 & 0\\\\6 & 1.375 & 1\\end{matrix}\\right]$$",
            "text/plain": [
              "⎡1    0    0⎤\n",
              "⎢           ⎥\n",
              "⎢3   1.0   0⎥\n",
              "⎢           ⎥\n",
              "⎣6  1.375  1⎦"
            ]
          },
          "metadata": {
            "tags": []
          },
          "execution_count": 24
        }
      ]
    },
    {
      "metadata": {
        "id": "cerQa_A00T7I",
        "colab_type": "text"
      },
      "cell_type": "markdown",
      "source": [
        "There is one-shot method for LU factorization"
      ]
    },
    {
      "metadata": {
        "id": "K8o-nAVC0Meq",
        "colab_type": "code",
        "colab": {
          "base_uri": "https://localhost:8080/",
          "height": 118
        },
        "outputId": "b1688d10-5ab4-4395-a402-e0120d30b758"
      },
      "cell_type": "code",
      "source": [
        "L, U, X = A.LUdecomposition()\n",
        "L"
      ],
      "execution_count": 28,
      "outputs": [
        {
          "output_type": "display_data",
          "data": {
            "text/html": [
              "<script src='https://cdnjs.cloudflare.com/ajax/libs/mathjax/2.7.3/latest.js?config=default'></script>"
            ],
            "text/plain": [
              "<IPython.core.display.HTML object>"
            ]
          },
          "metadata": {
            "tags": []
          }
        },
        {
          "output_type": "execute_result",
          "data": {
            "text/latex": "$$\\left[\\begin{matrix}1 & 0 & 0\\\\3 & 1 & 0\\\\6 & \\frac{11}{8} & 1\\end{matrix}\\right]$$",
            "text/plain": [
              "⎡1   0    0⎤\n",
              "⎢          ⎥\n",
              "⎢3   1    0⎥\n",
              "⎢          ⎥\n",
              "⎣6  11/8  1⎦"
            ]
          },
          "metadata": {
            "tags": []
          },
          "execution_count": 28
        }
      ]
    },
    {
      "metadata": {
        "id": "X4UZ32ZM0lQq",
        "colab_type": "code",
        "colab": {
          "base_uri": "https://localhost:8080/",
          "height": 118
        },
        "outputId": "81f42fd1-3775-486a-908a-b8e216b7f330"
      },
      "cell_type": "code",
      "source": [
        "U"
      ],
      "execution_count": 29,
      "outputs": [
        {
          "output_type": "display_data",
          "data": {
            "text/html": [
              "<script src='https://cdnjs.cloudflare.com/ajax/libs/mathjax/2.7.3/latest.js?config=default'></script>"
            ],
            "text/plain": [
              "<IPython.core.display.HTML object>"
            ]
          },
          "metadata": {
            "tags": []
          }
        },
        {
          "output_type": "execute_result",
          "data": {
            "text/latex": "$$\\left[\\begin{matrix}1 & -2 & 1\\\\0 & 8 & -5\\\\0 & 0 & - \\frac{1}{8}\\end{matrix}\\right]$$",
            "text/plain": [
              "⎡1  -2   1  ⎤\n",
              "⎢           ⎥\n",
              "⎢0  8    -5 ⎥\n",
              "⎢           ⎥\n",
              "⎣0  0   -1/8⎦"
            ]
          },
          "metadata": {
            "tags": []
          },
          "execution_count": 29
        }
      ]
    },
    {
      "metadata": {
        "id": "xRKmvF2b1Bxy",
        "colab_type": "code",
        "colab": {}
      },
      "cell_type": "code",
      "source": [
        ""
      ],
      "execution_count": 0,
      "outputs": []
    }
  ]
}